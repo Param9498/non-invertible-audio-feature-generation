{
 "cells": [
  {
   "cell_type": "markdown",
   "metadata": {},
   "source": [
    "## Downstream Task - speaker identification on 30 speakers"
   ]
  },
  {
   "cell_type": "code",
   "execution_count": 9,
   "metadata": {},
   "outputs": [],
   "source": [
    "import os\n",
    "import random\n",
    "import numpy as np\n",
    "import pandas as pd\n",
    "from math import ceil\n",
    "from tqdm import tqdm\n",
    "import tensorflow as tf\n",
    "from sklearn.metrics import accuracy_score\n",
    "from sklearn.metrics import confusion_matrix\n",
    "from sklearn.svm import LinearSVC\n",
    "from sklearn.svm import SVC\n",
    "from sklearn.linear_model import SGDClassifier\n",
    "from sklearn.neural_network import MLPClassifier\n",
    "from sklearn.neighbors import KNeighborsClassifier\n",
    "from sklearn.ensemble import RandomForestClassifier\n",
    "from sklearn import decomposition\n",
    "from statistics import mode\n"
   ]
  },
  {
   "cell_type": "code",
   "execution_count": 63,
   "metadata": {},
   "outputs": [],
   "source": [
    "speaker_id = ['1069','289','39','6181','8226','1334','3242','412','6272','831',\n",
    "              '1553','332','5163','7402','8465','1737','3436','6000','7800',\n",
    "              '8609','2159','3440','6064','7859','8770','2384','3807','6081',\n",
    "              '8095','8975']"
   ]
  },
  {
   "cell_type": "code",
   "execution_count": null,
   "metadata": {},
   "outputs": [],
   "source": [
    "DATA_FOLDER = r'/Users/ruoyuzhu/30-speakers/'"
   ]
  },
  {
   "cell_type": "code",
   "execution_count": 32,
   "metadata": {},
   "outputs": [
    {
     "name": "stdout",
     "output_type": "stream",
     "text": [
      "121 3436\n",
      "[[7 0 0 ... 3 3 3]\n",
      " [7 0 0 ... 3 3 3]\n",
      " [7 0 0 ... 3 3 3]\n",
      " ...\n",
      " [0 7 0 ... 3 3 3]\n",
      " [0 7 0 ... 3 3 3]\n",
      " [6 7 0 ... 3 3 3]]\n",
      "(121,)\n",
      "(121, 6144)\n",
      "count 1.0 path /Users/ruoyuzhu/30-speakers/train/quantized_3bit/7859-102518-0014.npy\n",
      "(6039, 6144)\n",
      "count 2.0 path /Users/ruoyuzhu/30-speakers/train/quantized_3bit/8770-295462-0007.npy\n",
      "(11490, 6144)\n",
      "count 3.0 path /Users/ruoyuzhu/30-speakers/train/quantized_3bit/6000-55211-0048.npy\n",
      "(18084, 6144)\n",
      "count 4.0 path /Users/ruoyuzhu/30-speakers/train/quantized_3bit/8465-246940-0021.npy\n",
      "(24208, 6144)\n",
      "count 5.0 path /Users/ruoyuzhu/30-speakers/train/quantized_3bit/6000-55211-0049.npy\n",
      "(30201, 6144)\n",
      "count 6.0 path /Users/ruoyuzhu/30-speakers/train/quantized_3bit/39-121916-0013.npy\n",
      "(36399, 6144)\n",
      "count 7.0 path /Users/ruoyuzhu/30-speakers/train/quantized_3bit/831-130739-0026.npy\n",
      "(42132, 6144)\n",
      "count 8.0 path /Users/ruoyuzhu/30-speakers/train/quantized_3bit/6181-216552-0097.npy\n",
      "(47849, 6144)\n",
      "count 9.0 path /Users/ruoyuzhu/30-speakers/train/quantized_3bit/1737-146161-0015.npy\n",
      "(53789, 6144)\n",
      "count 10.0 path /Users/ruoyuzhu/30-speakers/train/quantized_3bit/7402-90848-0061.npy\n",
      "(59582, 6144)\n",
      "count 11.0 path /Users/ruoyuzhu/30-speakers/train/quantized_3bit/3440-171006-0009.npy\n",
      "(65574, 6144)\n",
      "count 12.0 path /Users/ruoyuzhu/30-speakers/train/quantized_3bit/8975-270782-0080.npy\n",
      "(71840, 6144)\n",
      "count 13.0 path /Users/ruoyuzhu/30-speakers/train/quantized_3bit/7859-102521-0006.npy\n",
      "(78242, 6144)\n",
      "count 14.0 path /Users/ruoyuzhu/30-speakers/train/quantized_3bit/6000-55211-0003.npy\n",
      "(84440, 6144)\n",
      "count 15.0 path /Users/ruoyuzhu/30-speakers/train/quantized_3bit/8095-274345-0012.npy\n",
      "(90456, 6144)\n",
      "count 16.0 path /Users/ruoyuzhu/30-speakers/train/quantized_3bit/6000-55211-0002.npy\n",
      "(96075, 6144)\n",
      "count 17.0 path /Users/ruoyuzhu/30-speakers/train/quantized_3bit/7800-283493-0000.npy\n",
      "(102276, 6144)\n",
      "count 18.0 path /Users/ruoyuzhu/30-speakers/train/quantized_3bit/2384-152900-0076.npy\n",
      "(107973, 6144)\n",
      "count 19.0 path /Users/ruoyuzhu/30-speakers/train/quantized_3bit/7800-283492-0001.npy\n",
      "(114120, 6144)\n",
      "count 20.0 path /Users/ruoyuzhu/30-speakers/train/quantized_3bit/7800-283492-0017.npy\n",
      "(120486, 6144)\n",
      "count 21.0 path /Users/ruoyuzhu/30-speakers/train/quantized_3bit/8975-270782-0084.npy\n",
      "(126723, 6144)\n",
      "count 22.0 path /Users/ruoyuzhu/30-speakers/train/quantized_3bit/332-128985-0082.npy\n",
      "(132988, 6144)\n",
      "count 23.0 path /Users/ruoyuzhu/30-speakers/train/quantized_3bit/2159-179156-0016.npy\n",
      "(138843, 6144)\n",
      "count 24.0 path /Users/ruoyuzhu/30-speakers/train/quantized_3bit/831-130746-0026.npy\n",
      "(145204, 6144)\n",
      "count 25.0 path /Users/ruoyuzhu/30-speakers/train/quantized_3bit/5163-18515-0029.npy\n",
      "(151480, 6144)\n",
      "count 26.0 path /Users/ruoyuzhu/30-speakers/train/quantized_3bit/8975-270782-0100.npy\n",
      "(157654, 6144)\n",
      "count 27.0 path /Users/ruoyuzhu/30-speakers/train/quantized_3bit/8609-283227-0024.npy\n",
      "(164012, 6144)\n",
      "count 28.0 path /Users/ruoyuzhu/30-speakers/train/quantized_3bit/8975-270782-0049.npy\n",
      "(170336, 6144)\n",
      "count 29.0 path /Users/ruoyuzhu/30-speakers/train/quantized_3bit/2159-179157-0028.npy\n",
      "(176280, 6144)\n",
      "count 30.0 path /Users/ruoyuzhu/30-speakers/train/quantized_3bit/7859-102521-0008.npy\n",
      "(182736, 6144)\n",
      "count 31.0 path /Users/ruoyuzhu/30-speakers/train/quantized_3bit/1069-133699-0052.npy\n",
      "(189174, 6144)\n",
      "count 32.0 path /Users/ruoyuzhu/30-speakers/train/quantized_3bit/7800-283493-0034.npy\n",
      "(194761, 6144)\n",
      "count 33.0 path /Users/ruoyuzhu/30-speakers/train/quantized_3bit/2159-179156-0007.npy\n",
      "(201085, 6144)\n",
      "count 34.0 path /Users/ruoyuzhu/30-speakers/train/quantized_3bit/1069-133699-0045.npy\n",
      "(206874, 6144)\n",
      "count 35.0 path /Users/ruoyuzhu/30-speakers/train/quantized_3bit/8226-274369-0021.npy\n",
      "(212939, 6144)\n",
      "count 36.0 path /Users/ruoyuzhu/30-speakers/train/quantized_3bit/831-130739-0000.npy\n",
      "(219392, 6144)\n",
      "count 37.0 path /Users/ruoyuzhu/30-speakers/train/quantized_3bit/412-126975-0083.npy\n",
      "(225495, 6144)\n",
      "count 38.0 path /Users/ruoyuzhu/30-speakers/train/quantized_3bit/3242-67153-0017.npy\n",
      "(231269, 6144)\n",
      "count 39.0 path /Users/ruoyuzhu/30-speakers/train/quantized_3bit/1334-135589-0032.npy\n",
      "(237604, 6144)\n",
      "count 40.0 path /Users/ruoyuzhu/30-speakers/train/quantized_3bit/3440-171009-0040.npy\n",
      "(243432, 6144)\n",
      "count 41.0 path /Users/ruoyuzhu/30-speakers/train/quantized_3bit/6081-42010-0013.npy\n",
      "(249615, 6144)\n",
      "count 42.0 path /Users/ruoyuzhu/30-speakers/train/quantized_3bit/3440-171009-0078.npy\n",
      "(255630, 6144)\n",
      "count 43.0 path /Users/ruoyuzhu/30-speakers/train/quantized_3bit/332-128985-0028.npy\n",
      "(261701, 6144)\n",
      "count 44.0 path /Users/ruoyuzhu/30-speakers/train/quantized_3bit/7402-59171-0010.npy\n",
      "(268277, 6144)\n",
      "count 45.0 path /Users/ruoyuzhu/30-speakers/train/quantized_3bit/1553-140047-0046.npy\n",
      "(273851, 6144)\n",
      "count 46.0 path /Users/ruoyuzhu/30-speakers/train/quantized_3bit/289-121665-0038.npy\n",
      "(279808, 6144)\n"
     ]
    }
   ],
   "source": [
    "#train\n",
    "import os\n",
    "\n",
    "directory = DATA_FOLDER + 'train/quantized_3bit/'  # 1bit, 2bit, 3bit, 4bit, 8bit, embedding_6144\n",
    "\n",
    "first = True\n",
    "count = 0\n",
    "X = np.zeros(6144)\n",
    "y = np.zeros(1)\n",
    "\n",
    "\n",
    "for entry in os.scandir(directory):\n",
    "    if (entry.path.endswith(\".npy\") and entry.is_file()):\n",
    "        \n",
    "        #counting\n",
    "        count += 1\n",
    "        if (count%50 == 0):\n",
    "            print('count',count/50,'path',entry.path)\n",
    "            print(X.shape)\n",
    "            \n",
    "        if first:\n",
    "            emb = np.load(entry.path) #load array \n",
    "            audio_size = emb.shape[0]  # how many 1s clips in each file\n",
    "            true_label = entry.path.split('/')[6].split('-')[0] #replace 3 by path number\n",
    "            print(audio_size, true_label)\n",
    "            print(emb)\n",
    "            X = emb\n",
    "            y = np.repeat(true_label, audio_size)\n",
    "            print(y.shape)\n",
    "            print(X.shape)\n",
    "            first = False\n",
    "        else:\n",
    "            emb = np.load(entry.path)\n",
    "            audio_size = emb.shape[0]\n",
    "            true_label = entry.path.split('/')[6].split('-')[0]  #label type = 'string'\n",
    "            X = np.concatenate((X, emb))\n",
    "            next_label = np.repeat(true_label, audio_size)\n",
    "            y = np.concatenate((y, next_label))\n",
    "\n",
    "        "
   ]
  },
  {
   "cell_type": "code",
   "execution_count": 33,
   "metadata": {},
   "outputs": [],
   "source": [
    "import pandas as pd \n",
    "pd.DataFrame(X).to_csv(\"X_quantized_3bit.csv\")\n",
    "pd.DataFrame(y).to_csv(\"y_quantized_3bit.csv\")"
   ]
  },
  {
   "cell_type": "code",
   "execution_count": 34,
   "metadata": {},
   "outputs": [
    {
     "name": "stdout",
     "output_type": "stream",
     "text": [
      "Fitting model..\n"
     ]
    }
   ],
   "source": [
    "clf_quantized_3bit = RandomForestClassifier(random_state=0)\n",
    "clf_quantized_3bit.fit(X, y)\n",
    "print('Fitting model..')"
   ]
  },
  {
   "cell_type": "code",
   "execution_count": 46,
   "metadata": {},
   "outputs": [],
   "source": [
    "#test per audio\n",
    "directory = DATA_FOLDER + 'test/quantized_3bit/'\n",
    "\n",
    "y_true = []\n",
    "y_pred = []\n",
    "first = True\n",
    "#emb_test = np.zeros(0)\n",
    "for entry in os.scandir(directory):\n",
    "    if (entry.path.endswith(\".npy\") and entry.is_file()):\n",
    "        emb_test = np.load(entry.path)\n",
    "        #audio_size = emb.shape[0]\n",
    "        \n",
    "        #print(entry.path)\n",
    "        #print(emb_test)\n",
    "        \n",
    "        true_label = entry.path.split('/')[6].split('-')[0]  #label type = 'string'\n",
    "        predict_label = mode(clf_quantized_2bit.predict(emb_test))\n",
    "        #print(y_true, y_pred)\n",
    "        y_true.append(true_label)\n",
    "        y_pred.append(predict_label)\n",
    "            \n"
   ]
  },
  {
   "cell_type": "code",
   "execution_count": 47,
   "metadata": {},
   "outputs": [],
   "source": [
    "# per audio result \n",
    "conf_matrix = confusion_matrix(y_true, y_pred)\n",
    "acc = accuracy_score(y_true, y_pred)"
   ]
  },
  {
   "cell_type": "code",
   "execution_count": 48,
   "metadata": {},
   "outputs": [
    {
     "data": {
      "text/plain": [
       "1.0"
      ]
     },
     "execution_count": 48,
     "metadata": {},
     "output_type": "execute_result"
    }
   ],
   "source": [
    "acc"
   ]
  },
  {
   "cell_type": "code",
   "execution_count": 56,
   "metadata": {},
   "outputs": [],
   "source": [
    "#test per frame\n",
    "directory = directory = DATA_FOLDER + 'test/quantized_3bit/'\n",
    "\n",
    "y_true = []\n",
    "y_pred = []\n",
    "first = True\n",
    "for entry in os.scandir(directory):\n",
    "    if (entry.path.endswith(\".npy\") and entry.is_file()):\n",
    "        emb_test = np.load(entry.path)\n",
    "\n",
    "        predict_label = clf_quantized_3bit.predict(emb_test)\n",
    "               \n",
    "        true_label = entry.path.split('/')[6].split('-')[0]  #label type = 'string'\n",
    "                \n",
    "        \n",
    "        audio_size = emb_test.shape[0]\n",
    "        true_label_long = [true_label] * audio_size\n",
    "         \n",
    "        y_pred.append(predict_label)\n",
    "        y_true.append(true_label_long)\n",
    "\n"
   ]
  },
  {
   "cell_type": "code",
   "execution_count": 57,
   "metadata": {},
   "outputs": [],
   "source": [
    "import itertools\n",
    "y_pred_1d = list(itertools.chain.from_iterable(y_pred))\n",
    "y_true_1d = list(itertools.chain.from_iterable(y_true))"
   ]
  },
  {
   "cell_type": "code",
   "execution_count": 58,
   "metadata": {},
   "outputs": [
    {
     "data": {
      "text/plain": [
       "59515"
      ]
     },
     "execution_count": 58,
     "metadata": {},
     "output_type": "execute_result"
    }
   ],
   "source": [
    "len(y_pred_1d)"
   ]
  },
  {
   "cell_type": "code",
   "execution_count": 59,
   "metadata": {},
   "outputs": [],
   "source": [
    "# per frame result \n",
    "conf_matrix = confusion_matrix(y_true_1d, y_pred_1d)\n",
    "acc = accuracy_score(y_true_1d, y_pred_1d)"
   ]
  },
  {
   "cell_type": "code",
   "execution_count": 61,
   "metadata": {},
   "outputs": [
    {
     "data": {
      "text/plain": [
       "0.8545912795093674"
      ]
     },
     "execution_count": 61,
     "metadata": {},
     "output_type": "execute_result"
    }
   ],
   "source": [
    "acc"
   ]
  },
  {
   "cell_type": "code",
   "execution_count": null,
   "metadata": {},
   "outputs": [],
   "source": [
    "# save the model to disk\n",
    "import pickle\n",
    "filename = 'quantized_3bit_model.sav'\n",
    "pickle.dump(clf_quantized_1bit, open(filename, 'wb'))\n",
    " \n",
    "# some time later...\n",
    " \n",
    "# load the model from disk\n",
    "loaded_model = pickle.load(open(filename, 'rb'))\n",
    "result = loaded_model.predict(emb_test) # '6064'\n",
    "print(result)"
   ]
  }
 ],
 "metadata": {
  "kernelspec": {
   "display_name": "Python 3",
   "language": "python",
   "name": "python3"
  },
  "language_info": {
   "codemirror_mode": {
    "name": "ipython",
    "version": 3
   },
   "file_extension": ".py",
   "mimetype": "text/x-python",
   "name": "python",
   "nbconvert_exporter": "python",
   "pygments_lexer": "ipython3",
   "version": "3.6.9"
  }
 },
 "nbformat": 4,
 "nbformat_minor": 4
}
