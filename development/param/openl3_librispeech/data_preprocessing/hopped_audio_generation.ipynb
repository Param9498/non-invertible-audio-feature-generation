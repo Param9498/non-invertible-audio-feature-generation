{
 "cells": [
  {
   "cell_type": "code",
   "execution_count": 1,
   "metadata": {},
   "outputs": [
    {
     "name": "stderr",
     "output_type": "stream",
     "text": [
      "/ext3/miniconda3/envs/audio_env/lib/python3.6/site-packages/tensorflow/python/framework/dtypes.py:526: FutureWarning: Passing (type, 1) or '1type' as a synonym of type is deprecated; in a future version of numpy, it will be understood as (type, (1,)) / '(1,)type'.\n",
      "  _np_qint8 = np.dtype([(\"qint8\", np.int8, 1)])\n",
      "/ext3/miniconda3/envs/audio_env/lib/python3.6/site-packages/tensorflow/python/framework/dtypes.py:527: FutureWarning: Passing (type, 1) or '1type' as a synonym of type is deprecated; in a future version of numpy, it will be understood as (type, (1,)) / '(1,)type'.\n",
      "  _np_quint8 = np.dtype([(\"quint8\", np.uint8, 1)])\n",
      "/ext3/miniconda3/envs/audio_env/lib/python3.6/site-packages/tensorflow/python/framework/dtypes.py:528: FutureWarning: Passing (type, 1) or '1type' as a synonym of type is deprecated; in a future version of numpy, it will be understood as (type, (1,)) / '(1,)type'.\n",
      "  _np_qint16 = np.dtype([(\"qint16\", np.int16, 1)])\n",
      "/ext3/miniconda3/envs/audio_env/lib/python3.6/site-packages/tensorflow/python/framework/dtypes.py:529: FutureWarning: Passing (type, 1) or '1type' as a synonym of type is deprecated; in a future version of numpy, it will be understood as (type, (1,)) / '(1,)type'.\n",
      "  _np_quint16 = np.dtype([(\"quint16\", np.uint16, 1)])\n",
      "/ext3/miniconda3/envs/audio_env/lib/python3.6/site-packages/tensorflow/python/framework/dtypes.py:530: FutureWarning: Passing (type, 1) or '1type' as a synonym of type is deprecated; in a future version of numpy, it will be understood as (type, (1,)) / '(1,)type'.\n",
      "  _np_qint32 = np.dtype([(\"qint32\", np.int32, 1)])\n",
      "/ext3/miniconda3/envs/audio_env/lib/python3.6/site-packages/tensorflow/python/framework/dtypes.py:535: FutureWarning: Passing (type, 1) or '1type' as a synonym of type is deprecated; in a future version of numpy, it will be understood as (type, (1,)) / '(1,)type'.\n",
      "  np_resource = np.dtype([(\"resource\", np.ubyte, 1)])\n",
      "Using TensorFlow backend.\n",
      "2307it [27:18,  1.41it/s]\n",
      "495it [05:51,  1.41it/s]\n",
      "494it [05:43,  1.44it/s]\n"
     ]
    }
   ],
   "source": [
    "import os\n",
    "import numpy as np\n",
    "import math\n",
    "import tensorflow as tf\n",
    "import openl3\n",
    "import soundfile as sf\n",
    "from openl3.core import _preprocess_audio_batch\n",
    "from kapre.time_frequency import Spectrogram, Melspectrogram\n",
    "from keras.layers import Input\n",
    "from keras.models import Model, Sequential\n",
    "from tensorflow.python.keras.backend import set_session\n",
    "import keras.backend as K\n",
    "import tqdm\n",
    "from pathlib import Path\n",
    "\n",
    "root_dir = '/scratch/prs392/incubator/data/LibriSpeech/speaker_identification'\n",
    "\n",
    "kinds = ['train', 'val', 'test']\n",
    "\n",
    "for kind in kinds:\n",
    "    data_dir = os.path.join(root_dir, kind)\n",
    "    data_write_dir = os.path.join(root_dir, kind, 'audio_prep')\n",
    "    Path(data_write_dir).mkdir(parents=True, exist_ok=True)\n",
    "    # Get list of paths to audio files\n",
    "    list_of_file_paths = []\n",
    "    for root, dirs, files in os.walk(data_dir):\n",
    "        path = root.split(os.sep)\n",
    "        for file in files:\n",
    "            if file.endswith(\".flac\"):\n",
    "                list_of_file_paths.append(os.path.join(root, file))\n",
    "\n",
    "    # Get list of .npy (output) files that have already been created, so we can avoid doing it again \n",
    "    list_of_npy_files = []\n",
    "    for root, dirs, files in os.walk(data_write_dir):\n",
    "        path = root.split(os.sep)\n",
    "        for file in files:\n",
    "            if file.endswith(\".npy\"):\n",
    "                list_of_npy_files.append(file.split('.')[0])\n",
    "\n",
    "    spectrograms_created = 0\n",
    "\n",
    "    for i, audio_file_path in tqdm.tqdm(enumerate(list_of_file_paths)):\n",
    "\n",
    "        file_name = os.path.basename(audio_file_path)\n",
    "\n",
    "        file_id = file_name.split('.')[0]\n",
    "\n",
    "        if file_id not in list_of_npy_files:\n",
    "\n",
    "            audio, sr  = sf.read(audio_file_path)\n",
    "\n",
    "            # Pre-process with padding, centering, hop size, etc. \n",
    "            audio_prep = _preprocess_audio_batch(audio, sr, center=False, hop_size=0.1)\n",
    "\n",
    "            # Save result\n",
    "            new_spec_file_name = file_id + \".npy\"\n",
    "            new_spec_file_path = os.path.join(data_write_dir, new_spec_file_name)\n",
    "            with open(new_spec_file_path, 'wb+') as f:\n",
    "                np.save(f, audio_prep)\n",
    "            spectrograms_created = spectrograms_created + 1"
   ]
  },
  {
   "cell_type": "code",
   "execution_count": null,
   "metadata": {},
   "outputs": [],
   "source": []
  }
 ],
 "metadata": {
  "kernelspec": {
   "display_name": "Python 3",
   "language": "python",
   "name": "python3"
  },
  "language_info": {
   "codemirror_mode": {
    "name": "ipython",
    "version": 3
   },
   "file_extension": ".py",
   "mimetype": "text/x-python",
   "name": "python",
   "nbconvert_exporter": "python",
   "pygments_lexer": "ipython3",
   "version": "3.6.10"
  }
 },
 "nbformat": 4,
 "nbformat_minor": 4
}
