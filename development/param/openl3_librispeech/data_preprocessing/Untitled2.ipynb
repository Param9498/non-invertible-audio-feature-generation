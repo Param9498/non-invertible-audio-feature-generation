{
 "cells": [
  {
   "cell_type": "code",
   "execution_count": 1,
   "metadata": {},
   "outputs": [
    {
     "name": "stderr",
     "output_type": "stream",
     "text": [
      "Using TensorFlow backend.\n",
      "/home/prs392/miniconda3/envs/incubator/lib/python3.6/site-packages/tensorflow/python/framework/dtypes.py:526: FutureWarning: Passing (type, 1) or '1type' as a synonym of type is deprecated; in a future version of numpy, it will be understood as (type, (1,)) / '(1,)type'.\n",
      "  _np_qint8 = np.dtype([(\"qint8\", np.int8, 1)])\n",
      "/home/prs392/miniconda3/envs/incubator/lib/python3.6/site-packages/tensorflow/python/framework/dtypes.py:527: FutureWarning: Passing (type, 1) or '1type' as a synonym of type is deprecated; in a future version of numpy, it will be understood as (type, (1,)) / '(1,)type'.\n",
      "  _np_quint8 = np.dtype([(\"quint8\", np.uint8, 1)])\n",
      "/home/prs392/miniconda3/envs/incubator/lib/python3.6/site-packages/tensorflow/python/framework/dtypes.py:528: FutureWarning: Passing (type, 1) or '1type' as a synonym of type is deprecated; in a future version of numpy, it will be understood as (type, (1,)) / '(1,)type'.\n",
      "  _np_qint16 = np.dtype([(\"qint16\", np.int16, 1)])\n",
      "/home/prs392/miniconda3/envs/incubator/lib/python3.6/site-packages/tensorflow/python/framework/dtypes.py:529: FutureWarning: Passing (type, 1) or '1type' as a synonym of type is deprecated; in a future version of numpy, it will be understood as (type, (1,)) / '(1,)type'.\n",
      "  _np_quint16 = np.dtype([(\"quint16\", np.uint16, 1)])\n",
      "/home/prs392/miniconda3/envs/incubator/lib/python3.6/site-packages/tensorflow/python/framework/dtypes.py:530: FutureWarning: Passing (type, 1) or '1type' as a synonym of type is deprecated; in a future version of numpy, it will be understood as (type, (1,)) / '(1,)type'.\n",
      "  _np_qint32 = np.dtype([(\"qint32\", np.int32, 1)])\n",
      "/home/prs392/miniconda3/envs/incubator/lib/python3.6/site-packages/tensorflow/python/framework/dtypes.py:535: FutureWarning: Passing (type, 1) or '1type' as a synonym of type is deprecated; in a future version of numpy, it will be understood as (type, (1,)) / '(1,)type'.\n",
      "  np_resource = np.dtype([(\"resource\", np.ubyte, 1)])\n"
     ]
    },
    {
     "name": "stdout",
     "output_type": "stream",
     "text": [
      "36128/36128 [==============================] - 385s 11ms/step\n",
      "550.2863531112671\n"
     ]
    }
   ],
   "source": [
    "import os\n",
    "\n",
    "import openl3\n",
    "import soundfile as sf\n",
    "import time\n",
    "\n",
    "import numpy as np\n",
    "\n",
    "data_dir = \"/scratch/prs392/incubator/data/LibriSpeech/train-clean-360/\"\n",
    "\n",
    "list_of_file_paths = []\n",
    "for root, dirs, files in os.walk(data_dir):\n",
    "    path = root.split(os.sep)\n",
    "    for file in files:\n",
    "        if file.endswith(\".flac\"):\n",
    "#             print(os.path.basename(os.path.join(root, file)))\n",
    "            list_of_file_paths.append(os.path.join(root, file))\n",
    "\n",
    "data_write_dir = \"/scratch/prs392/incubator/data/LibriSpeech/train-clean-360/embeddings_6144\"\n",
    "\n",
    "audios = []\n",
    "srs = []\n",
    "\n",
    "i = 0\n",
    "\n",
    "start = time.time()\n",
    "\n",
    "for audio_file_path in list_of_file_paths:\n",
    "    \n",
    "    audio, sr  = sf.read(audio_file_path)\n",
    "    audios.append(audio)\n",
    "    srs.append(sr)\n",
    "    \n",
    "    i += 1\n",
    "    \n",
    "    if i % 300 == 0:\n",
    "        emb, ts = openl3.get_audio_embedding(audios, srs, center = False, batch_size=32)\n",
    "        print(time.time() - start)\n",
    "        break\n",
    "#     max_audio_len = audio.shape[0]\n",
    "#     start = 0\n",
    "    \n",
    "#     file_name = os.path.basename(audio_file_path)\n",
    "    \n",
    "#     file_id = file_name.split('.')[0]\n",
    "    \n",
    "#     emb, ts = openl3.get_audio_embedding(audio, sr, center = False)\n",
    "#     new_emb_file_name = file_id + \".npy\"\n",
    "#     new_emb_file_path = os.path.join(data_write_dir, new_emb_file_name)\n",
    "\n",
    "#     with open(new_emb_file_path, 'wb+') as f:\n",
    "#         np.save(f, emb)"
   ]
  },
  {
   "cell_type": "code",
   "execution_count": 3,
   "metadata": {},
   "outputs": [
    {
     "data": {
      "text/plain": [
       "300"
      ]
     },
     "execution_count": 3,
     "metadata": {},
     "output_type": "execute_result"
    }
   ],
   "source": [
    "len(emb)"
   ]
  },
  {
   "cell_type": "code",
   "execution_count": null,
   "metadata": {},
   "outputs": [],
   "source": []
  }
 ],
 "metadata": {
  "kernelspec": {
   "display_name": "Python 3",
   "language": "python",
   "name": "python3"
  },
  "language_info": {
   "codemirror_mode": {
    "name": "ipython",
    "version": 3
   },
   "file_extension": ".py",
   "mimetype": "text/x-python",
   "name": "python",
   "nbconvert_exporter": "python",
   "pygments_lexer": "ipython3",
   "version": "3.6.10"
  }
 },
 "nbformat": 4,
 "nbformat_minor": 4
}
