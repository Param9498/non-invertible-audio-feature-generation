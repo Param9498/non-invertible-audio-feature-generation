{
 "cells": [
  {
   "cell_type": "code",
   "execution_count": 6,
   "metadata": {},
   "outputs": [],
   "source": [
    "import os\n",
    "import sys\n",
    "import numpy as np\n",
    "\n",
    "import tqdm"
   ]
  },
  {
   "cell_type": "code",
   "execution_count": 11,
   "metadata": {},
   "outputs": [
    {
     "name": "stderr",
     "output_type": "stream",
     "text": [
      "  1%|          | 999/104014 [00:27<47:46, 35.94it/s]  \n"
     ]
    },
    {
     "ename": "SystemExit",
     "evalue": "",
     "output_type": "error",
     "traceback": [
      "An exception has occurred, use %tb to see the full traceback.\n",
      "\u001b[0;31mSystemExit\u001b[0m\n"
     ]
    }
   ],
   "source": [
    "list_of_embedding_file_names = {}\n",
    "\n",
    "root_dir = '/scratch/prs392/incubator/data/LibriSpeech/train-clean-360'\n",
    "\n",
    "i = 0\n",
    "\n",
    "for root, dirs, files in os.walk(os.path.join(root_dir, 'embeddings_6144')):\n",
    "    \n",
    "    for file in tqdm.tqdm(files):\n",
    "        \n",
    "        if file.endswith(\".npy\"):\n",
    "            \n",
    "            if file in list_of_embedding_file_names:\n",
    "                print(\"Repeating files. Shutting down.\")\n",
    "                list_of_embedding_file_names = {}\n",
    "                sys.exit(0)\n",
    "                \n",
    "            emb_path = os.path.join(root, file)\n",
    "            \n",
    "            with open(emb_path, 'rb') as f:\n",
    "                emb = np.load(f)\n",
    "            list_of_embedding_file_names[file] = emb.shape[0]\n",
    "#             print(emb.shape)\n",
    "            \n",
    "            i += 1\n",
    "            if i == 1000:\n",
    "                sys.exit()"
   ]
  },
  {
   "cell_type": "code",
   "execution_count": 4,
   "metadata": {},
   "outputs": [
    {
     "data": {
      "text/plain": [
       "{'6567-53342-0017.npy': 150}"
      ]
     },
     "execution_count": 4,
     "metadata": {},
     "output_type": "execute_result"
    }
   ],
   "source": [
    "list_of_embedding_file_names"
   ]
  },
  {
   "cell_type": "code",
   "execution_count": null,
   "metadata": {},
   "outputs": [],
   "source": [
    "list_of_embedding_file_names"
   ]
  },
  {
   "cell_type": "code",
   "execution_count": 6,
   "metadata": {},
   "outputs": [],
   "source": [
    "list_of_spectrogram_file_names = []\n",
    "for root, dirs, files in os.walk('/scratch/prs392/incubator/data/LibriSpeech/train-clean-360/spectrograms/'):\n",
    "    for file in files:\n",
    "        if file.endswith(\".npy\"):\n",
    "             list_of_spectrogram_file_names.append(file)"
   ]
  },
  {
   "cell_type": "code",
   "execution_count": 7,
   "metadata": {},
   "outputs": [],
   "source": [
    "assert set(list_of_embedding_file_names) == set(list_of_spectrogram_file_names)"
   ]
  },
  {
   "cell_type": "code",
   "execution_count": null,
   "metadata": {},
   "outputs": [],
   "source": []
  }
 ],
 "metadata": {
  "kernelspec": {
   "display_name": "Python 3",
   "language": "python",
   "name": "python3"
  },
  "language_info": {
   "codemirror_mode": {
    "name": "ipython",
    "version": 3
   },
   "file_extension": ".py",
   "mimetype": "text/x-python",
   "name": "python",
   "nbconvert_exporter": "python",
   "pygments_lexer": "ipython3",
   "version": "3.7.7"
  }
 },
 "nbformat": 4,
 "nbformat_minor": 4
}
