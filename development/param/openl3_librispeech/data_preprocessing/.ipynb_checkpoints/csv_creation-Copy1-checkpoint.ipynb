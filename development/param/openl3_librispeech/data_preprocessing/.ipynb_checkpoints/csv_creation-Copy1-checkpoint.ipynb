{
 "cells": [
  {
   "cell_type": "code",
   "execution_count": 13,
   "metadata": {},
   "outputs": [],
   "source": [
    "import os\n",
    "import sys\n",
    "import numpy as np"
   ]
  },
  {
   "cell_type": "code",
   "execution_count": null,
   "metadata": {},
   "outputs": [],
   "source": [
    "list_of_embedding_file_names = {}\n",
    "\n",
    "root_dir = '/scratch/prs392/incubator/data/LibriSpeech/train-clean-360'\n",
    "\n",
    "for root, dirs, files in os.walk(os.path.join(root_dir, 'embeddings_6144')):\n",
    "    \n",
    "    for file in files:\n",
    "        \n",
    "        if file.endswith(\".npy\"):\n",
    "            \n",
    "            if file in list_of_embedding_file_names:\n",
    "                print(\"Repeating files. Shutting down.\")\n",
    "                list_of_embedding_file_names = {}\n",
    "                sys.exit(0)\n",
    "                \n",
    "            emb_path = os.path.join(root, file)\n",
    "            \n",
    "            with open(emb_path, 'rb') as f:\n",
    "                emb = np.load(f)\n",
    "            list_of_embedding_file_names[file] = emb.shape[0]"
   ]
  },
  {
   "cell_type": "code",
   "execution_count": null,
   "metadata": {},
   "outputs": [],
   "source": [
    "list_of_embedding_file_names"
   ]
  },
  {
   "cell_type": "code",
   "execution_count": 6,
   "metadata": {},
   "outputs": [],
   "source": [
    "list_of_spectrogram_file_names = []\n",
    "for root, dirs, files in os.walk('/scratch/prs392/incubator/data/LibriSpeech/train-clean-360/spectrograms/'):\n",
    "    for file in files:\n",
    "        if file.endswith(\".npy\"):\n",
    "             list_of_spectrogram_file_names.append(file)"
   ]
  },
  {
   "cell_type": "code",
   "execution_count": 7,
   "metadata": {},
   "outputs": [],
   "source": [
    "assert set(list_of_embedding_file_names) == set(list_of_spectrogram_file_names)"
   ]
  },
  {
   "cell_type": "code",
   "execution_count": null,
   "metadata": {},
   "outputs": [],
   "source": []
  }
 ],
 "metadata": {
  "kernelspec": {
   "display_name": "Python 3",
   "language": "python",
   "name": "python3"
  },
  "language_info": {
   "codemirror_mode": {
    "name": "ipython",
    "version": 3
   },
   "file_extension": ".py",
   "mimetype": "text/x-python",
   "name": "python",
   "nbconvert_exporter": "python",
   "pygments_lexer": "ipython3",
   "version": "3.7.7"
  }
 },
 "nbformat": 4,
 "nbformat_minor": 4
}
