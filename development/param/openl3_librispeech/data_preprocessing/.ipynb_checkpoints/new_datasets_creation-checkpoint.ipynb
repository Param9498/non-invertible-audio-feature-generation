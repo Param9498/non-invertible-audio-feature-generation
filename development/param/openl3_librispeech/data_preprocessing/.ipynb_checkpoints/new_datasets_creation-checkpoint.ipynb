{
 "cells": [
  {
   "cell_type": "code",
   "execution_count": 1,
   "metadata": {},
   "outputs": [],
   "source": [
    "import os\n",
    "import shutil\n",
    "from pathlib import Path\n",
    "\n",
    "import pandas as pd\n",
    "import numpy as np\n",
    "\n",
    "from sklearn.model_selection import StratifiedShuffleSplit"
   ]
  },
  {
   "cell_type": "markdown",
   "metadata": {},
   "source": [
    "## Speaker Identification"
   ]
  },
  {
   "cell_type": "code",
   "execution_count": 2,
   "metadata": {},
   "outputs": [],
   "source": [
    "df_speakers = pd.read_csv('/scratch/prs392/incubator/data/LibriSpeech/SPEAKERS.TXT', delimiter='|')"
   ]
  },
  {
   "cell_type": "code",
   "execution_count": 3,
   "metadata": {},
   "outputs": [
    {
     "data": {
      "text/html": [
       "<div>\n",
       "<style scoped>\n",
       "    .dataframe tbody tr th:only-of-type {\n",
       "        vertical-align: middle;\n",
       "    }\n",
       "\n",
       "    .dataframe tbody tr th {\n",
       "        vertical-align: top;\n",
       "    }\n",
       "\n",
       "    .dataframe thead th {\n",
       "        text-align: right;\n",
       "    }\n",
       "</style>\n",
       "<table border=\"1\" class=\"dataframe\">\n",
       "  <thead>\n",
       "    <tr style=\"text-align: right;\">\n",
       "      <th></th>\n",
       "      <th>ID</th>\n",
       "      <th>SEX</th>\n",
       "      <th>SUBSET</th>\n",
       "      <th>MINUTES</th>\n",
       "      <th>NAME</th>\n",
       "    </tr>\n",
       "  </thead>\n",
       "  <tbody>\n",
       "    <tr>\n",
       "      <th>0</th>\n",
       "      <td>14</td>\n",
       "      <td>F</td>\n",
       "      <td>train-clean-360</td>\n",
       "      <td>25.03</td>\n",
       "      <td>Kristin LeMoine</td>\n",
       "    </tr>\n",
       "    <tr>\n",
       "      <th>1</th>\n",
       "      <td>16</td>\n",
       "      <td>F</td>\n",
       "      <td>train-clean-360</td>\n",
       "      <td>25.11</td>\n",
       "      <td>Alys AtteWater</td>\n",
       "    </tr>\n",
       "    <tr>\n",
       "      <th>2</th>\n",
       "      <td>17</td>\n",
       "      <td>M</td>\n",
       "      <td>train-clean-360</td>\n",
       "      <td>25.04</td>\n",
       "      <td>Gord Mackenzie</td>\n",
       "    </tr>\n",
       "    <tr>\n",
       "      <th>3</th>\n",
       "      <td>19</td>\n",
       "      <td>F</td>\n",
       "      <td>train-clean-100</td>\n",
       "      <td>25.19</td>\n",
       "      <td>Kara Shallenberg</td>\n",
       "    </tr>\n",
       "    <tr>\n",
       "      <th>4</th>\n",
       "      <td>20</td>\n",
       "      <td>F</td>\n",
       "      <td>train-other-500</td>\n",
       "      <td>30.07</td>\n",
       "      <td>Gesine</td>\n",
       "    </tr>\n",
       "    <tr>\n",
       "      <th>...</th>\n",
       "      <td>...</td>\n",
       "      <td>...</td>\n",
       "      <td>...</td>\n",
       "      <td>...</td>\n",
       "      <td>...</td>\n",
       "    </tr>\n",
       "    <tr>\n",
       "      <th>2479</th>\n",
       "      <td>8975</td>\n",
       "      <td>F</td>\n",
       "      <td>train-clean-100</td>\n",
       "      <td>25.11</td>\n",
       "      <td>Daisy Flaim</td>\n",
       "    </tr>\n",
       "    <tr>\n",
       "      <th>2480</th>\n",
       "      <td>9000</td>\n",
       "      <td>M</td>\n",
       "      <td>train-other-500</td>\n",
       "      <td>27.26</td>\n",
       "      <td>Ramon Escamilla</td>\n",
       "    </tr>\n",
       "    <tr>\n",
       "      <th>2481</th>\n",
       "      <td>9022</td>\n",
       "      <td>F</td>\n",
       "      <td>train-clean-360</td>\n",
       "      <td>25.17</td>\n",
       "      <td>Claire M</td>\n",
       "    </tr>\n",
       "    <tr>\n",
       "      <th>2482</th>\n",
       "      <td>9023</td>\n",
       "      <td>F</td>\n",
       "      <td>train-clean-360</td>\n",
       "      <td>25.19</td>\n",
       "      <td>P. J. Morgan</td>\n",
       "    </tr>\n",
       "    <tr>\n",
       "      <th>2483</th>\n",
       "      <td>9026</td>\n",
       "      <td>F</td>\n",
       "      <td>train-clean-360</td>\n",
       "      <td>21.75</td>\n",
       "      <td>Tammy Porter</td>\n",
       "    </tr>\n",
       "  </tbody>\n",
       "</table>\n",
       "<p>2484 rows × 5 columns</p>\n",
       "</div>"
      ],
      "text/plain": [
       "      ID     SEX   SUBSET             MINUTES               NAME\n",
       "0        14   F    train-clean-360      25.03    Kristin LeMoine\n",
       "1        16   F    train-clean-360      25.11     Alys AtteWater\n",
       "2        17   M    train-clean-360      25.04     Gord Mackenzie\n",
       "3        19   F    train-clean-100      25.19   Kara Shallenberg\n",
       "4        20   F    train-other-500      30.07             Gesine\n",
       "...     ...  ...                 ...      ...                ...\n",
       "2479   8975   F    train-clean-100      25.11        Daisy Flaim\n",
       "2480   9000   M    train-other-500      27.26    Ramon Escamilla\n",
       "2481   9022   F    train-clean-360      25.17           Claire M\n",
       "2482   9023   F    train-clean-360      25.19       P. J. Morgan\n",
       "2483   9026   F    train-clean-360      21.75       Tammy Porter\n",
       "\n",
       "[2484 rows x 5 columns]"
      ]
     },
     "execution_count": 3,
     "metadata": {},
     "output_type": "execute_result"
    }
   ],
   "source": [
    "df_speakers"
   ]
  },
  {
   "cell_type": "code",
   "execution_count": 4,
   "metadata": {},
   "outputs": [],
   "source": [
    "df_speakers.columns = df_speakers.columns.str.replace(' ', '')"
   ]
  },
  {
   "cell_type": "code",
   "execution_count": 5,
   "metadata": {},
   "outputs": [
    {
     "data": {
      "text/plain": [
       "Index(['ID', 'SEX', 'SUBSET', 'MINUTES', 'NAME'], dtype='object')"
      ]
     },
     "execution_count": 5,
     "metadata": {},
     "output_type": "execute_result"
    }
   ],
   "source": [
    "df_speakers.columns"
   ]
  },
  {
   "cell_type": "code",
   "execution_count": 6,
   "metadata": {},
   "outputs": [],
   "source": [
    "for column in df_speakers.columns:\n",
    "    if df_speakers[column].dtype == object and isinstance(df_speakers.iloc[0][column], str):\n",
    "        df_speakers[column] = df_speakers[column].str.strip()"
   ]
  },
  {
   "cell_type": "code",
   "execution_count": 7,
   "metadata": {},
   "outputs": [],
   "source": [
    "train_clean_100_df = df_speakers[(df_speakers['SUBSET'] == 'train-clean-100')]"
   ]
  },
  {
   "cell_type": "code",
   "execution_count": 8,
   "metadata": {},
   "outputs": [
    {
     "data": {
      "text/plain": [
       "<matplotlib.axes._subplots.AxesSubplot at 0x2b8910f15490>"
      ]
     },
     "execution_count": 8,
     "metadata": {},
     "output_type": "execute_result"
    },
    {
     "data": {
      "image/png": "[encoded data removed]",
      "text/plain": [
       "<Figure size 432x288 with 1 Axes>"
      ]
     },
     "metadata": {
      "needs_background": "light"
     },
     "output_type": "display_data"
    }
   ],
   "source": [
    "train_clean_100_df['SEX'].value_counts().plot(kind='bar')"
   ]
  },
  {
   "cell_type": "code",
   "execution_count": 9,
   "metadata": {},
   "outputs": [],
   "source": [
    "train_clean_100_df_sampled = train_clean_100_df.sample(n=30, random_state=1)"
   ]
  },
  {
   "cell_type": "code",
   "execution_count": 10,
   "metadata": {},
   "outputs": [],
   "source": [
    "root_dir = \"/scratch/prs392/incubator/data/LibriSpeech/train-clean-100\"\n",
    "speakers = []\n",
    "speaker_audios = []\n",
    "for speaker_id in train_clean_100_df_sampled['ID'].values:\n",
    "    speaker_dir = os.path.join(root_dir, str(speaker_id))\n",
    "    for root, dirs, files in os.walk(speaker_dir):\n",
    "        for filename in files:\n",
    "            if filename.endswith(\".flac\"):\n",
    "#                 filepath = os.path.join(root, filename)\n",
    "                speakers.append(speaker_id)\n",
    "                speaker_audios.append(filename)\n",
    "#                 print (filename)"
   ]
  },
  {
   "cell_type": "code",
   "execution_count": 11,
   "metadata": {},
   "outputs": [
    {
     "data": {
      "text/plain": [
       "3296"
      ]
     },
     "execution_count": 11,
     "metadata": {},
     "output_type": "execute_result"
    }
   ],
   "source": [
    "assert len(speakers) == len(speaker_audios)\n",
    "len(speakers)"
   ]
  },
  {
   "cell_type": "code",
   "execution_count": 12,
   "metadata": {},
   "outputs": [],
   "source": [
    "new_df = pd.DataFrame([speakers, speaker_audios]).T\n",
    "new_df.columns = ['SPEAKER', 'AUDIO']"
   ]
  },
  {
   "cell_type": "code",
   "execution_count": 13,
   "metadata": {},
   "outputs": [
    {
     "data": {
      "text/plain": [
       "<matplotlib.axes._subplots.AxesSubplot at 0x2b8910089310>"
      ]
     },
     "execution_count": 13,
     "metadata": {},
     "output_type": "execute_result"
    },
    {
     "data": {
      "image/png": "[encoded data removed]",
      "text/plain": [
       "<Figure size 432x288 with 1 Axes>"
      ]
     },
     "metadata": {
      "needs_background": "light"
     },
     "output_type": "display_data"
    }
   ],
   "source": [
    "new_df['SPEAKER'].value_counts().plot(kind='bar')"
   ]
  },
  {
   "cell_type": "code",
   "execution_count": 14,
   "metadata": {},
   "outputs": [
    {
     "data": {
      "text/html": [
       "<div>\n",
       "<style scoped>\n",
       "    .dataframe tbody tr th:only-of-type {\n",
       "        vertical-align: middle;\n",
       "    }\n",
       "\n",
       "    .dataframe tbody tr th {\n",
       "        vertical-align: top;\n",
       "    }\n",
       "\n",
       "    .dataframe thead th {\n",
       "        text-align: right;\n",
       "    }\n",
       "</style>\n",
       "<table border=\"1\" class=\"dataframe\">\n",
       "  <thead>\n",
       "    <tr style=\"text-align: right;\">\n",
       "      <th></th>\n",
       "      <th>SPEAKER</th>\n",
       "      <th>AUDIO</th>\n",
       "    </tr>\n",
       "  </thead>\n",
       "  <tbody>\n",
       "    <tr>\n",
       "      <th>0</th>\n",
       "      <td>1334</td>\n",
       "      <td>1334-135589-0028.flac</td>\n",
       "    </tr>\n",
       "    <tr>\n",
       "      <th>1</th>\n",
       "      <td>1334</td>\n",
       "      <td>1334-135589-0083.flac</td>\n",
       "    </tr>\n",
       "    <tr>\n",
       "      <th>2</th>\n",
       "      <td>1334</td>\n",
       "      <td>1334-135589-0104.flac</td>\n",
       "    </tr>\n",
       "    <tr>\n",
       "      <th>3</th>\n",
       "      <td>1334</td>\n",
       "      <td>1334-135589-0081.flac</td>\n",
       "    </tr>\n",
       "    <tr>\n",
       "      <th>4</th>\n",
       "      <td>1334</td>\n",
       "      <td>1334-135589-0061.flac</td>\n",
       "    </tr>\n",
       "    <tr>\n",
       "      <th>...</th>\n",
       "      <td>...</td>\n",
       "      <td>...</td>\n",
       "    </tr>\n",
       "    <tr>\n",
       "      <th>3291</th>\n",
       "      <td>7402</td>\n",
       "      <td>7402-90848-0015.flac</td>\n",
       "    </tr>\n",
       "    <tr>\n",
       "      <th>3292</th>\n",
       "      <td>7402</td>\n",
       "      <td>7402-90848-0014.flac</td>\n",
       "    </tr>\n",
       "    <tr>\n",
       "      <th>3293</th>\n",
       "      <td>7402</td>\n",
       "      <td>7402-90848-0006.flac</td>\n",
       "    </tr>\n",
       "    <tr>\n",
       "      <th>3294</th>\n",
       "      <td>7402</td>\n",
       "      <td>7402-90848-0039.flac</td>\n",
       "    </tr>\n",
       "    <tr>\n",
       "      <th>3295</th>\n",
       "      <td>7402</td>\n",
       "      <td>7402-90848-0036.flac</td>\n",
       "    </tr>\n",
       "  </tbody>\n",
       "</table>\n",
       "<p>3296 rows × 2 columns</p>\n",
       "</div>"
      ],
      "text/plain": [
       "     SPEAKER                  AUDIO\n",
       "0       1334  1334-135589-0028.flac\n",
       "1       1334  1334-135589-0083.flac\n",
       "2       1334  1334-135589-0104.flac\n",
       "3       1334  1334-135589-0081.flac\n",
       "4       1334  1334-135589-0061.flac\n",
       "...      ...                    ...\n",
       "3291    7402   7402-90848-0015.flac\n",
       "3292    7402   7402-90848-0014.flac\n",
       "3293    7402   7402-90848-0006.flac\n",
       "3294    7402   7402-90848-0039.flac\n",
       "3295    7402   7402-90848-0036.flac\n",
       "\n",
       "[3296 rows x 2 columns]"
      ]
     },
     "execution_count": 14,
     "metadata": {},
     "output_type": "execute_result"
    }
   ],
   "source": [
    "new_df"
   ]
  },
  {
   "cell_type": "code",
   "execution_count": 15,
   "metadata": {},
   "outputs": [
    {
     "name": "stdout",
     "output_type": "stream",
     "text": [
      "TRAIN: 2307 TEST: 989\n"
     ]
    }
   ],
   "source": [
    "\n",
    "\n",
    "sss = StratifiedShuffleSplit(n_splits=1, test_size=0.3, random_state=0)\n",
    "\n",
    "for train_index, test_index in sss.split(new_df['AUDIO'], new_df['SPEAKER']):\n",
    "    print(\"TRAIN:\", len(train_index), \"TEST:\", len(test_index))\n",
    "    X_train, X_test_latent = new_df.iloc[train_index], new_df.iloc[test_index]\n",
    "    \n",
    "    sss2 = StratifiedShuffleSplit(n_splits=1, test_size=0.5, random_state=0)\n",
    "    for test_index, val_index in sss2.split(X_test_latent['AUDIO'], X_test_latent['SPEAKER']):\n",
    "        X_test, X_val = X_test_latent.iloc[test_index], X_test_latent.iloc[val_index]"
   ]
  },
  {
   "cell_type": "code",
   "execution_count": 16,
   "metadata": {},
   "outputs": [
    {
     "data": {
      "text/html": [
       "<div>\n",
       "<style scoped>\n",
       "    .dataframe tbody tr th:only-of-type {\n",
       "        vertical-align: middle;\n",
       "    }\n",
       "\n",
       "    .dataframe tbody tr th {\n",
       "        vertical-align: top;\n",
       "    }\n",
       "\n",
       "    .dataframe thead th {\n",
       "        text-align: right;\n",
       "    }\n",
       "</style>\n",
       "<table border=\"1\" class=\"dataframe\">\n",
       "  <thead>\n",
       "    <tr style=\"text-align: right;\">\n",
       "      <th></th>\n",
       "      <th>SPEAKER</th>\n",
       "      <th>AUDIO</th>\n",
       "    </tr>\n",
       "  </thead>\n",
       "  <tbody>\n",
       "    <tr>\n",
       "      <th>68</th>\n",
       "      <td>1334</td>\n",
       "      <td>1334-135589-0016.flac</td>\n",
       "    </tr>\n",
       "    <tr>\n",
       "      <th>516</th>\n",
       "      <td>2159</td>\n",
       "      <td>2159-179156-0000.flac</td>\n",
       "    </tr>\n",
       "    <tr>\n",
       "      <th>1434</th>\n",
       "      <td>3242</td>\n",
       "      <td>3242-67153-0004.flac</td>\n",
       "    </tr>\n",
       "    <tr>\n",
       "      <th>1115</th>\n",
       "      <td>8609</td>\n",
       "      <td>8609-262281-0032.flac</td>\n",
       "    </tr>\n",
       "    <tr>\n",
       "      <th>1643</th>\n",
       "      <td>3807</td>\n",
       "      <td>3807-4923-0038.flac</td>\n",
       "    </tr>\n",
       "    <tr>\n",
       "      <th>...</th>\n",
       "      <td>...</td>\n",
       "      <td>...</td>\n",
       "    </tr>\n",
       "    <tr>\n",
       "      <th>253</th>\n",
       "      <td>8095</td>\n",
       "      <td>8095-274346-0009.flac</td>\n",
       "    </tr>\n",
       "    <tr>\n",
       "      <th>146</th>\n",
       "      <td>8975</td>\n",
       "      <td>8975-270782-0078.flac</td>\n",
       "    </tr>\n",
       "    <tr>\n",
       "      <th>1403</th>\n",
       "      <td>3242</td>\n",
       "      <td>3242-67168-0014.flac</td>\n",
       "    </tr>\n",
       "    <tr>\n",
       "      <th>2517</th>\n",
       "      <td>6181</td>\n",
       "      <td>6181-216552-0009.flac</td>\n",
       "    </tr>\n",
       "    <tr>\n",
       "      <th>2175</th>\n",
       "      <td>1553</td>\n",
       "      <td>1553-140048-0015.flac</td>\n",
       "    </tr>\n",
       "  </tbody>\n",
       "</table>\n",
       "<p>2307 rows × 2 columns</p>\n",
       "</div>"
      ],
      "text/plain": [
       "     SPEAKER                  AUDIO\n",
       "68      1334  1334-135589-0016.flac\n",
       "516     2159  2159-179156-0000.flac\n",
       "1434    3242   3242-67153-0004.flac\n",
       "1115    8609  8609-262281-0032.flac\n",
       "1643    3807    3807-4923-0038.flac\n",
       "...      ...                    ...\n",
       "253     8095  8095-274346-0009.flac\n",
       "146     8975  8975-270782-0078.flac\n",
       "1403    3242   3242-67168-0014.flac\n",
       "2517    6181  6181-216552-0009.flac\n",
       "2175    1553  1553-140048-0015.flac\n",
       "\n",
       "[2307 rows x 2 columns]"
      ]
     },
     "execution_count": 16,
     "metadata": {},
     "output_type": "execute_result"
    }
   ],
   "source": [
    "X_train"
   ]
  },
  {
   "cell_type": "code",
   "execution_count": 17,
   "metadata": {},
   "outputs": [
    {
     "data": {
      "text/html": [
       "<div>\n",
       "<style scoped>\n",
       "    .dataframe tbody tr th:only-of-type {\n",
       "        vertical-align: middle;\n",
       "    }\n",
       "\n",
       "    .dataframe tbody tr th {\n",
       "        vertical-align: top;\n",
       "    }\n",
       "\n",
       "    .dataframe thead th {\n",
       "        text-align: right;\n",
       "    }\n",
       "</style>\n",
       "<table border=\"1\" class=\"dataframe\">\n",
       "  <thead>\n",
       "    <tr style=\"text-align: right;\">\n",
       "      <th></th>\n",
       "      <th>SPEAKER</th>\n",
       "      <th>AUDIO</th>\n",
       "    </tr>\n",
       "  </thead>\n",
       "  <tbody>\n",
       "    <tr>\n",
       "      <th>1001</th>\n",
       "      <td>39</td>\n",
       "      <td>39-121915-0013.flac</td>\n",
       "    </tr>\n",
       "    <tr>\n",
       "      <th>2647</th>\n",
       "      <td>3440</td>\n",
       "      <td>3440-171009-0016.flac</td>\n",
       "    </tr>\n",
       "    <tr>\n",
       "      <th>2824</th>\n",
       "      <td>3436</td>\n",
       "      <td>3436-172162-0008.flac</td>\n",
       "    </tr>\n",
       "    <tr>\n",
       "      <th>1946</th>\n",
       "      <td>831</td>\n",
       "      <td>831-130739-0025.flac</td>\n",
       "    </tr>\n",
       "    <tr>\n",
       "      <th>2954</th>\n",
       "      <td>8770</td>\n",
       "      <td>8770-295462-0009.flac</td>\n",
       "    </tr>\n",
       "    <tr>\n",
       "      <th>...</th>\n",
       "      <td>...</td>\n",
       "      <td>...</td>\n",
       "    </tr>\n",
       "    <tr>\n",
       "      <th>1847</th>\n",
       "      <td>6081</td>\n",
       "      <td>6081-41997-0006.flac</td>\n",
       "    </tr>\n",
       "    <tr>\n",
       "      <th>936</th>\n",
       "      <td>6000</td>\n",
       "      <td>6000-55211-0046.flac</td>\n",
       "    </tr>\n",
       "    <tr>\n",
       "      <th>954</th>\n",
       "      <td>6000</td>\n",
       "      <td>6000-55211-0010.flac</td>\n",
       "    </tr>\n",
       "    <tr>\n",
       "      <th>972</th>\n",
       "      <td>6000</td>\n",
       "      <td>6000-55211-0031.flac</td>\n",
       "    </tr>\n",
       "    <tr>\n",
       "      <th>1069</th>\n",
       "      <td>39</td>\n",
       "      <td>39-121914-0006.flac</td>\n",
       "    </tr>\n",
       "  </tbody>\n",
       "</table>\n",
       "<p>494 rows × 2 columns</p>\n",
       "</div>"
      ],
      "text/plain": [
       "     SPEAKER                  AUDIO\n",
       "1001      39    39-121915-0013.flac\n",
       "2647    3440  3440-171009-0016.flac\n",
       "2824    3436  3436-172162-0008.flac\n",
       "1946     831   831-130739-0025.flac\n",
       "2954    8770  8770-295462-0009.flac\n",
       "...      ...                    ...\n",
       "1847    6081   6081-41997-0006.flac\n",
       "936     6000   6000-55211-0046.flac\n",
       "954     6000   6000-55211-0010.flac\n",
       "972     6000   6000-55211-0031.flac\n",
       "1069      39    39-121914-0006.flac\n",
       "\n",
       "[494 rows x 2 columns]"
      ]
     },
     "execution_count": 17,
     "metadata": {},
     "output_type": "execute_result"
    }
   ],
   "source": [
    "X_test"
   ]
  },
  {
   "cell_type": "code",
   "execution_count": 18,
   "metadata": {},
   "outputs": [
    {
     "data": {
      "text/html": [
       "<div>\n",
       "<style scoped>\n",
       "    .dataframe tbody tr th:only-of-type {\n",
       "        vertical-align: middle;\n",
       "    }\n",
       "\n",
       "    .dataframe tbody tr th {\n",
       "        vertical-align: top;\n",
       "    }\n",
       "\n",
       "    .dataframe thead th {\n",
       "        text-align: right;\n",
       "    }\n",
       "</style>\n",
       "<table border=\"1\" class=\"dataframe\">\n",
       "  <thead>\n",
       "    <tr style=\"text-align: right;\">\n",
       "      <th></th>\n",
       "      <th>SPEAKER</th>\n",
       "      <th>AUDIO</th>\n",
       "    </tr>\n",
       "  </thead>\n",
       "  <tbody>\n",
       "    <tr>\n",
       "      <th>2661</th>\n",
       "      <td>3440</td>\n",
       "      <td>3440-171009-0082.flac</td>\n",
       "    </tr>\n",
       "    <tr>\n",
       "      <th>2057</th>\n",
       "      <td>289</td>\n",
       "      <td>289-121652-0015.flac</td>\n",
       "    </tr>\n",
       "    <tr>\n",
       "      <th>2797</th>\n",
       "      <td>3436</td>\n",
       "      <td>3436-172171-0015.flac</td>\n",
       "    </tr>\n",
       "    <tr>\n",
       "      <th>2777</th>\n",
       "      <td>3436</td>\n",
       "      <td>3436-172171-0027.flac</td>\n",
       "    </tr>\n",
       "    <tr>\n",
       "      <th>1526</th>\n",
       "      <td>6064</td>\n",
       "      <td>6064-56165-0023.flac</td>\n",
       "    </tr>\n",
       "    <tr>\n",
       "      <th>...</th>\n",
       "      <td>...</td>\n",
       "      <td>...</td>\n",
       "    </tr>\n",
       "    <tr>\n",
       "      <th>1683</th>\n",
       "      <td>1737</td>\n",
       "      <td>1737-146161-0002.flac</td>\n",
       "    </tr>\n",
       "    <tr>\n",
       "      <th>104</th>\n",
       "      <td>1334</td>\n",
       "      <td>1334-135589-0072.flac</td>\n",
       "    </tr>\n",
       "    <tr>\n",
       "      <th>2643</th>\n",
       "      <td>3440</td>\n",
       "      <td>3440-171009-0041.flac</td>\n",
       "    </tr>\n",
       "    <tr>\n",
       "      <th>2102</th>\n",
       "      <td>289</td>\n",
       "      <td>289-121665-0037.flac</td>\n",
       "    </tr>\n",
       "    <tr>\n",
       "      <th>2020</th>\n",
       "      <td>831</td>\n",
       "      <td>831-130746-0004.flac</td>\n",
       "    </tr>\n",
       "  </tbody>\n",
       "</table>\n",
       "<p>495 rows × 2 columns</p>\n",
       "</div>"
      ],
      "text/plain": [
       "     SPEAKER                  AUDIO\n",
       "2661    3440  3440-171009-0082.flac\n",
       "2057     289   289-121652-0015.flac\n",
       "2797    3436  3436-172171-0015.flac\n",
       "2777    3436  3436-172171-0027.flac\n",
       "1526    6064   6064-56165-0023.flac\n",
       "...      ...                    ...\n",
       "1683    1737  1737-146161-0002.flac\n",
       "104     1334  1334-135589-0072.flac\n",
       "2643    3440  3440-171009-0041.flac\n",
       "2102     289   289-121665-0037.flac\n",
       "2020     831   831-130746-0004.flac\n",
       "\n",
       "[495 rows x 2 columns]"
      ]
     },
     "execution_count": 18,
     "metadata": {},
     "output_type": "execute_result"
    }
   ],
   "source": [
    "X_val"
   ]
  },
  {
   "cell_type": "code",
   "execution_count": 19,
   "metadata": {},
   "outputs": [],
   "source": [
    "\n",
    "assert set(np.unique(X_train['SPEAKER'].values)) == set(np.unique(X_test['SPEAKER'].values))\n",
    "assert set(np.unique(X_train['SPEAKER'].values)) == set(np.unique(X_val['SPEAKER'].values))"
   ]
  },
  {
   "cell_type": "code",
   "execution_count": 20,
   "metadata": {},
   "outputs": [
    {
     "data": {
      "text/plain": [
       "<matplotlib.axes._subplots.AxesSubplot at 0x2b8911ec7890>"
      ]
     },
     "execution_count": 20,
     "metadata": {},
     "output_type": "execute_result"
    },
    {
     "data": {
      "image/png": "[encoded data removed]",
      "text/plain": [
       "<Figure size 432x288 with 1 Axes>"
      ]
     },
     "metadata": {
      "needs_background": "light"
     },
     "output_type": "display_data"
    }
   ],
   "source": [
    "X_train['SPEAKER'].value_counts().plot(kind='bar')"
   ]
  },
  {
   "cell_type": "code",
   "execution_count": 21,
   "metadata": {},
   "outputs": [
    {
     "data": {
      "text/plain": [
       "<matplotlib.axes._subplots.AxesSubplot at 0x2b8912147510>"
      ]
     },
     "execution_count": 21,
     "metadata": {},
     "output_type": "execute_result"
    },
    {
     "data": {
      "image/png": "[encoded data removed]",
      "text/plain": [
       "<Figure size 432x288 with 1 Axes>"
      ]
     },
     "metadata": {
      "needs_background": "light"
     },
     "output_type": "display_data"
    }
   ],
   "source": [
    "X_test['SPEAKER'].value_counts().plot(kind='bar')"
   ]
  },
  {
   "cell_type": "code",
   "execution_count": 22,
   "metadata": {},
   "outputs": [
    {
     "data": {
      "text/plain": [
       "<matplotlib.axes._subplots.AxesSubplot at 0x2b891239bbd0>"
      ]
     },
     "execution_count": 22,
     "metadata": {},
     "output_type": "execute_result"
    },
    {
     "data": {
      "image/png": "[encoded data removed]",
      "text/plain": [
       "<Figure size 432x288 with 1 Axes>"
      ]
     },
     "metadata": {
      "needs_background": "light"
     },
     "output_type": "display_data"
    }
   ],
   "source": [
    "X_val['SPEAKER'].value_counts().plot(kind='bar')"
   ]
  },
  {
   "cell_type": "code",
   "execution_count": 24,
   "metadata": {},
   "outputs": [],
   "source": [
    "X_train.to_csv('/scratch/prs392/incubator/data/LibriSpeech/speaker_identification/train_df.csv', index=False)\n",
    "X_val.to_csv('/scratch/prs392/incubator/data/LibriSpeech/speaker_identification/val_df.csv', index=False)\n",
    "X_test.to_csv('/scratch/prs392/incubator/data/LibriSpeech/speaker_identification/test_df.csv', index=False)"
   ]
  },
  {
   "cell_type": "code",
   "execution_count": 25,
   "metadata": {},
   "outputs": [],
   "source": [
    "train_df = pd.read_csv('/scratch/prs392/incubator/data/LibriSpeech/speaker_identification/train_df.csv')\n",
    "val_df = pd.read_csv('/scratch/prs392/incubator/data/LibriSpeech/speaker_identification/val_df.csv')\n",
    "test_df = pd.read_csv('/scratch/prs392/incubator/data/LibriSpeech/speaker_identification/test_df.csv')\n",
    "\n",
    "df = {\n",
    "    'train': train_df,\n",
    "    'val': val_df,\n",
    "    'test': test_df\n",
    "}"
   ]
  },
  {
   "cell_type": "code",
   "execution_count": 26,
   "metadata": {},
   "outputs": [],
   "source": [
    "original_root_dir = '/scratch/prs392/incubator/data/LibriSpeech/train-clean-100'\n",
    "new_root_dir = '/scratch/prs392/incubator/data/LibriSpeech/speaker_identification'"
   ]
  },
  {
   "cell_type": "code",
   "execution_count": 27,
   "metadata": {},
   "outputs": [],
   "source": [
    "\n",
    "\n",
    "for kind in df.keys():\n",
    "    for root, dirs, files in os.walk(original_root_dir):\n",
    "        for filename in files:\n",
    "            if filename.endswith(\".flac\") and filename in list(df[kind]['AUDIO'].values):\n",
    "                org_filepath = os.path.join(root, filename)\n",
    "                new_filepath = os.path.join(new_root_dir, kind, filename.split('-')[0], filename.split('-')[1])\n",
    "                Path(new_filepath).mkdir(parents=True, exist_ok=True)\n",
    "                shutil.copy(org_filepath, new_filepath)\n"
   ]
  },
  {
   "cell_type": "code",
   "execution_count": 29,
   "metadata": {},
   "outputs": [
    {
     "data": {
      "text/plain": [
       "494"
      ]
     },
     "execution_count": 29,
     "metadata": {},
     "output_type": "execute_result"
    }
   ],
   "source": [
    "len(test_df)"
   ]
  },
  {
   "cell_type": "code",
   "execution_count": 1,
   "metadata": {},
   "outputs": [
    {
     "name": "stderr",
     "output_type": "stream",
     "text": [
      "Using TensorFlow backend.\n",
      "/ext3/miniconda3/envs/audio_env/lib/python3.6/site-packages/tensorflow/python/framework/dtypes.py:526: FutureWarning: Passing (type, 1) or '1type' as a synonym of type is deprecated; in a future version of numpy, it will be understood as (type, (1,)) / '(1,)type'.\n",
      "  _np_qint8 = np.dtype([(\"qint8\", np.int8, 1)])\n",
      "/ext3/miniconda3/envs/audio_env/lib/python3.6/site-packages/tensorflow/python/framework/dtypes.py:527: FutureWarning: Passing (type, 1) or '1type' as a synonym of type is deprecated; in a future version of numpy, it will be understood as (type, (1,)) / '(1,)type'.\n",
      "  _np_quint8 = np.dtype([(\"quint8\", np.uint8, 1)])\n",
      "/ext3/miniconda3/envs/audio_env/lib/python3.6/site-packages/tensorflow/python/framework/dtypes.py:528: FutureWarning: Passing (type, 1) or '1type' as a synonym of type is deprecated; in a future version of numpy, it will be understood as (type, (1,)) / '(1,)type'.\n",
      "  _np_qint16 = np.dtype([(\"qint16\", np.int16, 1)])\n",
      "/ext3/miniconda3/envs/audio_env/lib/python3.6/site-packages/tensorflow/python/framework/dtypes.py:529: FutureWarning: Passing (type, 1) or '1type' as a synonym of type is deprecated; in a future version of numpy, it will be understood as (type, (1,)) / '(1,)type'.\n",
      "  _np_quint16 = np.dtype([(\"quint16\", np.uint16, 1)])\n",
      "/ext3/miniconda3/envs/audio_env/lib/python3.6/site-packages/tensorflow/python/framework/dtypes.py:530: FutureWarning: Passing (type, 1) or '1type' as a synonym of type is deprecated; in a future version of numpy, it will be understood as (type, (1,)) / '(1,)type'.\n",
      "  _np_qint32 = np.dtype([(\"qint32\", np.int32, 1)])\n",
      "/ext3/miniconda3/envs/audio_env/lib/python3.6/site-packages/tensorflow/python/framework/dtypes.py:535: FutureWarning: Passing (type, 1) or '1type' as a synonym of type is deprecated; in a future version of numpy, it will be understood as (type, (1,)) / '(1,)type'.\n",
      "  np_resource = np.dtype([(\"resource\", np.ubyte, 1)])\n"
     ]
    }
   ],
   "source": [
    "import os\n",
    "\n",
    "import openl3\n",
    "import soundfile as sf\n",
    "\n",
    "import numpy as np\n",
    "\n",
    "from pathlib import Path\n",
    "\n",
    "import tqdm"
   ]
  },
  {
   "cell_type": "code",
   "execution_count": 2,
   "metadata": {},
   "outputs": [
    {
     "name": "stdout",
     "output_type": "stream",
     "text": [
      "Default GPU Device:/device:GPU:0\n"
     ]
    }
   ],
   "source": [
    "import tensorflow as tf \n",
    "\n",
    "if tf.test.gpu_device_name(): \n",
    "\n",
    "    print('Default GPU Device:{}'.format(tf.test.gpu_device_name()))\n",
    "\n",
    "else:\n",
    "\n",
    "    print(\"Please install GPU version of TF\")"
   ]
  },
  {
   "cell_type": "code",
   "execution_count": 4,
   "metadata": {},
   "outputs": [
    {
     "name": "stderr",
     "output_type": "stream",
     "text": [
      "100%|██████████| 2307/2307 [54:38<00:00,  1.42s/it] \n",
      "100%|██████████| 495/495 [10:37<00:00,  1.29s/it]\n",
      "100%|██████████| 494/494 [11:45<00:00,  1.43s/it]\n"
     ]
    }
   ],
   "source": [
    "import os\n",
    "\n",
    "import openl3\n",
    "import soundfile as sf\n",
    "\n",
    "import numpy as np\n",
    "import tqdm\n",
    "\n",
    "from pathlib import Path\n",
    "\n",
    "root_dir = '/scratch/prs392/incubator/data/LibriSpeech/speaker_identification'\n",
    "\n",
    "kinds = ['train', 'val', 'test']\n",
    "\n",
    "for kind in kinds:\n",
    "\n",
    "    data_dir = os.path.join(root_dir, kind)\n",
    "\n",
    "    list_of_file_paths = []\n",
    "    for root, dirs, files in os.walk(data_dir):\n",
    "        path = root.split(os.sep)\n",
    "        for file in files:\n",
    "            if file.endswith(\".flac\"):\n",
    "    #             print(os.path.basename(os.path.join(root, file)))\n",
    "                list_of_file_paths.append(os.path.join(root, file))\n",
    "\n",
    "    data_write_dir = os.path.join(root_dir, kind, 'embeddings_6144')\n",
    "    \n",
    "    Path(data_write_dir).mkdir(parents=True, exist_ok=True)\n",
    "#     print(data_write_dir)\n",
    "#     break\n",
    "\n",
    "    list_of_npy_files = []\n",
    "    for root, dirs, files in os.walk(data_write_dir):\n",
    "        path = root.split(os.sep)\n",
    "        for file in files:\n",
    "            if file.endswith(\".npy\"):\n",
    "    #             print(os.path.basename(os.path.join(root, file)))\n",
    "                list_of_npy_files.append(file.split('.')[0])\n",
    "\n",
    "    # print(list_of_npy_files)\n",
    "    model = openl3.models.load_audio_embedding_model(input_repr=\"mel128\", content_type=\"music\", embedding_size=6144)\n",
    "\n",
    "    for audio_file_path in tqdm.tqdm(list_of_file_paths):\n",
    "\n",
    "        file_name = os.path.basename(audio_file_path)\n",
    "\n",
    "        file_id = file_name.split('.')[0]\n",
    "\n",
    "        if file_id not in list_of_npy_files:\n",
    "\n",
    "            audio, sr  = sf.read(audio_file_path)\n",
    "\n",
    "    #         emb, ts = openl3.get_audio_embedding(audio, sr, center = False)\n",
    "            emb, ts = openl3.get_audio_embedding(audio, sr, center = False, model=model, verbose=False)\n",
    "            new_emb_file_name = file_id + \".npy\"\n",
    "            new_emb_file_path = os.path.join(data_write_dir, new_emb_file_name)\n",
    "\n",
    "            with open(new_emb_file_path, 'wb+') as f:\n",
    "                np.save(f, emb)\n",
    "        else:\n",
    "            print(file_id + '.npy already exists') "
   ]
  },
  {
   "cell_type": "code",
   "execution_count": null,
   "metadata": {},
   "outputs": [
    {
     "name": "stderr",
     "output_type": "stream",
     "text": [
      "/ext3/miniconda3/envs/audio_env/lib/python3.6/site-packages/tensorflow/python/framework/dtypes.py:526: FutureWarning: Passing (type, 1) or '1type' as a synonym of type is deprecated; in a future version of numpy, it will be understood as (type, (1,)) / '(1,)type'.\n",
      "  _np_qint8 = np.dtype([(\"qint8\", np.int8, 1)])\n",
      "/ext3/miniconda3/envs/audio_env/lib/python3.6/site-packages/tensorflow/python/framework/dtypes.py:527: FutureWarning: Passing (type, 1) or '1type' as a synonym of type is deprecated; in a future version of numpy, it will be understood as (type, (1,)) / '(1,)type'.\n",
      "  _np_quint8 = np.dtype([(\"quint8\", np.uint8, 1)])\n",
      "/ext3/miniconda3/envs/audio_env/lib/python3.6/site-packages/tensorflow/python/framework/dtypes.py:528: FutureWarning: Passing (type, 1) or '1type' as a synonym of type is deprecated; in a future version of numpy, it will be understood as (type, (1,)) / '(1,)type'.\n",
      "  _np_qint16 = np.dtype([(\"qint16\", np.int16, 1)])\n",
      "/ext3/miniconda3/envs/audio_env/lib/python3.6/site-packages/tensorflow/python/framework/dtypes.py:529: FutureWarning: Passing (type, 1) or '1type' as a synonym of type is deprecated; in a future version of numpy, it will be understood as (type, (1,)) / '(1,)type'.\n",
      "  _np_quint16 = np.dtype([(\"quint16\", np.uint16, 1)])\n",
      "/ext3/miniconda3/envs/audio_env/lib/python3.6/site-packages/tensorflow/python/framework/dtypes.py:530: FutureWarning: Passing (type, 1) or '1type' as a synonym of type is deprecated; in a future version of numpy, it will be understood as (type, (1,)) / '(1,)type'.\n",
      "  _np_qint32 = np.dtype([(\"qint32\", np.int32, 1)])\n",
      "/ext3/miniconda3/envs/audio_env/lib/python3.6/site-packages/tensorflow/python/framework/dtypes.py:535: FutureWarning: Passing (type, 1) or '1type' as a synonym of type is deprecated; in a future version of numpy, it will be understood as (type, (1,)) / '(1,)type'.\n",
      "  np_resource = np.dtype([(\"resource\", np.ubyte, 1)])\n",
      "Using TensorFlow backend.\n"
     ]
    },
    {
     "name": "stdout",
     "output_type": "stream",
     "text": [
      "WARNING:tensorflow:From /ext3/miniconda3/envs/audio_env/lib/python3.6/site-packages/tensorflow/python/framework/op_def_library.py:263: colocate_with (from tensorflow.python.framework.ops) is deprecated and will be removed in a future version.\n",
      "Instructions for updating:\n",
      "Colocations handled automatically by placer.\n",
      "WARNING:tensorflow:From /ext3/miniconda3/envs/audio_env/lib/python3.6/site-packages/tensorflow/python/util/tf_should_use.py:193: initialize_all_variables (from tensorflow.python.ops.variables) is deprecated and will be removed after 2017-03-02.\n",
      "Instructions for updating:\n",
      "Use `tf.global_variables_initializer` instead.\n"
     ]
    },
    {
     "name": "stderr",
     "output_type": "stream",
     "text": [
      "251it [04:29,  1.11s/it]"
     ]
    }
   ],
   "source": [
    "import os\n",
    "import numpy as np\n",
    "import math\n",
    "import tensorflow as tf\n",
    "import openl3\n",
    "import soundfile as sf\n",
    "from openl3.core import _preprocess_audio_batch\n",
    "from kapre.time_frequency import Spectrogram, Melspectrogram\n",
    "from keras.layers import Input\n",
    "from keras.models import Model, Sequential\n",
    "from tensorflow.python.keras.backend import set_session\n",
    "import keras.backend as K\n",
    "import tqdm\n",
    "from pathlib import Path\n",
    "\n",
    "root_dir = '/scratch/prs392/incubator/data/LibriSpeech/speaker_identification'\n",
    "\n",
    "kinds = ['train', 'val', 'test']\n",
    "\n",
    "for kind in kinds:\n",
    "    data_dir = os.path.join(root_dir, kind)\n",
    "    data_write_dir = os.path.join(root_dir, kind, 'spectrograms')\n",
    "    Path(data_write_dir).mkdir(parents=True, exist_ok=True)\n",
    "    # Get list of paths to audio files\n",
    "    list_of_file_paths = []\n",
    "    for root, dirs, files in os.walk(data_dir):\n",
    "        path = root.split(os.sep)\n",
    "        for file in files:\n",
    "            if file.endswith(\".flac\"):\n",
    "                list_of_file_paths.append(os.path.join(root, file))\n",
    "\n",
    "    # Get list of .npy (output) files that have already been created, so we can avoid doing it again \n",
    "    list_of_npy_files = []\n",
    "    for root, dirs, files in os.walk(data_write_dir):\n",
    "        path = root.split(os.sep)\n",
    "        for file in files:\n",
    "            if file.endswith(\".npy\"):\n",
    "                list_of_npy_files.append(file.split('.')[0])\n",
    "\n",
    "\n",
    "    # Parameters for mel spectrogram (128 frequency bins)\n",
    "    # From _construct_mel128_audio_network at https://github.com/marl/openl3/blob/master/openl3/models.py\n",
    "    weight_decay = 1e-5\n",
    "    n_dft = 2048\n",
    "    n_mels = 128\n",
    "    n_hop = 242\n",
    "    asr = 48000\n",
    "    audio_window_dur = 1\n",
    "\n",
    "    # Start tf session\n",
    "    sess = tf.Session()\n",
    "    graph = tf.get_default_graph()\n",
    "    set_session(sess)\n",
    "    # Set up spectrogram model\n",
    "    x=Input(shape=(1, asr * audio_window_dur), dtype='float32')\n",
    "    mel = Melspectrogram(n_dft=n_dft, n_hop=n_hop, n_mels=n_mels,\n",
    "                                  sr=asr, power_melgram=1.0, htk=True, # n_win=n_win,\n",
    "                                  return_decibel_melgram=True, padding='same')(x)\n",
    "    model = Model(inputs=x, outputs=mel)\n",
    "    tf.global_variables_initializer()\n",
    "    sess.run(tf.initialize_all_variables())\n",
    "\n",
    "    spectrograms_created = 0\n",
    "\n",
    "    for i, audio_file_path in tqdm.tqdm(enumerate(list_of_file_paths)):\n",
    "\n",
    "        file_name = os.path.basename(audio_file_path)\n",
    "\n",
    "        file_id = file_name.split('.')[0]\n",
    "\n",
    "        if file_id not in list_of_npy_files:\n",
    "\n",
    "            audio, sr  = sf.read(audio_file_path)\n",
    "\n",
    "            # Pre-process with padding, centering, hop size, etc. \n",
    "            audio_prep = _preprocess_audio_batch(audio, sr, center=False, hop_size=0.1)\n",
    "\n",
    "            # Break up into batches of size 100 if needed\n",
    "            batch_size=32\n",
    "            #  Do the mel spectrogram transformation\n",
    "            #audio_prep_tensor = tf.constant(audio_prep, dtype='float32')\n",
    "            audio_mel = model.predict(audio_prep)\n",
    "\n",
    "            # Save result\n",
    "            new_spec_file_name = file_id + \".npy\"\n",
    "            new_spec_file_path = os.path.join(data_write_dir, new_spec_file_name)\n",
    "            with open(new_spec_file_path, 'wb+') as f:\n",
    "                np.save(f, audio_mel)\n",
    "            spectrograms_created = spectrograms_created + 1\n",
    "\n",
    "            # Every 1000 cases, reset tenserflow session (to avoid memory leak)\n",
    "            if spectrograms_created == 1000:\n",
    "                K.clear_session()\n",
    "                sess = tf.Session()\n",
    "                graph = tf.get_default_graph()\n",
    "                set_session(sess)\n",
    "                # Set up spectrogram model\n",
    "                x=Input(shape=(1, asr * audio_window_dur), dtype='float32')\n",
    "                mel = Melspectrogram(n_dft=n_dft, n_hop=n_hop, n_mels=n_mels,\n",
    "                                      sr=asr, power_melgram=1.0, htk=True, # n_win=n_win,\n",
    "                                      return_decibel_melgram=True, padding='same')(x)\n",
    "                model = Model(inputs=x, outputs=mel)\n",
    "                tf.global_variables_initializer()\n",
    "                spectrograms_created = 0\n",
    "\n",
    "        else:\n",
    "           #print(file_id + '.npy already exists') \n",
    "           pass\n",
    "\n",
    "        # Log progress\n",
    "#         if i%1000 == 0:\n",
    "#             print(\"{} of {} spectrograms saved.\".format(i+1, len(list_of_file_paths)+1))"
   ]
  },
  {
   "cell_type": "markdown",
   "metadata": {},
   "source": [
    "## Gender Classification"
   ]
  },
  {
   "cell_type": "code",
   "execution_count": 4,
   "metadata": {},
   "outputs": [],
   "source": [
    "df_speakers = pd.read_csv('/scratch/prs392/incubator/data/LibriSpeech/SPEAKERS.TXT', delimiter='|')\n",
    "df_speakers.columns = df_speakers.columns.str.replace(' ', '')\n",
    "for column in df_speakers.columns:\n",
    "    if df_speakers[column].dtype == object and isinstance(df_speakers.iloc[0][column], str):\n",
    "        df_speakers[column] = df_speakers[column].str.strip()"
   ]
  },
  {
   "cell_type": "code",
   "execution_count": 24,
   "metadata": {},
   "outputs": [
    {
     "data": {
      "text/html": [
       "<div>\n",
       "<style scoped>\n",
       "    .dataframe tbody tr th:only-of-type {\n",
       "        vertical-align: middle;\n",
       "    }\n",
       "\n",
       "    .dataframe tbody tr th {\n",
       "        vertical-align: top;\n",
       "    }\n",
       "\n",
       "    .dataframe thead th {\n",
       "        text-align: right;\n",
       "    }\n",
       "</style>\n",
       "<table border=\"1\" class=\"dataframe\">\n",
       "  <thead>\n",
       "    <tr style=\"text-align: right;\">\n",
       "      <th></th>\n",
       "      <th>ID</th>\n",
       "      <th>SEX</th>\n",
       "      <th>SUBSET</th>\n",
       "      <th>MINUTES</th>\n",
       "      <th>NAME</th>\n",
       "    </tr>\n",
       "  </thead>\n",
       "  <tbody>\n",
       "    <tr>\n",
       "      <th>112</th>\n",
       "      <td>211</td>\n",
       "      <td>F</td>\n",
       "      <td>train-clean-100</td>\n",
       "      <td>25.22</td>\n",
       "      <td>shanda_w</td>\n",
       "    </tr>\n",
       "  </tbody>\n",
       "</table>\n",
       "</div>"
      ],
      "text/plain": [
       "      ID SEX           SUBSET  MINUTES      NAME\n",
       "112  211   F  train-clean-100    25.22  shanda_w"
      ]
     },
     "execution_count": 24,
     "metadata": {},
     "output_type": "execute_result"
    }
   ],
   "source": [
    "df_speakers[df_speakers['ID'] == 211]"
   ]
  },
  {
   "cell_type": "code",
   "execution_count": 25,
   "metadata": {},
   "outputs": [
    {
     "data": {
      "text/html": [
       "<div>\n",
       "<style scoped>\n",
       "    .dataframe tbody tr th:only-of-type {\n",
       "        vertical-align: middle;\n",
       "    }\n",
       "\n",
       "    .dataframe tbody tr th {\n",
       "        vertical-align: top;\n",
       "    }\n",
       "\n",
       "    .dataframe thead th {\n",
       "        text-align: right;\n",
       "    }\n",
       "</style>\n",
       "<table border=\"1\" class=\"dataframe\">\n",
       "  <thead>\n",
       "    <tr style=\"text-align: right;\">\n",
       "      <th></th>\n",
       "      <th>ID</th>\n",
       "      <th>SEX</th>\n",
       "      <th>SUBSET</th>\n",
       "      <th>MINUTES</th>\n",
       "      <th>NAME</th>\n",
       "    </tr>\n",
       "  </thead>\n",
       "  <tbody>\n",
       "    <tr>\n",
       "      <th>2292</th>\n",
       "      <td>8098</td>\n",
       "      <td>M</td>\n",
       "      <td>train-clean-100</td>\n",
       "      <td>25.18</td>\n",
       "      <td>Arnold</td>\n",
       "    </tr>\n",
       "  </tbody>\n",
       "</table>\n",
       "</div>"
      ],
      "text/plain": [
       "        ID SEX           SUBSET  MINUTES    NAME\n",
       "2292  8098   M  train-clean-100    25.18  Arnold"
      ]
     },
     "execution_count": 25,
     "metadata": {},
     "output_type": "execute_result"
    }
   ],
   "source": [
    "df_speakers[df_speakers['ID'] == 8098]"
   ]
  },
  {
   "cell_type": "code",
   "execution_count": 21,
   "metadata": {},
   "outputs": [],
   "source": [
    "original_root_dir = '/scratch/prs392/incubator/data/LibriSpeech/'\n",
    "new_root_dir = '/scratch/prs392/incubator/data/LibriSpeech/gender_classification'\n",
    "\n",
    "original_split_data = {\n",
    "    'train': 'train-clean-100',\n",
    "    'val': 'dev-clean',\n",
    "    'test': 'test-clean'\n",
    "}"
   ]
  },
  {
   "cell_type": "code",
   "execution_count": 23,
   "metadata": {},
   "outputs": [],
   "source": [
    "for kind in original_split_data.keys():\n",
    "    for root, dirs, files in os.walk(os.path.join(original_root_dir, original_split_data[kind])):\n",
    "        for filename in files:\n",
    "            if filename.endswith(\".flac\"):\n",
    "                _class = df_speakers[df_speakers['ID'] == int(filename.split('-')[0])]['SEX'].values[0]\n",
    "                org_filepath = os.path.join(root, filename)\n",
    "                new_filepath = os.path.join(new_root_dir, kind, filename.split('-')[0], filename.split('-')[1])\n",
    "                Path(new_filepath).mkdir(parents=True, exist_ok=True)\n",
    "                shutil.copyfile(org_filepath, os.path.join(new_filepath, _class + '-' + filename))"
   ]
  },
  {
   "cell_type": "code",
   "execution_count": null,
   "metadata": {},
   "outputs": [],
   "source": [
    "import os\n",
    "\n",
    "import openl3\n",
    "import soundfile as sf\n",
    "\n",
    "import numpy as np\n",
    "\n",
    "from pathlib import Path\n",
    "\n",
    "import tqdm"
   ]
  },
  {
   "cell_type": "code",
   "execution_count": null,
   "metadata": {},
   "outputs": [],
   "source": [
    "import tensorflow as tf \n",
    "\n",
    "if tf.test.gpu_device_name(): \n",
    "\n",
    "    print('Default GPU Device:{}'.format(tf.test.gpu_device_name()))\n",
    "\n",
    "else:\n",
    "\n",
    "    print(\"Please install GPU version of TF\")"
   ]
  },
  {
   "cell_type": "code",
   "execution_count": null,
   "metadata": {},
   "outputs": [],
   "source": [
    "import os\n",
    "\n",
    "import openl3\n",
    "import soundfile as sf\n",
    "\n",
    "import numpy as np\n",
    "import tqdm\n",
    "\n",
    "from pathlib import Path\n",
    "\n",
    "root_dir = '/scratch/prs392/incubator/data/LibriSpeech/gender_classification'\n",
    "\n",
    "kinds = ['train', 'val', 'test']\n",
    "\n",
    "for kind in kinds:\n",
    "\n",
    "    data_dir = os.path.join(root_dir, kind)\n",
    "\n",
    "    list_of_file_paths = []\n",
    "    for root, dirs, files in os.walk(data_dir):\n",
    "        path = root.split(os.sep)\n",
    "        for file in files:\n",
    "            if file.endswith(\".flac\"):\n",
    "    #             print(os.path.basename(os.path.join(root, file)))\n",
    "                list_of_file_paths.append(os.path.join(root, file))\n",
    "\n",
    "    data_write_dir = os.path.join(root_dir, kind, 'embeddings_6144')\n",
    "    \n",
    "    Path(data_write_dir).mkdir(parents=True, exist_ok=True)\n",
    "#     print(data_write_dir)\n",
    "#     break\n",
    "\n",
    "    list_of_npy_files = []\n",
    "    for root, dirs, files in os.walk(data_write_dir):\n",
    "        path = root.split(os.sep)\n",
    "        for file in files:\n",
    "            if file.endswith(\".npy\"):\n",
    "    #             print(os.path.basename(os.path.join(root, file)))\n",
    "                list_of_npy_files.append(file.split('.')[0])\n",
    "\n",
    "    # print(list_of_npy_files)\n",
    "    model = openl3.models.load_audio_embedding_model(input_repr=\"mel128\", content_type=\"music\", embedding_size=6144)\n",
    "\n",
    "    for audio_file_path in tqdm.tqdm(list_of_file_paths):\n",
    "\n",
    "        file_name = os.path.basename(audio_file_path)\n",
    "\n",
    "        file_id = file_name.split('.')[0]\n",
    "\n",
    "        if file_id not in list_of_npy_files:\n",
    "\n",
    "            audio, sr  = sf.read(audio_file_path)\n",
    "\n",
    "    #         emb, ts = openl3.get_audio_embedding(audio, sr, center = False)\n",
    "            emb, ts = openl3.get_audio_embedding(audio, sr, center = False, model=model, verbose=False)\n",
    "            new_emb_file_name = file_id + \".npy\"\n",
    "            new_emb_file_path = os.path.join(data_write_dir, new_emb_file_name)\n",
    "\n",
    "            with open(new_emb_file_path, 'wb+') as f:\n",
    "                np.save(f, emb)\n",
    "        else:\n",
    "            print(file_id + '.npy already exists') "
   ]
  },
  {
   "cell_type": "code",
   "execution_count": null,
   "metadata": {},
   "outputs": [],
   "source": [
    "import os\n",
    "import numpy as np\n",
    "import math\n",
    "import tensorflow as tf\n",
    "import openl3\n",
    "import soundfile as sf\n",
    "from openl3.core import _preprocess_audio_batch\n",
    "from kapre.time_frequency import Spectrogram, Melspectrogram\n",
    "from keras.layers import Input\n",
    "from keras.models import Model, Sequential\n",
    "from tensorflow.python.keras.backend import set_session\n",
    "import keras.backend as K\n",
    "import tqdm\n",
    "from pathlib import Path\n",
    "\n",
    "root_dir = '/scratch/prs392/incubator/data/LibriSpeech/gender_classification'\n",
    "\n",
    "kinds = ['train', 'val', 'test']\n",
    "\n",
    "for kind in kinds:\n",
    "    data_dir = os.path.join(root_dir, kind)\n",
    "    data_write_dir = os.path.join(root_dir, kind, 'spectrograms')\n",
    "    Path(data_write_dir).mkdir(parents=True, exist_ok=True)\n",
    "    # Get list of paths to audio files\n",
    "    list_of_file_paths = []\n",
    "    for root, dirs, files in os.walk(data_dir):\n",
    "        path = root.split(os.sep)\n",
    "        for file in files:\n",
    "            if file.endswith(\".flac\"):\n",
    "                list_of_file_paths.append(os.path.join(root, file))\n",
    "\n",
    "    # Get list of .npy (output) files that have already been created, so we can avoid doing it again \n",
    "    list_of_npy_files = []\n",
    "    for root, dirs, files in os.walk(data_write_dir):\n",
    "        path = root.split(os.sep)\n",
    "        for file in files:\n",
    "            if file.endswith(\".npy\"):\n",
    "                list_of_npy_files.append(file.split('.')[0])\n",
    "\n",
    "\n",
    "    # Parameters for mel spectrogram (128 frequency bins)\n",
    "    # From _construct_mel128_audio_network at https://github.com/marl/openl3/blob/master/openl3/models.py\n",
    "    weight_decay = 1e-5\n",
    "    n_dft = 2048\n",
    "    n_mels = 128\n",
    "    n_hop = 242\n",
    "    asr = 48000\n",
    "    audio_window_dur = 1\n",
    "\n",
    "    # Start tf session\n",
    "    sess = tf.Session()\n",
    "    graph = tf.get_default_graph()\n",
    "    set_session(sess)\n",
    "    # Set up spectrogram model\n",
    "    x=Input(shape=(1, asr * audio_window_dur), dtype='float32')\n",
    "    mel = Melspectrogram(n_dft=n_dft, n_hop=n_hop, n_mels=n_mels,\n",
    "                                  sr=asr, power_melgram=1.0, htk=True, # n_win=n_win,\n",
    "                                  return_decibel_melgram=True, padding='same')(x)\n",
    "    model = Model(inputs=x, outputs=mel)\n",
    "    tf.global_variables_initializer()\n",
    "    sess.run(tf.initialize_all_variables())\n",
    "\n",
    "    spectrograms_created = 0\n",
    "\n",
    "    for i, audio_file_path in tqdm.tqdm(enumerate(list_of_file_paths)):\n",
    "\n",
    "        file_name = os.path.basename(audio_file_path)\n",
    "\n",
    "        file_id = file_name.split('.')[0]\n",
    "\n",
    "        if file_id not in list_of_npy_files:\n",
    "\n",
    "            audio, sr  = sf.read(audio_file_path)\n",
    "\n",
    "            # Pre-process with padding, centering, hop size, etc. \n",
    "            audio_prep = _preprocess_audio_batch(audio, sr, center=False, hop_size=0.1)\n",
    "\n",
    "            # Break up into batches of size 100 if needed\n",
    "            batch_size=32\n",
    "            #  Do the mel spectrogram transformation\n",
    "            #audio_prep_tensor = tf.constant(audio_prep, dtype='float32')\n",
    "            audio_mel = model.predict(audio_prep)\n",
    "\n",
    "            # Save result\n",
    "            new_spec_file_name = file_id + \".npy\"\n",
    "            new_spec_file_path = os.path.join(data_write_dir, new_spec_file_name)\n",
    "            with open(new_spec_file_path, 'wb+') as f:\n",
    "                np.save(f, audio_mel)\n",
    "            spectrograms_created = spectrograms_created + 1\n",
    "\n",
    "            # Every 1000 cases, reset tenserflow session (to avoid memory leak)\n",
    "            if spectrograms_created == 1000:\n",
    "                K.clear_session()\n",
    "                sess = tf.Session()\n",
    "                graph = tf.get_default_graph()\n",
    "                set_session(sess)\n",
    "                # Set up spectrogram model\n",
    "                x=Input(shape=(1, asr * audio_window_dur), dtype='float32')\n",
    "                mel = Melspectrogram(n_dft=n_dft, n_hop=n_hop, n_mels=n_mels,\n",
    "                                      sr=asr, power_melgram=1.0, htk=True, # n_win=n_win,\n",
    "                                      return_decibel_melgram=True, padding='same')(x)\n",
    "                model = Model(inputs=x, outputs=mel)\n",
    "                tf.global_variables_initializer()\n",
    "                spectrograms_created = 0\n",
    "\n",
    "        else:\n",
    "           #print(file_id + '.npy already exists') \n",
    "           pass\n",
    "\n",
    "        # Log progress\n",
    "#         if i%1000 == 0:\n",
    "#             print(\"{} of {} spectrograms saved.\".format(i+1, len(list_of_file_paths)+1))"
   ]
  },
  {
   "cell_type": "code",
   "execution_count": null,
   "metadata": {},
   "outputs": [],
   "source": []
  }
 ],
 "metadata": {
  "kernelspec": {
   "display_name": "Python 3",
   "language": "python",
   "name": "python3"
  },
  "language_info": {
   "codemirror_mode": {
    "name": "ipython",
    "version": 3
   },
   "file_extension": ".py",
   "mimetype": "text/x-python",
   "name": "python",
   "nbconvert_exporter": "python",
   "pygments_lexer": "ipython3",
   "version": "3.6.10"
  }
 },
 "nbformat": 4,
 "nbformat_minor": 4
}
