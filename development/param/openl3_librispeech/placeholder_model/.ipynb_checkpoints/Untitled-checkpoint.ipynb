{
 "cells": [
  {
   "cell_type": "code",
   "execution_count": 1,
   "metadata": {},
   "outputs": [],
   "source": [
    "from data.dataloader_v1 import AudioDataset\n",
    "from models.placeholder_model import PlaceHolder\n",
    "\n",
    "from argparse import Namespace\n",
    "\n",
    "import torch\n",
    "\n",
    "from pytorch_lightning.loggers import TensorBoardLogger\n",
    "\n",
    "from ipywidgets import IntProgress"
   ]
  },
  {
   "cell_type": "code",
   "execution_count": 2,
   "metadata": {},
   "outputs": [
    {
     "name": "stdout",
     "output_type": "stream",
     "text": [
      "torch.Size([6144]) torch.Size([1, 128, 199]) tensor(101)\n"
     ]
    }
   ],
   "source": [
    "audio_dataset = AudioDataset(root_dir='/scratch/prs392/incubator/data/LibriSpeech/train-clean-360')\n",
    "\n",
    "for i in range(len(audio_dataset)):\n",
    "    sample, spec, j = audio_dataset[i]\n",
    "    print(sample.shape, spec.shape, j)\n",
    "    \n",
    "    if i == 0:\n",
    "        break"
   ]
  },
  {
   "cell_type": "code",
   "execution_count": 3,
   "metadata": {},
   "outputs": [],
   "source": [
    "m = PlaceHolder()"
   ]
  },
  {
   "cell_type": "code",
   "execution_count": 4,
   "metadata": {},
   "outputs": [
    {
     "data": {
      "text/plain": [
       "torch.Size([1, 1, 128, 199])"
      ]
     },
     "execution_count": 4,
     "metadata": {},
     "output_type": "execute_result"
    }
   ],
   "source": [
    "m(sample).shape"
   ]
  },
  {
   "cell_type": "code",
   "execution_count": 5,
   "metadata": {},
   "outputs": [],
   "source": [
    "import torch\n",
    "import torch.nn as nn\n",
    "import torch.nn.functional as F\n",
    "from torch import optim\n",
    "\n",
    "import numpy as np\n",
    "\n",
    "import torchvision\n",
    "from torchvision import transforms\n",
    "\n",
    "from torch.utils.data import DataLoader, random_split\n",
    "\n",
    "import pytorch_lightning as pl\n",
    "from pytorch_lightning.core.saving import load_hparams_from_yaml\n",
    "\n",
    "import os\n",
    "\n",
    "class AbstractModel(pl.LightningModule):\n",
    "    \n",
    "    def __init__(self, \n",
    "                 hparams, \n",
    "                 data_paths, \n",
    "                 dataset_model,\n",
    "                 model, \n",
    "                 criterion = None,\n",
    "                 optimizer = None):\n",
    "        \n",
    "        super().__init__()\n",
    "        self.hparams = hparams\n",
    "        \n",
    "        self.data_paths = data_paths\n",
    "        self.model = model\n",
    "        \n",
    "        if criterion is None:\n",
    "            self.criterion = nn.MSELoss()\n",
    "        else:\n",
    "            self.criterion = criterion\n",
    "            \n",
    "        self.optimizer = optimizer\n",
    "        self.best_validation_loss = 1e6\n",
    "        \n",
    "        self.dataset_model = dataset_model\n",
    "    \n",
    "    def prepare_data(self):\n",
    "        self.train_dataset = self.dataset_model(root_dir=self.data_paths['train'])\n",
    "        self.val_dataset = self.dataset_model(root_dir=self.data_paths['val'])\n",
    "#         self.test_dataset = self.dataset_model(root_dir=self.data_paths['test'])\n",
    "\n",
    "    def train_dataloader(self):\n",
    "        return DataLoader(self.train_dataset, batch_size=self.hparams.batch_size, shuffle=True, num_workers=4, pin_memory=True)\n",
    "\n",
    "    def val_dataloader(self):\n",
    "        return DataLoader(self.val_dataset, batch_size=self.hparams.batch_size, shuffle=False, num_workers=4, pin_memory=True)\n",
    "\n",
    "#     def test_dataloader(self):\n",
    "#         return DataLoader(self.test_dataset, batch_size=self.hparams.batch_size, shuffle=False, num_workers=4, pin_memory=True)\n",
    "\n",
    "    def forward(self, x):\n",
    "        x = self.model(x)\n",
    "        return x\n",
    "\n",
    "    def training_step(self, batch, batch_nb):\n",
    "        # REQUIRED\n",
    "        x, y, i = batch\n",
    "        y_hat = self(x)\n",
    "        loss = self.criterion(y_hat, y)\n",
    "        return {'loss': loss}\n",
    "\n",
    "    def training_epoch_end(self, outputs):\n",
    "        # OPTIONAL\n",
    "        avg_loss = torch.stack([x['loss'] for x in outputs]).mean()\n",
    "        tensorboard_logs = {'train_loss': avg_loss}\n",
    "        return {'train_loss': avg_loss, 'log': tensorboard_logs}\n",
    "\n",
    "    def validation_step(self, batch, batch_nb):\n",
    "        # OPTIONAL\n",
    "        x, y, i = batch\n",
    "        y_hat = self(x)\n",
    "        \n",
    "        return {'val_loss': F.mse_loss(y_hat, y)}\n",
    "\n",
    "    def validation_epoch_end(self, outputs):\n",
    "        # OPTIONAL\n",
    "        avg_loss = torch.stack([x['val_loss'] for x in outputs]).mean()\n",
    "        \n",
    "        if avg_loss.item() < self.best_validation_loss:\n",
    "            self.best_validation_loss = avg_loss.item()\n",
    "            \n",
    "        tensorboard_logs = {'val_loss': avg_loss}\n",
    "        return {'val_loss': avg_loss, 'log': tensorboard_logs}\n",
    "\n",
    "#     def test_step(self, batch, batch_nb):\n",
    "#         # OPTIONAL\n",
    "#         x, y = batch\n",
    "#         y_hat = self(x)\n",
    "        \n",
    "#         return {'test_loss': F.mse_loss(y_hat, y)}\n",
    "\n",
    "#     def test_epoch_end(self, outputs):\n",
    "#         # OPTIONAL\n",
    "#         avg_loss = torch.stack([x['test_loss'] for x in outputs]).mean()\n",
    "        \n",
    "#         logs = {'test_loss': avg_loss}\n",
    "#         return {'test_loss': avg_loss, 'log': logs, 'progress_bar': logs}\n",
    "\n",
    "    def configure_optimizers(self):\n",
    "        \n",
    "        if self.optimizer is None:\n",
    "            optimizer = optim.Adam(self.parameters(), lr=self.hparams.lr)\n",
    "            scheduler = optim.lr_scheduler.StepLR(optimizer, 10, 0.1)\n",
    "            return [optimizer], [scheduler]\n",
    "        \n",
    "        else:\n",
    "            return self.optimizer(self.parameters(), self.hparams)\n",
    "        \n",
    "        return [optimizer], [scheduler]\n"
   ]
  },
  {
   "cell_type": "code",
   "execution_count": 6,
   "metadata": {},
   "outputs": [],
   "source": [
    "data_paths = {}\n",
    "data_paths['train'] = '/scratch/prs392/incubator/data/LibriSpeech/train-clean-360'\n",
    "data_paths['val'] = '/scratch/prs392/incubator/data/LibriSpeech/dev-clean'\n",
    "# data_paths['test'] = '/scratch/prs392/incubator/data/LibriSpeech/test-clean'\n",
    "\n",
    "def optimizer(parameters, hparams):\n",
    "    optimizer = optim.SGD(parameters, lr=hparams.lr)\n",
    "    scheduler = optim.lr_scheduler.StepLR(optimizer, hparams.scheduler_epoch, hparams.scheduler_step_size)\n",
    "    return [optimizer], [scheduler]\n",
    "\n",
    "args = {\n",
    "    'batch_size': 32,\n",
    "    'lr': 0.0002,\n",
    "    'scheduler_epoch': 3,\n",
    "    'scheduler_step_size': 0.1\n",
    "}\n",
    "hparams = Namespace(**args)\n",
    " "
   ]
  },
  {
   "cell_type": "code",
   "execution_count": 7,
   "metadata": {},
   "outputs": [
    {
     "name": "stderr",
     "output_type": "stream",
     "text": [
      "Set SLURM handle signals.\n",
      "\n",
      "  | Name      | Type        | Params\n",
      "------------------------------------------\n",
      "0 | model     | PlaceHolder | 156 M \n",
      "1 | criterion | MSELoss     | 0     \n"
     ]
    },
    {
     "data": {
      "application/vnd.jupyter.widget-view+json": {
       "model_id": "",
       "version_major": 2,
       "version_minor": 0
      },
      "text/plain": [
       "HBox(children=(FloatProgress(value=1.0, bar_style='info', description='Validation sanity check', layout=Layout…"
      ]
     },
     "metadata": {},
     "output_type": "display_data"
    },
    {
     "data": {
      "application/vnd.jupyter.widget-view+json": {
       "model_id": "ad60fb9d09e14c26921aff57256f62f5",
       "version_major": 2,
       "version_minor": 0
      },
      "text/plain": [
       "HBox(children=(FloatProgress(value=1.0, bar_style='info', description='Training', layout=Layout(flex='2'), max…"
      ]
     },
     "metadata": {},
     "output_type": "display_data"
    },
    {
     "name": "stdout",
     "output_type": "stream",
     "text": [
      "\n"
     ]
    },
    {
     "data": {
      "text/plain": [
       "1"
      ]
     },
     "execution_count": 7,
     "metadata": {},
     "output_type": "execute_result"
    }
   ],
   "source": [
    "\n",
    "model = AbstractModel(\n",
    "    hparams=hparams,\n",
    "    data_paths = data_paths, \n",
    "    dataset_model = AudioDataset,\n",
    "    model = PlaceHolder(), \n",
    "    criterion = nn.MSELoss(),\n",
    "    optimizer = optimizer\n",
    ")\n",
    "\n",
    "logger = TensorBoardLogger(\"./\", name=\"test_optimization\")\n",
    "\n",
    "trainer = pl.Trainer(logger=logger, \n",
    "                     max_epochs = 10, \n",
    "                     check_val_every_n_epoch=1,\n",
    "                     fast_dev_run=False)    \n",
    "trainer.fit(model)"
   ]
  },
  {
   "cell_type": "code",
   "execution_count": 16,
   "metadata": {},
   "outputs": [],
   "source": [
    "device = torch.device(\"cuda\" if torch.cuda.is_available() else \"cpu\")"
   ]
  },
  {
   "cell_type": "code",
   "execution_count": 17,
   "metadata": {},
   "outputs": [],
   "source": [
    "from torch import nn\n",
    "import torch\n",
    "\n",
    "class Reshape(nn.Module):\n",
    "    def __init__(self, shape):\n",
    "        super(Reshape, self).__init__()\n",
    "        self.shape = shape\n",
    "\n",
    "    def forward(self, x):\n",
    "#         print(x.shape)\n",
    "        return x.view(-1, *self.shape)\n",
    "    \n",
    "class PlaceHolder(nn.Module):\n",
    "    def __init__(self):\n",
    "        super().__init__()\n",
    "        self.model = nn.Sequential(\n",
    "            \n",
    "            Reshape((512, 4, 3)),\n",
    "            nn.Upsample(size=(16, 24)),\n",
    "            nn.Conv2d(512, 512, kernel_size=(3, 3), stride=(1, 1),padding=(1, 1), bias=False),\n",
    "            nn.ReLU(),\n",
    "            nn.BatchNorm2d(512, eps=1e-05, momentum=0.1, affine=True, track_running_stats=True),\n",
    "            nn.Conv2d(512, 256, kernel_size=(3, 3), stride=(1, 1),padding=(1, 1), bias=False),\n",
    "            nn.Upsample(size=(32, 49)),\n",
    "            nn.Conv2d(256, 256, kernel_size=(3, 3), stride=(1, 1),padding=(1, 1), bias=False),\n",
    "            nn.ReLU(),\n",
    "            nn.BatchNorm2d(256, eps=1e-05, momentum=0.1, affine=True, track_running_stats=True),\n",
    "            nn.Conv2d(256, 256, kernel_size=(3, 3), stride=(1, 1),padding=(1, 1), bias=False),\n",
    "            nn.ReLU(),\n",
    "            nn.BatchNorm2d(256, eps=1e-05, momentum=0.1, affine=True, track_running_stats=True),\n",
    "            nn.Conv2d(256, 128, kernel_size=(3, 3), stride=(1, 1),padding=(1, 1), bias=False),\n",
    "            nn.Upsample(size=(64, 99)),\n",
    "            nn.Conv2d(128, 128, kernel_size=(3, 3), stride=(1, 1),padding=(1, 1), bias=False),\n",
    "            nn.ReLU(),\n",
    "            nn.BatchNorm2d(128, eps=1e-05, momentum=0.1, affine=True, track_running_stats=True),\n",
    "            nn.Conv2d(128, 128, kernel_size=(3, 3), stride=(1, 1),padding=(1, 1), bias=False),\n",
    "            nn.ReLU(),\n",
    "            nn.BatchNorm2d(128, eps=1e-05, momentum=0.1, affine=True, track_running_stats=True),\n",
    "            nn.Conv2d(128, 64, kernel_size=(3, 3), stride=(1, 1),padding=(1, 1), bias=False),\n",
    "            nn.Upsample(size=(128, 199)),\n",
    "            nn.Conv2d(64, 64, kernel_size=(3, 3), stride=(1, 1),padding=(1, 1), bias=False),\n",
    "            nn.ReLU(),\n",
    "            nn.BatchNorm2d(64, eps=1e-05, momentum=0.1, affine=True, track_running_stats=True),\n",
    "            nn.Conv2d(64, 64, kernel_size=(3, 3), stride=(1, 1),padding=(1, 1), bias=False),\n",
    "            nn.ReLU(),\n",
    "            nn.BatchNorm2d(64, eps=1e-05, momentum=0.1, affine=True, track_running_stats=True),\n",
    "            nn.Conv2d(64, 1, kernel_size=(3, 3), stride=(1, 1),padding=(1, 1), bias=False),\n",
    "            nn.BatchNorm2d(1, eps=1e-05, momentum=0.1, affine=True, track_running_stats=True),\n",
    "        )\n",
    "\n",
    "    def forward(self, x):\n",
    "        x = self.model(x)\n",
    "        return x"
   ]
  },
  {
   "cell_type": "code",
   "execution_count": 18,
   "metadata": {},
   "outputs": [
    {
     "name": "stdout",
     "output_type": "stream",
     "text": [
      "----------------------------------------------------------------\n",
      "        Layer (type)               Output Shape         Param #\n",
      "================================================================\n",
      "           Reshape-1            [-1, 512, 4, 3]               0\n",
      "          Upsample-2          [-1, 512, 16, 24]               0\n",
      "            Conv2d-3          [-1, 512, 16, 24]       2,359,296\n",
      "              ReLU-4          [-1, 512, 16, 24]               0\n",
      "       BatchNorm2d-5          [-1, 512, 16, 24]           1,024\n",
      "            Conv2d-6          [-1, 256, 16, 24]       1,179,648\n",
      "          Upsample-7          [-1, 256, 32, 49]               0\n",
      "            Conv2d-8          [-1, 256, 32, 49]         589,824\n",
      "              ReLU-9          [-1, 256, 32, 49]               0\n",
      "      BatchNorm2d-10          [-1, 256, 32, 49]             512\n",
      "           Conv2d-11          [-1, 256, 32, 49]         589,824\n",
      "             ReLU-12          [-1, 256, 32, 49]               0\n",
      "      BatchNorm2d-13          [-1, 256, 32, 49]             512\n",
      "           Conv2d-14          [-1, 128, 32, 49]         294,912\n",
      "         Upsample-15          [-1, 128, 64, 99]               0\n",
      "           Conv2d-16          [-1, 128, 64, 99]         147,456\n",
      "             ReLU-17          [-1, 128, 64, 99]               0\n",
      "      BatchNorm2d-18          [-1, 128, 64, 99]             256\n",
      "           Conv2d-19          [-1, 128, 64, 99]         147,456\n",
      "             ReLU-20          [-1, 128, 64, 99]               0\n",
      "      BatchNorm2d-21          [-1, 128, 64, 99]             256\n",
      "           Conv2d-22           [-1, 64, 64, 99]          73,728\n",
      "         Upsample-23         [-1, 64, 128, 199]               0\n",
      "           Conv2d-24         [-1, 64, 128, 199]          36,864\n",
      "             ReLU-25         [-1, 64, 128, 199]               0\n",
      "      BatchNorm2d-26         [-1, 64, 128, 199]             128\n",
      "           Conv2d-27         [-1, 64, 128, 199]          36,864\n",
      "             ReLU-28         [-1, 64, 128, 199]               0\n",
      "      BatchNorm2d-29         [-1, 64, 128, 199]             128\n",
      "           Conv2d-30          [-1, 1, 128, 199]             576\n",
      "      BatchNorm2d-31          [-1, 1, 128, 199]               2\n",
      "================================================================\n",
      "Total params: 5,459,266\n",
      "Trainable params: 5,459,266\n",
      "Non-trainable params: 0\n",
      "----------------------------------------------------------------\n",
      "Input size (MB): 0.02\n",
      "Forward/backward pass size (MB): 163.62\n",
      "Params size (MB): 20.83\n",
      "Estimated Total Size (MB): 184.47\n",
      "----------------------------------------------------------------\n"
     ]
    }
   ],
   "source": [
    "from torchsummary import summary\n",
    "import torch.nn as nn\n",
    "\n",
    "model = PlaceHolder().to(device)\n",
    "\n",
    "summary(model, input_size=(6144,))"
   ]
  },
  {
   "cell_type": "code",
   "execution_count": 20,
   "metadata": {},
   "outputs": [
    {
     "ename": "TypeError",
     "evalue": "__init__() got an unexpected keyword argument 'verbose'",
     "output_type": "error",
     "traceback": [
      "\u001b[0;31m---------------------------------------------------------------------------\u001b[0m",
      "\u001b[0;31mTypeError\u001b[0m                                 Traceback (most recent call last)",
      "\u001b[0;32m<ipython-input-20-5261ba02fc26>\u001b[0m in \u001b[0;36m<module>\u001b[0;34m\u001b[0m\n\u001b[1;32m     35\u001b[0m                      \u001b[0mdistributed_backend\u001b[0m\u001b[0;34m=\u001b[0m\u001b[0;34m'dp'\u001b[0m\u001b[0;34m,\u001b[0m\u001b[0;34m\u001b[0m\u001b[0;34m\u001b[0m\u001b[0m\n\u001b[1;32m     36\u001b[0m                      \u001b[0mfast_dev_run\u001b[0m\u001b[0;34m=\u001b[0m\u001b[0;32mFalse\u001b[0m\u001b[0;34m,\u001b[0m\u001b[0;34m\u001b[0m\u001b[0;34m\u001b[0m\u001b[0m\n\u001b[0;32m---> 37\u001b[0;31m                      verbose = True)    \n\u001b[0m\u001b[1;32m     38\u001b[0m \u001b[0mtrainer\u001b[0m\u001b[0;34m.\u001b[0m\u001b[0mfit\u001b[0m\u001b[0;34m(\u001b[0m\u001b[0mmodel\u001b[0m\u001b[0;34m)\u001b[0m\u001b[0;34m\u001b[0m\u001b[0;34m\u001b[0m\u001b[0m\n",
      "\u001b[0;31mTypeError\u001b[0m: __init__() got an unexpected keyword argument 'verbose'"
     ]
    }
   ],
   "source": [
    "data_paths = {}\n",
    "data_paths['train'] = '/scratch/prs392/incubator/data/LibriSpeech/train-clean-360'\n",
    "data_paths['val'] = '/scratch/prs392/incubator/data/LibriSpeech/dev-clean'\n",
    "# data_paths['test'] = '/scratch/prs392/incubator/data/LibriSpeech/test-clean'\n",
    "\n",
    "def optimizer(parameters, hparams):\n",
    "    optimizer = optim.SGD(parameters, lr=hparams.lr)\n",
    "    scheduler = optim.lr_scheduler.StepLR(optimizer, hparams.scheduler_epoch, hparams.scheduler_step_size)\n",
    "    return [optimizer], [scheduler]\n",
    "\n",
    "args = {\n",
    "    'batch_size': 32,\n",
    "    'lr': 0.0002,\n",
    "    'scheduler_epoch': 3,\n",
    "    'scheduler_step_size': 0.1\n",
    "}\n",
    "hparams = Namespace(**args)\n",
    " \n",
    "\n",
    "model = AbstractModel(\n",
    "    hparams=hparams,\n",
    "    data_paths = data_paths, \n",
    "    dataset_model = AudioDataset,\n",
    "    model = PlaceHolder(), \n",
    "    criterion = nn.MSELoss(),\n",
    "    optimizer = optimizer\n",
    ")\n",
    "\n",
    "logger = TensorBoardLogger(\"./\", name=\"test_optimization\")\n",
    "\n",
    "trainer = pl.Trainer(logger=logger, \n",
    "                     max_epochs = 10, \n",
    "                     check_val_every_n_epoch=1,\n",
    "                     gpus=-1,\n",
    "                     distributed_backend='dp',\n",
    "                     fast_dev_run=False,\n",
    "                     verbose = True)    \n",
    "trainer.fit(model)"
   ]
  },
  {
   "cell_type": "code",
   "execution_count": null,
   "metadata": {},
   "outputs": [],
   "source": []
  }
 ],
 "metadata": {
  "kernelspec": {
   "display_name": "Python 3",
   "language": "python",
   "name": "python3"
  },
  "language_info": {
   "codemirror_mode": {
    "name": "ipython",
    "version": 3
   },
   "file_extension": ".py",
   "mimetype": "text/x-python",
   "name": "python",
   "nbconvert_exporter": "python",
   "pygments_lexer": "ipython3",
   "version": "3.7.7"
  }
 },
 "nbformat": 4,
 "nbformat_minor": 4
}
