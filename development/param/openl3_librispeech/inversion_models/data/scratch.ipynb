{
 "cells": [
  {
   "cell_type": "code",
   "execution_count": 1,
   "metadata": {},
   "outputs": [],
   "source": [
    "import os\n",
    "import random\n",
    "\n",
    "import torch\n",
    "from torch.utils.data import Dataset\n",
    "import torchaudio.functional as F\n",
    "\n",
    "import numpy as np\n",
    "\n",
    "\n",
    "class AudioDataset(Dataset):\n",
    "\n",
    "    def __init__(self, root_dir, transform=None, num_audios = -1):\n",
    "        \n",
    "        self.root_dir = root_dir\n",
    "        self.transform = transform\n",
    "        \n",
    "        self.num_audios = num_audios\n",
    "        \n",
    "        self.list_of_embedding_file_names = []\n",
    "        self.embeddings_dir = os.path.join(self.root_dir, 'embeddings_6144')\n",
    "        \n",
    "#         print(num_audios)\n",
    "        \n",
    "        for root, dirs, files in os.walk(self.embeddings_dir):\n",
    "            for file in files:\n",
    "                if file.endswith(\".npy\"):\n",
    "                     self.list_of_embedding_file_names.append(file)\n",
    "        \n",
    "        list_of_spectrogram_file_names = []\n",
    "        self.spectrograms_dir = os.path.join(self.root_dir, 'spectrograms')\n",
    "        \n",
    "        for root, dirs, files in os.walk(self.spectrograms_dir):\n",
    "            for file in files:\n",
    "                if file.endswith(\".npy\"):\n",
    "                     list_of_spectrogram_file_names.append(file)\n",
    "                        \n",
    "        assert set(list_of_spectrogram_file_names) == set(self.list_of_embedding_file_names)\n",
    "        \n",
    "        del list_of_spectrogram_file_names\n",
    "        \n",
    "        self.list_of_embedding_frames = []\n",
    "        \n",
    "        for i, file_name in enumerate(self.list_of_embedding_file_names):\n",
    "            emb_path = os.path.join(self.embeddings_dir, file_name)\n",
    "            temp = np.load(emb_path, mmap_mode='r')\n",
    "            self.list_of_embedding_frames.append(temp.shape[0])\n",
    "            if i == int(self.num_audios) - 1:\n",
    "                break\n",
    "        print(self.list_of_embedding_file_names[0])\n",
    "        print(self.list_of_embedding_file_names[4])\n",
    "        print(self.list_of_embedding_file_names[9])\n",
    "                \n",
    "        self.list_of_embedding_files_frames = [(self.list_of_embedding_file_names[i], j) \n",
    "                                               for i in range(len(self.list_of_embedding_frames))\n",
    "                                               for j in range(self.list_of_embedding_frames[i]) ]\n",
    "        \n",
    "        \n",
    "#         print(self.list_of_embedding_frames, len(self.list_of_embedding_files_frames))\n",
    "                \n",
    "    def __len__(self):\n",
    "        return len(self.list_of_embedding_files_frames)\n",
    "\n",
    "    def __getitem__(self, idx):\n",
    "        \n",
    "        file_name = self.list_of_embedding_files_frames[idx][0]\n",
    "        \n",
    "        emb_path = os.path.join(self.embeddings_dir, file_name)\n",
    "        \n",
    "        spec_path = os.path.join(self.spectrograms_dir, file_name)\n",
    "        \n",
    "        frame_idx = self.list_of_embedding_files_frames[idx][1]\n",
    "        \n",
    "        \n",
    "        with open(emb_path, 'rb') as f:\n",
    "            emb = np.load(f)\n",
    "            \n",
    "        with open(spec_path, 'rb') as f:\n",
    "            spec = np.load(f)\n",
    "            \n",
    "#         print(self.list_of_embedding_files_frames[idx],frame_idx,len(emb),len(spec))\n",
    "        \n",
    "        emb_tensor = torch.from_numpy(emb[frame_idx])\n",
    "        spec_tensor = torch.from_numpy(spec[frame_idx]).permute(2, 0, 1)\n",
    "        \n",
    "        spec_tensor_amp = F.DB_to_amplitude(x = spec_tensor, ref = 1, power = 0.5)\n",
    "        \n",
    "        return emb_tensor, spec_tensor_amp, torch.tensor(frame_idx)\n",
    "\n"
   ]
  },
  {
   "cell_type": "code",
   "execution_count": 3,
   "metadata": {},
   "outputs": [
    {
     "name": "stdout",
     "output_type": "stream",
     "text": [
      "6567-53342-0017.npy\n",
      "8329-279775-0030.npy\n",
      "209-157830-0008.npy\n"
     ]
    }
   ],
   "source": [
    "audio_dataset = AudioDataset(root_dir='/scratch/prs392/incubator/data/LibriSpeech/train-clean-360', num_audios = 10)\n",
    "\n",
    "# for i in range(len(audio_dataset)):\n",
    "#     emb, spec, j = audio_dataset[i]\n",
    "#     print(\"Embeddings shape: \" + str(emb.shape))\n",
    "#     print(\"Expected Spectrogram shape: \" + str(spec.shape))\n",
    "#     if i == 50:\n",
    "#         break"
   ]
  },
  {
   "cell_type": "code",
   "execution_count": 5,
   "metadata": {},
   "outputs": [
    {
     "name": "stdout",
     "output_type": "stream",
     "text": [
      "6567-53342-0017.npy\n",
      "8329-279775-0030.npy\n",
      "209-157830-0008.npy\n"
     ]
    }
   ],
   "source": [
    "audio_dataset = AudioDataset(root_dir='/scratch/prs392/incubator/data/LibriSpeech/train-clean-360', num_audios = 10)"
   ]
  },
  {
   "cell_type": "code",
   "execution_count": 6,
   "metadata": {},
   "outputs": [
    {
     "name": "stdout",
     "output_type": "stream",
     "text": [
      "6567-53342-0017.npy\n",
      "8329-279775-0030.npy\n",
      "209-157830-0008.npy\n"
     ]
    }
   ],
   "source": [
    "audio_dataset = AudioDataset(root_dir='/scratch/prs392/incubator/data/LibriSpeech/train-clean-360', num_audios = 10)"
   ]
  },
  {
   "cell_type": "code",
   "execution_count": 9,
   "metadata": {},
   "outputs": [
    {
     "name": "stdout",
     "output_type": "stream",
     "text": [
      "4446-2271-0007.npy\n",
      "260-123286-0014.npy\n",
      "7176-92135-0016.npy\n"
     ]
    }
   ],
   "source": [
    "audio_dataset = AudioDataset(root_dir='/scratch/prs392/incubator/data/LibriSpeech/test-clean', num_audios = 10)"
   ]
  },
  {
   "cell_type": "code",
   "execution_count": 10,
   "metadata": {},
   "outputs": [
    {
     "name": "stdout",
     "output_type": "stream",
     "text": [
      "4446-2271-0007.npy\n",
      "260-123286-0014.npy\n",
      "7176-92135-0016.npy\n"
     ]
    }
   ],
   "source": [
    "audio_dataset = AudioDataset(root_dir='/scratch/prs392/incubator/data/LibriSpeech/test-clean', num_audios = 10)"
   ]
  },
  {
   "cell_type": "code",
   "execution_count": null,
   "metadata": {},
   "outputs": [],
   "source": []
  }
 ],
 "metadata": {
  "kernelspec": {
   "display_name": "Python 3",
   "language": "python",
   "name": "python3"
  },
  "language_info": {
   "codemirror_mode": {
    "name": "ipython",
    "version": 3
   },
   "file_extension": ".py",
   "mimetype": "text/x-python",
   "name": "python",
   "nbconvert_exporter": "python",
   "pygments_lexer": "ipython3",
   "version": "3.7.7"
  }
 },
 "nbformat": 4,
 "nbformat_minor": 4
}
