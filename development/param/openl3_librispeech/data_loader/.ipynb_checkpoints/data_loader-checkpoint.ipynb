{
 "cells": [
  {
   "cell_type": "code",
   "execution_count": 1,
   "metadata": {},
   "outputs": [],
   "source": [
    "from data.dataloader_v1 import AudioDataset"
   ]
  },
  {
   "cell_type": "code",
   "execution_count": 2,
   "metadata": {},
   "outputs": [
    {
     "name": "stdout",
     "output_type": "stream",
     "text": [
      "/home/prs392/codes/incubator/non-invertible-audio-feature-generation/development/param/openl3_librispeech/data_loader\r\n"
     ]
    }
   ],
   "source": [
    "! pwd"
   ]
  },
  {
   "cell_type": "code",
   "execution_count": 4,
   "metadata": {},
   "outputs": [],
   "source": [
    "import os\n",
    "import random\n",
    "\n",
    "import torch\n",
    "from torch.utils.data import Dataset\n",
    "import torchaudio.functional as F\n",
    "\n",
    "import numpy as np\n",
    "import pandas as pd\n",
    "\n",
    "import tqdm\n",
    "\n",
    "\n",
    "def binarySearch(data, val):\n",
    "    highIndex = len(data)-1\n",
    "    lowIndex = 0\n",
    "    while highIndex > lowIndex:\n",
    "            index = (highIndex + lowIndex) // 2\n",
    "            sub = data[index]\n",
    "            if data[lowIndex] == val:\n",
    "                    return [lowIndex, lowIndex]\n",
    "            elif sub == val:\n",
    "                    return [index, index]\n",
    "            elif data[highIndex] == val:\n",
    "                    return [highIndex, highIndex]\n",
    "            elif sub > val:\n",
    "                    if highIndex == index:\n",
    "                            return sorted([highIndex, lowIndex])\n",
    "                    highIndex = index\n",
    "            else:\n",
    "                    if lowIndex == index:\n",
    "                            return sorted([highIndex, lowIndex])\n",
    "                    lowIndex = index\n",
    "    return sorted([highIndex, lowIndex])\n",
    "\n",
    "\n",
    "class AudioDataset(Dataset):\n",
    "\n",
    "    def __init__(self, root_dir, transform=None, num_audios = -1, return_amp = True):\n",
    "        \n",
    "        self.root_dir = root_dir\n",
    "        self.transform = transform\n",
    "        self.num_audios = num_audios\n",
    "        self.return_amp = return_amp\n",
    "        \n",
    "        self.df = pd.read_csv(root_dir, 'number_of_frames_per_audio.csv')\n",
    "        self.cumulative_sum = self.df['number_of_frames'].cumsum()\n",
    "                \n",
    "    def __len__(self):\n",
    "        return self.df['number_of_frames'].sum()\n",
    "\n",
    "    def __getitem__(self, idx):\n",
    "        \n",
    "        low_index, high_index = binarySearch(self.cumulative_sum, idx+1)\n",
    "        \n",
    "        file_name = self.df.iloc[high_index]['file_name']\n",
    "        \n",
    "        emb_path = os.path.join(self.embeddings_dir, file_name)\n",
    "        \n",
    "        spec_path = os.path.join(self.spectrograms_dir, file_name)\n",
    "        \n",
    "        frame_idx = self.list_of_embedding_files_frames[idx][1]\n",
    "        \n",
    "        \n",
    "        with open(emb_path, 'rb') as f:\n",
    "            emb = np.load(f)\n",
    "            \n",
    "        with open(spec_path, 'rb') as f:\n",
    "            spec = np.load(f)\n",
    "            \n",
    "#         print(self.list_of_embedding_files_frames[idx],frame_idx,len(emb),len(spec))\n",
    "        \n",
    "        emb_tensor = torch.from_numpy(emb[frame_idx])\n",
    "        spec_tensor = torch.from_numpy(spec[frame_idx]).permute(2, 0, 1)\n",
    "        \n",
    "        if self.return_amp is True:\n",
    "            spec_tensor_amp = F.DB_to_amplitude(x = spec_tensor, ref = 1, power = 0.5)\n",
    "            return emb_tensor, spec_tensor_amp, torch.tensor(frame_idx)\n",
    "        \n",
    "        else:\n",
    "            return emb_tensor, spec_tensor, torch.tensor(frame_idx)\n",
    "\n"
   ]
  },
  {
   "cell_type": "code",
   "execution_count": 7,
   "metadata": {},
   "outputs": [],
   "source": [
    "# audio_dataset = AudioDataset(root_dir='/scratch/prs392/incubator/data/LibriSpeech/train-clean-360')\n",
    "\n",
    "# for i in range(len(audio_dataset)):\n",
    "#     sample, spec, j = audio_dataset[i]\n",
    "#     print(sample.shape, spec.shape, j)\n",
    "    \n",
    "#     if i == 100:\n",
    "#         break"
   ]
  },
  {
   "cell_type": "code",
   "execution_count": 9,
   "metadata": {},
   "outputs": [],
   "source": [
    "root_dir = '/scratch/prs392/incubator/data/LibriSpeech/train-clean-360'\n",
    "df = pd.read_csv(os.path.join(root_dir, 'number_of_frames_per_audio.csv'))"
   ]
  },
  {
   "cell_type": "code",
   "execution_count": 11,
   "metadata": {},
   "outputs": [],
   "source": [
    "cumulative_sum = df['number_of_frames'].cumsum()"
   ]
  },
  {
   "cell_type": "code",
   "execution_count": 32,
   "metadata": {},
   "outputs": [
    {
     "data": {
      "text/plain": [
       "0         150\n",
       "1         130\n",
       "2         143\n",
       "3         130\n",
       "4         143\n",
       "         ... \n",
       "104009    152\n",
       "104010    110\n",
       "104011    149\n",
       "104012    130\n",
       "104013    124\n",
       "Name: number_of_frames, Length: 104014, dtype: int64"
      ]
     },
     "execution_count": 32,
     "metadata": {},
     "output_type": "execute_result"
    }
   ],
   "source": [
    "df['number_of_frames']"
   ]
  },
  {
   "cell_type": "code",
   "execution_count": 30,
   "metadata": {},
   "outputs": [
    {
     "data": {
      "text/plain": [
       "0              150\n",
       "1              280\n",
       "2              423\n",
       "3              553\n",
       "4              696\n",
       "            ...   \n",
       "104009    12202480\n",
       "104010    12202590\n",
       "104011    12202739\n",
       "104012    12202869\n",
       "104013    12202993\n",
       "Name: number_of_frames, Length: 104014, dtype: int64"
      ]
     },
     "execution_count": 30,
     "metadata": {},
     "output_type": "execute_result"
    }
   ],
   "source": [
    "cumulative_sum"
   ]
  },
  {
   "cell_type": "code",
   "execution_count": 15,
   "metadata": {},
   "outputs": [],
   "source": [
    "def binarySearch(data, val):\n",
    "    highIndex = len(data)-1\n",
    "    lowIndex = 0\n",
    "    while highIndex > lowIndex:\n",
    "            index = (highIndex + lowIndex) // 2\n",
    "            sub = data[index]\n",
    "            if data[lowIndex] == val:\n",
    "                    return [lowIndex, lowIndex]\n",
    "            elif sub == val:\n",
    "                    return [index, index]\n",
    "            elif data[highIndex] == val:\n",
    "                    return [highIndex, highIndex]\n",
    "            elif sub > val:\n",
    "                    if highIndex == index:\n",
    "                            return sorted([highIndex, lowIndex])\n",
    "                    highIndex = index\n",
    "            else:\n",
    "                    if lowIndex == index:\n",
    "                            return sorted([highIndex, lowIndex])\n",
    "                    lowIndex = index\n",
    "    return sorted([highIndex, lowIndex])"
   ]
  },
  {
   "cell_type": "code",
   "execution_count": 33,
   "metadata": {},
   "outputs": [],
   "source": [
    "l, h = binarySearch(cumulative_sum, 281)"
   ]
  },
  {
   "cell_type": "code",
   "execution_count": 41,
   "metadata": {},
   "outputs": [
    {
     "data": {
      "text/plain": [
       "'439-123866-0023.npy'"
      ]
     },
     "execution_count": 41,
     "metadata": {},
     "output_type": "execute_result"
    }
   ],
   "source": [
    "df.iloc[l]['file_name']"
   ]
  },
  {
   "cell_type": "code",
   "execution_count": null,
   "metadata": {},
   "outputs": [],
   "source": []
  }
 ],
 "metadata": {
  "kernelspec": {
   "display_name": "Python 3",
   "language": "python",
   "name": "python3"
  },
  "language_info": {
   "codemirror_mode": {
    "name": "ipython",
    "version": 3
   },
   "file_extension": ".py",
   "mimetype": "text/x-python",
   "name": "python",
   "nbconvert_exporter": "python",
   "pygments_lexer": "ipython3",
   "version": "3.7.7"
  }
 },
 "nbformat": 4,
 "nbformat_minor": 4
}
