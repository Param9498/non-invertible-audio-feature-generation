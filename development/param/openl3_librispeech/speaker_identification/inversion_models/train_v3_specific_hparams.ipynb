{
 "cells": [
  {
   "cell_type": "code",
   "execution_count": 1,
   "metadata": {},
   "outputs": [],
   "source": [
    "import dataloaders.audio_dataset as dataset\n",
    "import models.inversion_v3_stacked as inversion_model\n",
    "from abstract_model import AbstractModel\n",
    "\n",
    "import torch\n",
    "import torch.nn as nn\n",
    "from torch import optim\n",
    "\n",
    "import os\n",
    "\n",
    "from argparse import Namespace\n",
    "from pathlib import Path\n",
    "\n",
    "import pytorch_lightning as pl\n",
    "from pytorch_lightning.loggers import TensorBoardLogger\n",
    "from pytorch_lightning.callbacks import ModelCheckpoint\n",
    "from pytorch_lightning import Trainer, seed_everything\n",
    "\n",
    "from ax.plot.contour import plot_contour\n",
    "from ax.plot.trace import optimization_trace_single_method\n",
    "from ax.service.managed_loop import optimize\n",
    "from ax.utils.notebook.plotting import render, init_notebook_plotting\n",
    "\n",
    "from tensorboard.backend.event_processing import event_accumulator\n",
    "\n",
    "from ax.service.ax_client import AxClient\n",
    "\n",
    "import numpy as np\n",
    "\n",
    "from ipywidgets import IntProgress"
   ]
  },
  {
   "cell_type": "code",
   "execution_count": 2,
   "metadata": {},
   "outputs": [],
   "source": [
    "def _load_run(path):\n",
    "    event_acc = event_accumulator.EventAccumulator(path)\n",
    "    event_acc.Reload()\n",
    "    data = {}\n",
    "\n",
    "    for tag in sorted(event_acc.Tags()[\"scalars\"]):\n",
    "        x, y = [], []\n",
    "\n",
    "        for scalar_event in event_acc.Scalars(tag):\n",
    "            x.append(scalar_event.step)\n",
    "            y.append(scalar_event.value)\n",
    "\n",
    "        data[tag] = (np.asarray(x), np.asarray(y))\n",
    "    return data"
   ]
  },
  {
   "cell_type": "code",
   "execution_count": 3,
   "metadata": {},
   "outputs": [],
   "source": [
    "AudioDataset = dataset.AudioDataset\n",
    "InversionV3 = inversion_model.InversionV3\n",
    "\n",
    "data_paths = {}\n",
    "data_paths['train'] = '/scratch/prs392/incubator/data/LibriSpeech/speaker_identification/train'\n",
    "data_paths['val'] = '/scratch/prs392/incubator/data/LibriSpeech/speaker_identification/val'\n",
    "data_paths['test'] = '/scratch/prs392/incubator/data/LibriSpeech/speaker_identification/test'"
   ]
  },
  {
   "cell_type": "code",
   "execution_count": 4,
   "metadata": {},
   "outputs": [],
   "source": [
    "# SCRATCH = \"your/scratch/location\"\n",
    "SCRATCH = \"/scratch/prs392\"\n",
    "algo = \"inversion_v3_sketch_identification\"\n",
    "data_path = f\"{SCRATCH}/incubator/data/LibriSpeech/speaker_identification\"\n",
    "checkpoint_path = f\"{SCRATCH}/incubator/checkpoints/openl3_librispeech/{algo}/\"\n",
    "experiment_name = \"specific_hparams\"\n"
   ]
  },
  {
   "cell_type": "code",
   "execution_count": 5,
   "metadata": {},
   "outputs": [
    {
     "data": {
      "text/plain": [
       "'/scratch/prs392/incubator/checkpoints/openl3_librispeech/inversion_v3_sketch_identification/'"
      ]
     },
     "execution_count": 5,
     "metadata": {},
     "output_type": "execute_result"
    }
   ],
   "source": [
    "checkpoint_path"
   ]
  },
  {
   "cell_type": "code",
   "execution_count": 6,
   "metadata": {},
   "outputs": [],
   "source": [
    "Path(checkpoint_path).mkdir(parents=True, exist_ok=True)"
   ]
  },
  {
   "cell_type": "code",
   "execution_count": 7,
   "metadata": {},
   "outputs": [
    {
     "name": "stdout",
     "output_type": "stream",
     "text": [
      "Embeddings shape: torch.Size([6144])\n",
      "Expected Spectrogram shape: torch.Size([1, 128, 199])\n",
      "Predicted Spectrogram shape: torch.Size([1, 1, 128, 199])\n"
     ]
    }
   ],
   "source": [
    "audio_dataset = AudioDataset(root_dir=data_paths['train'], num_audios = 10, return_amp = True)\n",
    "\n",
    "for i in range(len(audio_dataset)):\n",
    "    emb, spec, audio_prep, file_name, j = audio_dataset[i]\n",
    "    print(\"Embeddings shape: \" + str(emb.shape))\n",
    "    print(\"Expected Spectrogram shape: \" + str(spec.shape))\n",
    "    m = InversionV3()\n",
    "    pred = m(emb)\n",
    "    print(\"Predicted Spectrogram shape: \" + str(pred.shape))\n",
    "    if i == 0:\n",
    "        break"
   ]
  },
  {
   "cell_type": "code",
   "execution_count": 8,
   "metadata": {},
   "outputs": [],
   "source": [
    "d = os.path.join(checkpoint_path, experiment_name)\n",
    "Path(d).mkdir(parents=True, exist_ok=True)\n",
    "versions = [o for o in os.listdir(d) if os.path.isdir(os.path.join(d,o))]\n",
    "versions = sorted(versions)"
   ]
  },
  {
   "cell_type": "code",
   "execution_count": 9,
   "metadata": {},
   "outputs": [],
   "source": [
    "from pytorch_lightning.core.saving import load_hparams_from_yaml\n",
    "\n",
    "list_existing_hparams = []\n",
    "list_of_val_loss = []\n",
    "\n",
    "for version in versions:\n",
    "    hparam_path = os.path.join(checkpoint_path, experiment_name, version, 'hparams.yaml')\n",
    "    hparams_new = load_hparams_from_yaml(hparam_path)\n",
    "    \n",
    "    print(hparams_new)\n",
    "    print(min(_load_run(os.path.join(checkpoint_path, experiment_name, version))['val_loss'][1]))\n",
    "    hparams_new.pop(\"return_amp\", None)    \n",
    "    hparams_new.pop(\"num_workers\", None)\n",
    "    hparams_new.pop(\"num_frames\", None)\n",
    "    hparams_new.pop(\"emb_means\", None)\n",
    "    hparams_new.pop(\"emb_stds\", None)\n",
    "    hparams_new.pop(\"spec_means\", None)\n",
    "    hparams_new.pop(\"spec_stds\", None)\n",
    "    hparams_new.pop(\"test_num_audios\", None)\n",
    "    hparams_new.pop(\"train_num_audios\", None)\n",
    "    hparams_new.pop(\"val_num_audios\", None)\n",
    "    \n",
    "    list_existing_hparams.append(hparams_new)\n",
    "    list_of_val_loss.append(min(_load_run(os.path.join(checkpoint_path, experiment_name, version))['val_loss'][1]))"
   ]
  },
  {
   "cell_type": "code",
   "execution_count": 10,
   "metadata": {},
   "outputs": [
    {
     "data": {
      "text/plain": [
       "([], [])"
      ]
     },
     "execution_count": 10,
     "metadata": {},
     "output_type": "execute_result"
    }
   ],
   "source": [
    "list_existing_hparams, list_of_val_loss"
   ]
  },
  {
   "cell_type": "code",
   "execution_count": 11,
   "metadata": {},
   "outputs": [],
   "source": [
    "def train_evaluate(parameterization):\n",
    "    \n",
    "    AudioDataset = dataset.AudioDataset\n",
    "    InversionV3 = inversion_model.InversionV3\n",
    "    \n",
    "    data_paths = {}\n",
    "    data_paths['train'] = os.path.join(data_path, 'train')\n",
    "    data_paths['val'] = os.path.join(data_path, 'val')\n",
    "    data_paths['test'] = os.path.join(data_path, 'test')\n",
    "    \n",
    "    seed_everything(123)\n",
    "    \n",
    "    print(parameterization)\n",
    "    \n",
    "    for idx, existing_hparams in enumerate(list_existing_hparams):\n",
    "        shared_items = {k: existing_hparams[k] for k in existing_hparams if k in parameterization and existing_hparams[k] == parameterization[k]}\n",
    "        \n",
    "        if len(existing_hparams) == len(shared_items):\n",
    "            print(\"Val loss: \" + str(list_of_val_loss[idx]))\n",
    "            return {'val_loss' : (list_of_val_loss[idx], 0.0)}\n",
    "        \n",
    "    parameterization['return_amp'] = True\n",
    "    parameterization['num_workers'] = 7\n",
    "    \n",
    "    hparams = Namespace(**parameterization)\n",
    "    \n",
    "    model = AbstractModel(\n",
    "                hparams=hparams,\n",
    "                data_paths = data_paths, \n",
    "                dataset_model = AudioDataset,\n",
    "                model = InversionV3(), \n",
    "                criterion = nn.MSELoss()\n",
    "            )\n",
    "\n",
    "    logger = TensorBoardLogger(checkpoint_path, name=experiment_name)\n",
    "\n",
    "    checkpoint_callback = ModelCheckpoint(\n",
    "        filepath=None,\n",
    "        save_top_k=True,\n",
    "        save_last = True,\n",
    "        verbose=False,\n",
    "        monitor='val_loss',\n",
    "        mode='min',\n",
    "        prefix=''\n",
    "    )\n",
    "\n",
    "    if torch.cuda.device_count() == 0:\n",
    "        print('cpu')\n",
    "        trainer = Trainer(\n",
    "            logger=logger,\n",
    "            default_root_dir=checkpoint_path,\n",
    "            checkpoint_callback = checkpoint_callback,\n",
    "            row_log_interval=50,\n",
    "            log_save_interval=500,\n",
    "            max_epochs=50,\n",
    "            fast_dev_run=False\n",
    "        )\n",
    "    else:\n",
    "        trainer = Trainer(\n",
    "            logger=logger,\n",
    "            default_root_dir=checkpoint_path,\n",
    "            checkpoint_callback = checkpoint_callback,\n",
    "            row_log_interval=50,\n",
    "            log_save_interval=500,\n",
    "            gpus = -1,\n",
    "            distributed_backend='dp',\n",
    "            max_epochs=50,\n",
    "            fast_dev_run=False\n",
    "        )\n",
    "\n",
    "    trainer.fit(model)\n",
    "    trainer.test(model)\n",
    "    print(\"Val loss: \" + str(model.best_validation_loss))\n",
    "    return {'val_loss' : (model.best_validation_loss, 0.0)}"
   ]
  },
  {
   "cell_type": "code",
   "execution_count": 12,
   "metadata": {},
   "outputs": [
    {
     "name": "stderr",
     "output_type": "stream",
     "text": [
      "[INFO 08-06 00:45:33] ax.service.ax_client: Starting optimization with verbose logging. To disable logging, set the `verbose_logging` argument to `False`. Note that float values in the logs are rounded to 2 decimal points.\n",
      "[INFO 08-06 00:45:33] ax.modelbridge.dispatch_utils: Using Sobol generation strategy.\n"
     ]
    },
    {
     "name": "stdout",
     "output_type": "stream",
     "text": [
      "In WithDBSettings, db settings: None\n"
     ]
    }
   ],
   "source": [
    "ax_client = AxClient()\n",
    "ax_client.create_experiment(\n",
    "    name=\"choose_optimizer_scheduler\",\n",
    "    parameters=[\n",
    "        {\"name\": \"batch_size\", \"type\": \"choice\", \"values\": [16, 32]},\n",
    "        {\"name\": \"lr\", \"type\": \"range\", \"bounds\": [1e-6, 0.1], \"log_scale\": True},\n",
    "        {\"name\": \"lr_type\", \"type\": \"choice\", \"values\": ['adam', 'sgd']},\n",
    "        {\"name\": \"scheduler_epoch\", \"type\": \"choice\", \"values\": [3, 4, 5, 7, 9]},\n",
    "        {\"name\": \"scheduler_step_size\", \"type\": \"range\", \"bounds\": [0.1, 1.0]},\n",
    "    ],\n",
    "    objective_name=\"val_loss\",\n",
    "    minimize=True,\n",
    ")"
   ]
  },
  {
   "cell_type": "code",
   "execution_count": null,
   "metadata": {},
   "outputs": [
    {
     "name": "stderr",
     "output_type": "stream",
     "text": [
      "[INFO 08-06 00:45:34] ax.service.ax_client: Attached custom parameterization {'lr': 0.0, 'scheduler_step_size': 0.73, 'batch_size': 32, 'lr_type': 'sgd', 'scheduler_epoch': 4} as trial 0.\n"
     ]
    },
    {
     "name": "stdout",
     "output_type": "stream",
     "text": [
      "{'lr': 1.8363759499907522e-05, 'scheduler_step_size': 0.7303553459234535, 'batch_size': 32, 'lr_type': 'sgd', 'scheduler_epoch': 4}\n"
     ]
    },
    {
     "name": "stderr",
     "output_type": "stream",
     "text": [
      "GPU available: True, used: True\n",
      "TPU available: False, using: 0 TPU cores\n",
      "CUDA_VISIBLE_DEVICES: [0,1,2,3,4]\n",
      "Set SLURM handle signals.\n",
      "\n",
      "  | Name      | Type        | Params\n",
      "------------------------------------------\n",
      "0 | model     | InversionV3 | 16 M  \n",
      "1 | criterion | MSELoss     | 0     \n"
     ]
    },
    {
     "data": {
      "application/vnd.jupyter.widget-view+json": {
       "model_id": "",
       "version_major": 2,
       "version_minor": 0
      },
      "text/plain": [
       "HBox(children=(FloatProgress(value=1.0, bar_style='info', description='Validation sanity check', layout=Layout…"
      ]
     },
     "metadata": {},
     "output_type": "display_data"
    },
    {
     "data": {
      "application/vnd.jupyter.widget-view+json": {
       "model_id": "536a50ef4d934417809630a27a9add47",
       "version_major": 2,
       "version_minor": 0
      },
      "text/plain": [
       "HBox(children=(FloatProgress(value=1.0, bar_style='info', description='Training', layout=Layout(flex='2'), max…"
      ]
     },
     "metadata": {},
     "output_type": "display_data"
    },
    {
     "data": {
      "application/vnd.jupyter.widget-view+json": {
       "model_id": "",
       "version_major": 2,
       "version_minor": 0
      },
      "text/plain": [
       "HBox(children=(FloatProgress(value=1.0, bar_style='info', description='Validating', layout=Layout(flex='2'), m…"
      ]
     },
     "metadata": {},
     "output_type": "display_data"
    },
    {
     "data": {
      "application/vnd.jupyter.widget-view+json": {
       "model_id": "",
       "version_major": 2,
       "version_minor": 0
      },
      "text/plain": [
       "HBox(children=(FloatProgress(value=1.0, bar_style='info', description='Validating', layout=Layout(flex='2'), m…"
      ]
     },
     "metadata": {},
     "output_type": "display_data"
    },
    {
     "data": {
      "application/vnd.jupyter.widget-view+json": {
       "model_id": "",
       "version_major": 2,
       "version_minor": 0
      },
      "text/plain": [
       "HBox(children=(FloatProgress(value=1.0, bar_style='info', description='Validating', layout=Layout(flex='2'), m…"
      ]
     },
     "metadata": {},
     "output_type": "display_data"
    },
    {
     "data": {
      "application/vnd.jupyter.widget-view+json": {
       "model_id": "",
       "version_major": 2,
       "version_minor": 0
      },
      "text/plain": [
       "HBox(children=(FloatProgress(value=1.0, bar_style='info', description='Validating', layout=Layout(flex='2'), m…"
      ]
     },
     "metadata": {},
     "output_type": "display_data"
    },
    {
     "data": {
      "application/vnd.jupyter.widget-view+json": {
       "model_id": "15ece72892d74c2ca414c18b0a6bdf60",
       "version_major": 2,
       "version_minor": 0
      },
      "text/plain": [
       "HBox(children=(FloatProgress(value=1.0, bar_style='info', description='Validating', layout=Layout(flex='2'), m…"
      ]
     },
     "metadata": {},
     "output_type": "display_data"
    }
   ],
   "source": [
    "params = {\n",
    "    'lr': 1.8363759499907522e-05, \n",
    "    'scheduler_step_size': 0.7303553459234535, \n",
    "    'batch_size': 32, \n",
    "    'lr_type': 'sgd', \n",
    "    'scheduler_epoch': 4\n",
    "}\n",
    "\n",
    "parameters, trial_index = ax_client.attach_trial(params)\n",
    "ax_client.complete_trial(trial_index=trial_index, raw_data=train_evaluate(parameters))\n",
    "total_number_of_trials -= 1\n",
    "    "
   ]
  },
  {
   "cell_type": "code",
   "execution_count": null,
   "metadata": {},
   "outputs": [],
   "source": [
    "total_number_of_trials = 50\n",
    "\n",
    "for params in list_existing_hparams:\n",
    "    parameters, trial_index = ax_client.attach_trial(params)\n",
    "    ax_client.complete_trial(trial_index=trial_index, raw_data=train_evaluate(parameters))\n",
    "    total_number_of_trials -= 1\n",
    "    \n",
    "for _ in range(total_number_of_trials - len(list_existing_hparams)):        \n",
    "    parameters, trial_index = ax_client.get_next_trial()\n",
    "    ax_client.complete_trial(trial_index=trial_index, raw_data=train_evaluate(parameters))\n",
    "    "
   ]
  },
  {
   "cell_type": "code",
   "execution_count": null,
   "metadata": {},
   "outputs": [],
   "source": []
  }
 ],
 "metadata": {
  "kernelspec": {
   "display_name": "Python 3",
   "language": "python",
   "name": "python3"
  },
  "language_info": {
   "codemirror_mode": {
    "name": "ipython",
    "version": 3
   },
   "file_extension": ".py",
   "mimetype": "text/x-python",
   "name": "python",
   "nbconvert_exporter": "python",
   "pygments_lexer": "ipython3",
   "version": "3.7.7"
  }
 },
 "nbformat": 4,
 "nbformat_minor": 4
}
