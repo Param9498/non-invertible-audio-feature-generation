{
 "cells": [
  {
   "cell_type": "code",
   "execution_count": 1,
   "metadata": {},
   "outputs": [
    {
     "name": "stderr",
     "output_type": "stream",
     "text": [
      "Using TensorFlow backend.\n",
      "/home/prs392/miniconda3/envs/audio_env/lib/python3.6/site-packages/tensorflow/python/framework/dtypes.py:526: FutureWarning: Passing (type, 1) or '1type' as a synonym of type is deprecated; in a future version of numpy, it will be understood as (type, (1,)) / '(1,)type'.\n",
      "  _np_qint8 = np.dtype([(\"qint8\", np.int8, 1)])\n",
      "/home/prs392/miniconda3/envs/audio_env/lib/python3.6/site-packages/tensorflow/python/framework/dtypes.py:527: FutureWarning: Passing (type, 1) or '1type' as a synonym of type is deprecated; in a future version of numpy, it will be understood as (type, (1,)) / '(1,)type'.\n",
      "  _np_quint8 = np.dtype([(\"quint8\", np.uint8, 1)])\n",
      "/home/prs392/miniconda3/envs/audio_env/lib/python3.6/site-packages/tensorflow/python/framework/dtypes.py:528: FutureWarning: Passing (type, 1) or '1type' as a synonym of type is deprecated; in a future version of numpy, it will be understood as (type, (1,)) / '(1,)type'.\n",
      "  _np_qint16 = np.dtype([(\"qint16\", np.int16, 1)])\n",
      "/home/prs392/miniconda3/envs/audio_env/lib/python3.6/site-packages/tensorflow/python/framework/dtypes.py:529: FutureWarning: Passing (type, 1) or '1type' as a synonym of type is deprecated; in a future version of numpy, it will be understood as (type, (1,)) / '(1,)type'.\n",
      "  _np_quint16 = np.dtype([(\"quint16\", np.uint16, 1)])\n",
      "/home/prs392/miniconda3/envs/audio_env/lib/python3.6/site-packages/tensorflow/python/framework/dtypes.py:530: FutureWarning: Passing (type, 1) or '1type' as a synonym of type is deprecated; in a future version of numpy, it will be understood as (type, (1,)) / '(1,)type'.\n",
      "  _np_qint32 = np.dtype([(\"qint32\", np.int32, 1)])\n",
      "/home/prs392/miniconda3/envs/audio_env/lib/python3.6/site-packages/tensorflow/python/framework/dtypes.py:535: FutureWarning: Passing (type, 1) or '1type' as a synonym of type is deprecated; in a future version of numpy, it will be understood as (type, (1,)) / '(1,)type'.\n",
      "  np_resource = np.dtype([(\"resource\", np.ubyte, 1)])\n"
     ]
    }
   ],
   "source": [
    "import os\n",
    "\n",
    "import openl3\n",
    "import soundfile as sf\n",
    "\n",
    "import numpy as np\n",
    "\n",
    "from pathlib import Path\n",
    "\n",
    "import tqdm"
   ]
  },
  {
   "cell_type": "code",
   "execution_count": 2,
   "metadata": {},
   "outputs": [
    {
     "name": "stdout",
     "output_type": "stream",
     "text": [
      "Default GPU Device:/device:GPU:0\n"
     ]
    }
   ],
   "source": [
    "import tensorflow as tf \n",
    "\n",
    "if tf.test.gpu_device_name(): \n",
    "\n",
    "    print('Default GPU Device:{}'.format(tf.test.gpu_device_name()))\n",
    "\n",
    "else:\n",
    "\n",
    "    print(\"Please install GPU version of TF\")"
   ]
  },
  {
   "cell_type": "code",
   "execution_count": null,
   "metadata": {
    "scrolled": true
   },
   "outputs": [
    {
     "name": "stderr",
     "output_type": "stream",
     "text": [
      "100%|██████████| 14915/14915 [4:14:39<00:00,  1.02s/it]  \n",
      " 96%|█████████▌| 2429/2543 [39:01<01:51,  1.02it/s]"
     ]
    }
   ],
   "source": [
    "import os\n",
    "\n",
    "import openl3\n",
    "import soundfile as sf\n",
    "\n",
    "import numpy as np\n",
    "import tqdm\n",
    "\n",
    "from pathlib import Path\n",
    "\n",
    "root_dir = '/scratch/prs392/incubator/data/OpenMic'\n",
    "\n",
    "kinds = ['train', 'val', 'test']\n",
    "\n",
    "for kind in kinds:\n",
    "\n",
    "    data_dir = os.path.join(root_dir, kind)\n",
    "\n",
    "    list_of_file_paths = []\n",
    "    for root, dirs, files in os.walk(data_dir):\n",
    "        path = root.split(os.sep)\n",
    "        for file in files:\n",
    "            if file.endswith(\".ogg\"):\n",
    "    #             print(os.path.basename(os.path.join(root, file)))\n",
    "                list_of_file_paths.append(os.path.join(root, file))\n",
    "\n",
    "    data_write_dir = os.path.join(root_dir, kind, 'embeddings_6144')\n",
    "    \n",
    "    Path(data_write_dir).mkdir(parents=True, exist_ok=True)\n",
    "#     print(data_write_dir)\n",
    "#     break\n",
    "\n",
    "    list_of_npy_files = []\n",
    "    for root, dirs, files in os.walk(data_write_dir):\n",
    "        path = root.split(os.sep)\n",
    "        for file in files:\n",
    "            if file.endswith(\".npy\"):\n",
    "    #             print(os.path.basename(os.path.join(root, file)))\n",
    "                list_of_npy_files.append(file.split('.')[0])\n",
    "\n",
    "    # print(list_of_npy_files)\n",
    "    model = openl3.models.load_audio_embedding_model(input_repr=\"mel128\", content_type=\"music\", embedding_size=6144)\n",
    "\n",
    "    for audio_file_path in tqdm.tqdm(list_of_file_paths):\n",
    "\n",
    "        file_name = os.path.basename(audio_file_path)\n",
    "\n",
    "        file_id = file_name.split('.')[0]\n",
    "\n",
    "        if file_id not in list_of_npy_files:\n",
    "\n",
    "            audio, sr  = sf.read(audio_file_path)\n",
    "\n",
    "    #         emb, ts = openl3.get_audio_embedding(audio, sr, center = False)\n",
    "            emb, ts = openl3.get_audio_embedding(audio, sr, center = False, model=model, verbose=False)\n",
    "            new_emb_file_name = file_id + \".npy\"\n",
    "            new_emb_file_path = os.path.join(data_write_dir, new_emb_file_name)\n",
    "\n",
    "            with open(new_emb_file_path, 'wb+') as f:\n",
    "                np.save(f, emb)\n",
    "        else:\n",
    "            print(file_id + '.npy already exists') "
   ]
  },
  {
   "cell_type": "code",
   "execution_count": null,
   "metadata": {},
   "outputs": [],
   "source": []
  }
 ],
 "metadata": {
  "kernelspec": {
   "display_name": "Python 3",
   "language": "python",
   "name": "python3"
  },
  "language_info": {
   "codemirror_mode": {
    "name": "ipython",
    "version": 3
   },
   "file_extension": ".py",
   "mimetype": "text/x-python",
   "name": "python",
   "nbconvert_exporter": "python",
   "pygments_lexer": "ipython3",
   "version": "3.6.10"
  }
 },
 "nbformat": 4,
 "nbformat_minor": 4
}
