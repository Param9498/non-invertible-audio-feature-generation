{
 "cells": [
  {
   "cell_type": "code",
   "execution_count": 1,
   "metadata": {},
   "outputs": [],
   "source": [
    "import dataloaders.audio_dataset as dataset\n",
    "import models.inversion_v3 as inversion_model\n",
    "from abstract_model import AbstractModel\n",
    "\n",
    "import torch\n",
    "import torch.nn as nn\n",
    "from torch import optim\n",
    "\n",
    "import os\n",
    "\n",
    "from argparse import Namespace\n",
    "from pathlib import Path\n",
    "\n",
    "import pytorch_lightning as pl\n",
    "from pytorch_lightning.loggers import TensorBoardLogger\n",
    "from pytorch_lightning.callbacks import ModelCheckpoint\n",
    "from pytorch_lightning import Trainer, seed_everything\n",
    "\n",
    "from ax.plot.contour import plot_contour\n",
    "from ax.plot.trace import optimization_trace_single_method\n",
    "from ax.service.managed_loop import optimize\n",
    "from ax.utils.notebook.plotting import render, init_notebook_plotting\n",
    "\n",
    "from ax.service.ax_client import AxClient\n",
    "\n",
    "from ipywidgets import IntProgress"
   ]
  },
  {
   "cell_type": "code",
   "execution_count": 2,
   "metadata": {},
   "outputs": [],
   "source": [
    "from tensorboard.backend.event_processing import event_accumulator\n",
    "import numpy as np\n",
    "\n",
    "def _load_run(path):\n",
    "    event_acc = event_accumulator.EventAccumulator(path)\n",
    "    event_acc.Reload()\n",
    "    data = {}\n",
    "\n",
    "    for tag in sorted(event_acc.Tags()[\"scalars\"]):\n",
    "        x, y = [], []\n",
    "\n",
    "        for scalar_event in event_acc.Scalars(tag):\n",
    "            x.append(scalar_event.step)\n",
    "            y.append(scalar_event.value)\n",
    "\n",
    "        data[tag] = (np.asarray(x), np.asarray(y))\n",
    "    return data"
   ]
  },
  {
   "cell_type": "code",
   "execution_count": 3,
   "metadata": {},
   "outputs": [],
   "source": [
    "AudioDataset = dataset.AudioDataset\n",
    "InversionV3 = inversion_model.InversionV3\n",
    "\n",
    "data_paths = {}\n",
    "data_paths['train'] = '/scratch/prs392/incubator/data/OpenMic/train'\n",
    "data_paths['val'] = '/scratch/prs392/incubator/data/OpenMic/val'\n",
    "data_paths['test'] = '/scratch/prs392/incubator/data/OpenMic/test'"
   ]
  },
  {
   "cell_type": "code",
   "execution_count": 4,
   "metadata": {},
   "outputs": [],
   "source": [
    "# SCRATCH = \"your/scratch/location\"\n",
    "SCRATCH = \"/scratch/prs392\"\n",
    "algo = \"inversion_v3\"\n",
    "data_path = f\"{SCRATCH}/incubator/data/OpenMic/\"\n",
    "checkpoint_path = f\"{SCRATCH}/incubator/checkpoints/openl3_openmic/{algo}/\"\n",
    "experiment_name = \"overfitting_1_frame_specific_hparams\""
   ]
  },
  {
   "cell_type": "code",
   "execution_count": 5,
   "metadata": {},
   "outputs": [
    {
     "data": {
      "text/plain": [
       "'/scratch/prs392/incubator/checkpoints/openl3_openmic/inversion_v3/'"
      ]
     },
     "execution_count": 5,
     "metadata": {},
     "output_type": "execute_result"
    }
   ],
   "source": [
    "checkpoint_path"
   ]
  },
  {
   "cell_type": "code",
   "execution_count": 6,
   "metadata": {},
   "outputs": [],
   "source": [
    "Path(checkpoint_path).mkdir(parents=True, exist_ok=True)"
   ]
  },
  {
   "cell_type": "code",
   "execution_count": 7,
   "metadata": {},
   "outputs": [
    {
     "name": "stdout",
     "output_type": "stream",
     "text": [
      "Embeddings shape: torch.Size([6144])\n",
      "Expected Spectrogram shape: torch.Size([1, 128, 199])\n",
      "Predicted Spectrogram shape: torch.Size([1, 1, 128, 199])\n",
      "011394_130560.npy tensor(0)\n"
     ]
    }
   ],
   "source": [
    "audio_dataset = AudioDataset(root_dir=data_paths['train'], num_audios = 10, return_amp = True)\n",
    "\n",
    "for i in range(len(audio_dataset)):\n",
    "    emb, spec, file_name, j = audio_dataset[i]\n",
    "    print(\"Embeddings shape: \" + str(emb.shape))\n",
    "    print(\"Expected Spectrogram shape: \" + str(spec.shape))\n",
    "    m = InversionV3()\n",
    "    pred = m(emb)\n",
    "    print(\"Predicted Spectrogram shape: \" + str(pred.shape))\n",
    "    print(file_name, j)\n",
    "    if i == 0:\n",
    "        break"
   ]
  },
  {
   "cell_type": "code",
   "execution_count": 8,
   "metadata": {},
   "outputs": [],
   "source": [
    "d = os.path.join(checkpoint_path, experiment_name)\n",
    "Path(d).mkdir(parents=True, exist_ok=True)\n",
    "versions = [o for o in os.listdir(d) if os.path.isdir(os.path.join(d,o))]\n",
    "versions = sorted(versions)"
   ]
  },
  {
   "cell_type": "code",
   "execution_count": 9,
   "metadata": {},
   "outputs": [
    {
     "name": "stdout",
     "output_type": "stream",
     "text": [
      "{'batch_size': 64, 'emb_means': None, 'emb_stds': None, 'lr': 0.006592709565603906, 'lr_type': 'sgd', 'num_frames': 1, 'num_workers': 10, 'return_amp': True, 'scheduler_epoch': 7, 'scheduler_step_size': 0.4561185354366899, 'spec_means': None, 'spec_stds': None, 'test_num_audios': 100, 'train_num_audios': 100, 'val_num_audios': 100}\n",
      "0.00873532984405756\n"
     ]
    }
   ],
   "source": [
    "from pytorch_lightning.core.saving import load_hparams_from_yaml\n",
    "\n",
    "list_existing_hparams = []\n",
    "list_of_val_loss = []\n",
    "\n",
    "for version in versions:\n",
    "    hparam_path = os.path.join(checkpoint_path, experiment_name, version, 'hparams.yaml')\n",
    "    hparams_new = load_hparams_from_yaml(hparam_path)\n",
    "    \n",
    "    print(hparams_new)\n",
    "    print(min(_load_run(os.path.join(checkpoint_path, experiment_name, version))['val_loss'][1]))\n",
    "    hparams_new.pop(\"train_num_audios\", None)    \n",
    "    hparams_new.pop(\"val_num_audios\", None)    \n",
    "    hparams_new.pop(\"test_num_audios\", None)    \n",
    "    \n",
    "    list_existing_hparams.append(hparams_new)\n",
    "    list_of_val_loss.append(min(_load_run(os.path.join(checkpoint_path, experiment_name, version))['val_loss'][1]))\n",
    "    "
   ]
  },
  {
   "cell_type": "code",
   "execution_count": 10,
   "metadata": {},
   "outputs": [
    {
     "data": {
      "text/plain": [
       "([{'batch_size': 64,\n",
       "   'emb_means': None,\n",
       "   'emb_stds': None,\n",
       "   'lr': 0.006592709565603906,\n",
       "   'lr_type': 'sgd',\n",
       "   'num_frames': 1,\n",
       "   'num_workers': 10,\n",
       "   'return_amp': True,\n",
       "   'scheduler_epoch': 7,\n",
       "   'scheduler_step_size': 0.4561185354366899,\n",
       "   'spec_means': None,\n",
       "   'spec_stds': None}],\n",
       " [0.00873532984405756])"
      ]
     },
     "execution_count": 10,
     "metadata": {},
     "output_type": "execute_result"
    }
   ],
   "source": [
    "list_existing_hparams, list_of_val_loss"
   ]
  },
  {
   "cell_type": "code",
   "execution_count": 17,
   "metadata": {},
   "outputs": [],
   "source": [
    "def train_evaluate(parameterization):\n",
    "    \n",
    "    AudioDataset = dataset.AudioDataset\n",
    "    InversionV3 = inversion_model.InversionV3\n",
    "    \n",
    "    data_paths = {}\n",
    "    data_paths['train'] = os.path.join(data_path, 'train')\n",
    "    data_paths['val'] = os.path.join(data_path, 'val')\n",
    "    data_paths['test'] = os.path.join(data_path, 'test')\n",
    "    \n",
    "    seed_everything(123)\n",
    "    \n",
    "    print(parameterization)\n",
    "    \n",
    "    for idx, existing_hparams in enumerate(list_existing_hparams):\n",
    "        shared_items = {k: existing_hparams[k] for k in existing_hparams if k in parameterization and existing_hparams[k] == parameterization[k]}\n",
    "        \n",
    "        if len(existing_hparams) == len(shared_items):\n",
    "            print(\"Val loss: \" + str(list_of_val_loss[idx]))\n",
    "            return {'val_loss' : (list_of_val_loss[idx], 0.0)}\n",
    "        \n",
    "    parameterization['train_num_audios'] = 100\n",
    "    parameterization['val_num_audios'] = 100\n",
    "    parameterization['test_num_audios'] = 100\n",
    "    parameterization['num_frames'] = 1\n",
    "    parameterization['return_amp'] = True\n",
    "    parameterization['num_workers'] = 10\n",
    "    \n",
    "    hparams = Namespace(**parameterization)\n",
    "    \n",
    "    model = AbstractModel(\n",
    "                hparams=hparams,\n",
    "                data_paths = data_paths, \n",
    "                dataset_model = AudioDataset,\n",
    "                model = InversionV3(), \n",
    "                criterion = nn.MSELoss()\n",
    "            )\n",
    "\n",
    "    logger = TensorBoardLogger(checkpoint_path, name=experiment_name)\n",
    "\n",
    "    checkpoint_callback = ModelCheckpoint(\n",
    "        filepath=None,\n",
    "        save_top_k=True,\n",
    "        save_last = True,\n",
    "        verbose=False,\n",
    "        monitor='val_loss',\n",
    "        mode='min',\n",
    "        prefix=''\n",
    "    )\n",
    "\n",
    "    if torch.cuda.device_count() == 0:\n",
    "        print('cpu')\n",
    "        trainer = Trainer(\n",
    "            logger=logger,\n",
    "            default_root_dir=checkpoint_path,\n",
    "            checkpoint_callback = checkpoint_callback,\n",
    "            max_epochs=100,\n",
    "            fast_dev_run=False\n",
    "        )\n",
    "    else:\n",
    "        trainer = Trainer(\n",
    "            logger=logger,\n",
    "            default_root_dir=checkpoint_path,\n",
    "            checkpoint_callback = checkpoint_callback,\n",
    "            gpus = -1,\n",
    "            distributed_backend='dp',\n",
    "            overfit_batches=1.0,\n",
    "            max_epochs=500,\n",
    "            fast_dev_run=False\n",
    "        )\n",
    "\n",
    "    trainer.fit(model)\n",
    "    trainer.test(model)\n",
    "    print(model.list_of_files)\n",
    "    print(model.list_of_frames)\n",
    "    print(\"Val loss: \" + str(model.best_validation_loss))\n",
    "    return {'val_loss' : (model.best_validation_loss, 0.0)}"
   ]
  },
  {
   "cell_type": "code",
   "execution_count": 18,
   "metadata": {},
   "outputs": [
    {
     "name": "stderr",
     "output_type": "stream",
     "text": [
      "[INFO 08-03 18:34:45] ax.service.ax_client: Starting optimization with verbose logging. To disable logging, set the `verbose_logging` argument to `False`. Note that float values in the logs are rounded to 2 decimal points.\n",
      "[INFO 08-03 18:34:45] ax.modelbridge.dispatch_utils: Using Sobol generation strategy.\n"
     ]
    },
    {
     "name": "stdout",
     "output_type": "stream",
     "text": [
      "In WithDBSettings, db settings: None\n"
     ]
    }
   ],
   "source": [
    "ax_client = AxClient()\n",
    "ax_client.create_experiment(\n",
    "    name=\"choose_optimizer_scheduler\",\n",
    "    parameters=[\n",
    "        {\"name\": \"batch_size\", \"type\": \"choice\", \"values\": [32, 64]},\n",
    "        {\"name\": \"lr\", \"type\": \"range\", \"bounds\": [1e-6, 0.1], \"log_scale\": True},\n",
    "        {\"name\": \"lr_type\", \"type\": \"choice\", \"values\": ['adam', 'sgd']},\n",
    "        {\"name\": \"scheduler_epoch\", \"type\": \"choice\", \"values\": [3, 5, 7, 9]},\n",
    "        {\"name\": \"scheduler_step_size\", \"type\": \"range\", \"bounds\": [0.1, 1.0]},\n",
    "    ],\n",
    "    objective_name=\"val_loss\",\n",
    "    minimize=True,\n",
    ")"
   ]
  },
  {
   "cell_type": "code",
   "execution_count": null,
   "metadata": {},
   "outputs": [
    {
     "name": "stderr",
     "output_type": "stream",
     "text": [
      "[INFO 08-03 18:34:46] ax.service.ax_client: Attached custom parameterization {'lr': 0.01, 'scheduler_step_size': 0.46, 'batch_size': 64, 'lr_type': 'sgd', 'scheduler_epoch': 7} as trial 0.\n",
      "GPU available: True, used: True\n",
      "TPU available: False, using: 0 TPU cores\n",
      "CUDA_VISIBLE_DEVICES: [0]\n"
     ]
    },
    {
     "name": "stdout",
     "output_type": "stream",
     "text": [
      "{'lr': 0.006592709565603905, 'scheduler_step_size': 0.4561185354366899, 'batch_size': 64, 'lr_type': 'sgd', 'scheduler_epoch': 7}\n"
     ]
    },
    {
     "name": "stderr",
     "output_type": "stream",
     "text": [
      "Set SLURM handle signals.\n",
      "\n",
      "  | Name      | Type        | Params\n",
      "------------------------------------------\n",
      "0 | model     | InversionV3 | 16 M  \n",
      "1 | criterion | MSELoss     | 0     \n"
     ]
    },
    {
     "data": {
      "application/vnd.jupyter.widget-view+json": {
       "model_id": "c4e28eec9e27491c81144269f2418d3f",
       "version_major": 2,
       "version_minor": 0
      },
      "text/plain": [
       "HBox(children=(FloatProgress(value=1.0, bar_style='info', description='Validation sanity check', layout=Layout…"
      ]
     },
     "metadata": {},
     "output_type": "display_data"
    },
    {
     "data": {
      "application/vnd.jupyter.widget-view+json": {
       "model_id": "eacd6febf839400990b4e70e13f9233a",
       "version_major": 2,
       "version_minor": 0
      },
      "text/plain": [
       "HBox(children=(FloatProgress(value=1.0, bar_style='info', description='Training', layout=Layout(flex='2'), max…"
      ]
     },
     "metadata": {},
     "output_type": "display_data"
    },
    {
     "data": {
      "application/vnd.jupyter.widget-view+json": {
       "model_id": "",
       "version_major": 2,
       "version_minor": 0
      },
      "text/plain": [
       "HBox(children=(FloatProgress(value=1.0, bar_style='info', description='Validating', layout=Layout(flex='2'), m…"
      ]
     },
     "metadata": {},
     "output_type": "display_data"
    },
    {
     "data": {
      "application/vnd.jupyter.widget-view+json": {
       "model_id": "",
       "version_major": 2,
       "version_minor": 0
      },
      "text/plain": [
       "HBox(children=(FloatProgress(value=1.0, bar_style='info', description='Validating', layout=Layout(flex='2'), m…"
      ]
     },
     "metadata": {},
     "output_type": "display_data"
    },
    {
     "data": {
      "application/vnd.jupyter.widget-view+json": {
       "model_id": "",
       "version_major": 2,
       "version_minor": 0
      },
      "text/plain": [
       "HBox(children=(FloatProgress(value=1.0, bar_style='info', description='Validating', layout=Layout(flex='2'), m…"
      ]
     },
     "metadata": {},
     "output_type": "display_data"
    },
    {
     "data": {
      "application/vnd.jupyter.widget-view+json": {
       "model_id": "",
       "version_major": 2,
       "version_minor": 0
      },
      "text/plain": [
       "HBox(children=(FloatProgress(value=1.0, bar_style='info', description='Validating', layout=Layout(flex='2'), m…"
      ]
     },
     "metadata": {},
     "output_type": "display_data"
    },
    {
     "data": {
      "application/vnd.jupyter.widget-view+json": {
       "model_id": "",
       "version_major": 2,
       "version_minor": 0
      },
      "text/plain": [
       "HBox(children=(FloatProgress(value=1.0, bar_style='info', description='Validating', layout=Layout(flex='2'), m…"
      ]
     },
     "metadata": {},
     "output_type": "display_data"
    },
    {
     "data": {
      "application/vnd.jupyter.widget-view+json": {
       "model_id": "",
       "version_major": 2,
       "version_minor": 0
      },
      "text/plain": [
       "HBox(children=(FloatProgress(value=1.0, bar_style='info', description='Validating', layout=Layout(flex='2'), m…"
      ]
     },
     "metadata": {},
     "output_type": "display_data"
    },
    {
     "data": {
      "application/vnd.jupyter.widget-view+json": {
       "model_id": "",
       "version_major": 2,
       "version_minor": 0
      },
      "text/plain": [
       "HBox(children=(FloatProgress(value=1.0, bar_style='info', description='Validating', layout=Layout(flex='2'), m…"
      ]
     },
     "metadata": {},
     "output_type": "display_data"
    },
    {
     "data": {
      "application/vnd.jupyter.widget-view+json": {
       "model_id": "",
       "version_major": 2,
       "version_minor": 0
      },
      "text/plain": [
       "HBox(children=(FloatProgress(value=1.0, bar_style='info', description='Validating', layout=Layout(flex='2'), m…"
      ]
     },
     "metadata": {},
     "output_type": "display_data"
    },
    {
     "data": {
      "application/vnd.jupyter.widget-view+json": {
       "model_id": "",
       "version_major": 2,
       "version_minor": 0
      },
      "text/plain": [
       "HBox(children=(FloatProgress(value=1.0, bar_style='info', description='Validating', layout=Layout(flex='2'), m…"
      ]
     },
     "metadata": {},
     "output_type": "display_data"
    },
    {
     "data": {
      "application/vnd.jupyter.widget-view+json": {
       "model_id": "",
       "version_major": 2,
       "version_minor": 0
      },
      "text/plain": [
       "HBox(children=(FloatProgress(value=1.0, bar_style='info', description='Validating', layout=Layout(flex='2'), m…"
      ]
     },
     "metadata": {},
     "output_type": "display_data"
    }
   ],
   "source": [
    "params = {\n",
    "    'lr': 0.006592709565603905, \n",
    "    'scheduler_step_size': 0.4561185354366899, \n",
    "    'batch_size': 64, \n",
    "    'lr_type': 'sgd', \n",
    "    'scheduler_epoch': 7\n",
    "}\n",
    "parameters, trial_index = ax_client.attach_trial(params)\n",
    "ax_client.complete_trial(trial_index=trial_index, raw_data=train_evaluate(parameters))\n",
    "    "
   ]
  },
  {
   "cell_type": "code",
   "execution_count": null,
   "metadata": {
    "scrolled": false
   },
   "outputs": [],
   "source": [
    "total_number_of_trials = 100\n",
    "\n",
    "for params in list_existing_hparams:\n",
    "    parameters, trial_index = ax_client.attach_trial(params)\n",
    "    ax_client.complete_trial(trial_index=trial_index, raw_data=train_evaluate(parameters))\n",
    "    total_number_of_trials -= 1\n",
    "    \n",
    "for _ in range(total_number_of_trials - len(list_existing_hparams)):        \n",
    "    parameters, trial_index = ax_client.get_next_trial()\n",
    "    ax_client.complete_trial(trial_index=trial_index, raw_data=train_evaluate(parameters))\n",
    "    "
   ]
  },
  {
   "cell_type": "code",
   "execution_count": 6,
   "metadata": {},
   "outputs": [],
   "source": [
    "# args = {\n",
    "#     'batch_size': 64,\n",
    "#     'lr': 0.0004136762567284789,\n",
    "#     'lr_type': 'sgd',\n",
    "#     'scheduler_epoch': 7,\n",
    "#     'scheduler_step_size': 0.9465236907824874,\n",
    "# }\n",
    "\n",
    "# args['train_num_audios'] = 10\n",
    "# args['val_num_audios'] = 10\n",
    "# args['test_num_audios'] = 10\n",
    "# args['return_amp'] = True\n",
    "# args['num_workers'] = 10\n",
    "\n",
    "# hparams = Namespace(**args)"
   ]
  },
  {
   "cell_type": "code",
   "execution_count": 7,
   "metadata": {},
   "outputs": [
    {
     "data": {
      "text/plain": [
       "0.0004136762567284789"
      ]
     },
     "execution_count": 7,
     "metadata": {},
     "output_type": "execute_result"
    }
   ],
   "source": [
    "hparams.lr"
   ]
  },
  {
   "cell_type": "code",
   "execution_count": null,
   "metadata": {},
   "outputs": [
    {
     "name": "stderr",
     "output_type": "stream",
     "text": [
      "GPU available: True, used: True\n",
      "TPU available: False, using: 0 TPU cores\n",
      "CUDA_VISIBLE_DEVICES: [0,1,2,3,4]\n",
      "Set SLURM handle signals.\n",
      "\n",
      "  | Name      | Type        | Params\n",
      "------------------------------------------\n",
      "0 | model     | InversionV2 | 7 M   \n",
      "1 | criterion | MSELoss     | 0     \n"
     ]
    },
    {
     "data": {
      "application/vnd.jupyter.widget-view+json": {
       "model_id": "",
       "version_major": 2,
       "version_minor": 0
      },
      "text/plain": [
       "HBox(children=(FloatProgress(value=1.0, bar_style='info', description='Validation sanity check', layout=Layout…"
      ]
     },
     "metadata": {},
     "output_type": "display_data"
    },
    {
     "data": {
      "application/vnd.jupyter.widget-view+json": {
       "model_id": "48bd25b988d14a12a79a5f6272868f9e",
       "version_major": 2,
       "version_minor": 0
      },
      "text/plain": [
       "HBox(children=(FloatProgress(value=1.0, bar_style='info', description='Training', layout=Layout(flex='2'), max…"
      ]
     },
     "metadata": {},
     "output_type": "display_data"
    },
    {
     "data": {
      "application/vnd.jupyter.widget-view+json": {
       "model_id": "",
       "version_major": 2,
       "version_minor": 0
      },
      "text/plain": [
       "HBox(children=(FloatProgress(value=1.0, bar_style='info', description='Validating', layout=Layout(flex='2'), m…"
      ]
     },
     "metadata": {},
     "output_type": "display_data"
    },
    {
     "data": {
      "application/vnd.jupyter.widget-view+json": {
       "model_id": "",
       "version_major": 2,
       "version_minor": 0
      },
      "text/plain": [
       "HBox(children=(FloatProgress(value=1.0, bar_style='info', description='Validating', layout=Layout(flex='2'), m…"
      ]
     },
     "metadata": {},
     "output_type": "display_data"
    },
    {
     "data": {
      "application/vnd.jupyter.widget-view+json": {
       "model_id": "",
       "version_major": 2,
       "version_minor": 0
      },
      "text/plain": [
       "HBox(children=(FloatProgress(value=1.0, bar_style='info', description='Validating', layout=Layout(flex='2'), m…"
      ]
     },
     "metadata": {},
     "output_type": "display_data"
    },
    {
     "data": {
      "application/vnd.jupyter.widget-view+json": {
       "model_id": "",
       "version_major": 2,
       "version_minor": 0
      },
      "text/plain": [
       "HBox(children=(FloatProgress(value=1.0, bar_style='info', description='Validating', layout=Layout(flex='2'), m…"
      ]
     },
     "metadata": {},
     "output_type": "display_data"
    },
    {
     "data": {
      "application/vnd.jupyter.widget-view+json": {
       "model_id": "",
       "version_major": 2,
       "version_minor": 0
      },
      "text/plain": [
       "HBox(children=(FloatProgress(value=1.0, bar_style='info', description='Validating', layout=Layout(flex='2'), m…"
      ]
     },
     "metadata": {},
     "output_type": "display_data"
    },
    {
     "data": {
      "application/vnd.jupyter.widget-view+json": {
       "model_id": "9a10e19f97e84affa0ced8c6528893f3",
       "version_major": 2,
       "version_minor": 0
      },
      "text/plain": [
       "HBox(children=(FloatProgress(value=1.0, bar_style='info', description='Validating', layout=Layout(flex='2'), m…"
      ]
     },
     "metadata": {},
     "output_type": "display_data"
    }
   ],
   "source": [
    "seed_everything(123)\n",
    "\n",
    "model = AbstractModel(\n",
    "            hparams=hparams,\n",
    "            data_paths = data_paths, \n",
    "            dataset_model = AudioDataset,\n",
    "            model = InversionV3(), \n",
    "            criterion = nn.MSELoss()\n",
    "        )\n",
    "\n",
    "logger = TensorBoardLogger(checkpoint_path, name=experiment_name)\n",
    "    \n",
    "checkpoint_callback = ModelCheckpoint(\n",
    "    filepath=None,\n",
    "    save_top_k=True,\n",
    "    save_last = True,\n",
    "    verbose=False,\n",
    "    monitor='val_loss',\n",
    "    mode='min',\n",
    "    prefix=''\n",
    ")\n",
    "\n",
    "if torch.cuda.device_count() == 0:\n",
    "    print('cpu')\n",
    "    trainer = Trainer(\n",
    "        logger=logger,\n",
    "        row_log_interval=100,\n",
    "        log_save_interval=1000,\n",
    "        val_check_interval=0.25,\n",
    "        default_root_dir=checkpoint_path,\n",
    "        checkpoint_callback = checkpoint_callback,\n",
    "        max_epochs=100,\n",
    "        fast_dev_run=False\n",
    "    )\n",
    "else:\n",
    "    trainer = Trainer(\n",
    "        logger=logger,\n",
    "        row_log_interval=100,\n",
    "        log_save_interval=1000,\n",
    "        val_check_interval=0.25,\n",
    "        default_root_dir=checkpoint_path,\n",
    "        checkpoint_callback = checkpoint_callback,\n",
    "        gpus = -1,\n",
    "        distributed_backend='dp',\n",
    "        max_epochs=5,\n",
    "        fast_dev_run=False\n",
    "    )\n",
    "\n",
    "trainer.fit(model)\n",
    "trainer.test(model)"
   ]
  },
  {
   "cell_type": "code",
   "execution_count": null,
   "metadata": {},
   "outputs": [],
   "source": []
  }
 ],
 "metadata": {
  "kernelspec": {
   "display_name": "Python 3",
   "language": "python",
   "name": "python3"
  },
  "language_info": {
   "codemirror_mode": {
    "name": "ipython",
    "version": 3
   },
   "file_extension": ".py",
   "mimetype": "text/x-python",
   "name": "python",
   "nbconvert_exporter": "python",
   "pygments_lexer": "ipython3",
   "version": "3.7.7"
  }
 },
 "nbformat": 4,
 "nbformat_minor": 4
}
