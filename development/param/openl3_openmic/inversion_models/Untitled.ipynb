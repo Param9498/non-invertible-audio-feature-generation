{
 "cells": [
  {
   "cell_type": "code",
   "execution_count": 20,
   "metadata": {},
   "outputs": [],
   "source": [
    "from torch import nn\n",
    "import torch\n",
    "\n",
    "class Reshape(nn.Module):\n",
    "    def __init__(self, shape):\n",
    "        super(Reshape, self).__init__()\n",
    "        self.shape = shape\n",
    "\n",
    "    def forward(self, x):\n",
    "#         print(x.shape)\n",
    "        return x.view(-1, *self.shape)\n",
    "    \n",
    "class InversionV2(nn.Module):\n",
    "    def __init__(self):\n",
    "        super().__init__()\n",
    "        self.conv0 = nn.Sequential(\n",
    "            nn.Conv2d(512, 512, kernel_size=(3, 3), stride=(1, 1),padding=(1, 1), bias=False),\n",
    "            nn.ReLU(),\n",
    "            nn.BatchNorm2d(512, eps=1e-05, momentum=0.1, affine=True, track_running_stats=True),\n",
    "        )\n",
    "        self.conv1 = nn.Sequential(\n",
    "            nn.Conv2d(512, 512, kernel_size=(3, 3), stride=(1, 1),padding=(1, 1), bias=False),\n",
    "            nn.ReLU(),\n",
    "            nn.BatchNorm2d(512, eps=1e-05, momentum=0.1, affine=True, track_running_stats=True),\n",
    "        )\n",
    "        self.conv2 = nn.Sequential(\n",
    "            nn.Conv2d(512, 512, kernel_size=(3, 3), stride=(1, 1),padding=(1, 1), bias=False),\n",
    "            nn.ReLU(),\n",
    "            nn.BatchNorm2d(512, eps=1e-05, momentum=0.1, affine=True, track_running_stats=True)\n",
    "        )\n",
    "        self.stacked_conv1 = nn.Sequential(\n",
    "            nn.Conv2d(512*2, 512, kernel_size=(3, 3), stride=(1, 1),padding=(1, 1), bias=False),\n",
    "            nn.ReLU(),\n",
    "            nn.BatchNorm2d(512, eps=1e-05, momentum=0.1, affine=True, track_running_stats=True)\n",
    "        )\n",
    "        self.conv3 = nn.Sequential(\n",
    "            nn.Conv2d(512, 256, kernel_size=(3, 3), stride=(1, 1),padding=(1, 1), bias=False),\n",
    "            nn.ReLU(),\n",
    "            nn.BatchNorm2d(256, eps=1e-05, momentum=0.1, affine=True, track_running_stats=True),\n",
    "        )\n",
    "        self.conv4 = nn.Sequential(\n",
    "            nn.Conv2d(256, 256, kernel_size=(3, 3), stride=(1, 1),padding=(1, 1), bias=False),\n",
    "            nn.BatchNorm2d(256, eps=1e-05, momentum=0.1, affine=True, track_running_stats=True),\n",
    "            nn.ReLU(),\n",
    "        )\n",
    "        self.stacked_conv2 = nn.Sequential(\n",
    "            nn.Conv2d(256*2, 256, kernel_size=(3, 3), stride=(1, 1),padding=(1, 1), bias=False),\n",
    "            nn.ReLU(),\n",
    "            nn.BatchNorm2d(256, eps=1e-05, momentum=0.1, affine=True, track_running_stats=True)\n",
    "        )\n",
    "        self.conv5 = nn.Sequential(\n",
    "            nn.Conv2d(256, 256, kernel_size=(3, 3), stride=(1, 1),padding=(1, 1), bias=False),\n",
    "            nn.ReLU(),\n",
    "            nn.BatchNorm2d(256, eps=1e-05, momentum=0.1, affine=True, track_running_stats=True),\n",
    "        )\n",
    "        self.conv6 = nn.Sequential(\n",
    "            nn.Conv2d(256, 128, kernel_size=(3, 3), stride=(1, 1),padding=(1, 1), bias=False),\n",
    "            nn.ReLU(),\n",
    "            nn.BatchNorm2d(128, eps=1e-05, momentum=0.1, affine=True, track_running_stats=True),\n",
    "        )\n",
    "        self.conv7 = nn.Sequential(\n",
    "            nn.Conv2d(128, 128, kernel_size=(3, 3), stride=(1, 1),padding=(1, 1), bias=False),\n",
    "            nn.ReLU(),\n",
    "            nn.BatchNorm2d(128, eps=1e-05, momentum=0.1, affine=True, track_running_stats=True),\n",
    "        )\n",
    "        self.conv8 = nn.Sequential(\n",
    "            nn.Conv2d(128, 128, kernel_size=(3, 3), stride=(1, 1),padding=(1, 1), bias=False),\n",
    "            nn.ReLU(),\n",
    "            nn.BatchNorm2d(128, eps=1e-05, momentum=0.1, affine=True, track_running_stats=True),\n",
    "        )\n",
    "        self.stacked_conv3 = nn.Sequential(\n",
    "            nn.Conv2d(128*2, 128, kernel_size=(3, 3), stride=(1, 1),padding=(1, 1), bias=False),\n",
    "            nn.ReLU(),\n",
    "            nn.BatchNorm2d(128, eps=1e-05, momentum=0.1, affine=True, track_running_stats=True)\n",
    "        )\n",
    "        self.conv9 = nn.Sequential(\n",
    "            nn.Conv2d(128, 64, kernel_size=(3, 3), stride=(1, 1),padding=(1, 1), bias=False),\n",
    "            nn.ReLU(),\n",
    "            nn.BatchNorm2d(64, eps=1e-05, momentum=0.1, affine=True, track_running_stats=True),\n",
    "        )\n",
    "        self.conv10 = nn.Sequential(\n",
    "            nn.Conv2d(64, 64, kernel_size=(3, 3), stride=(1, 1),padding=(1, 1), bias=False),\n",
    "            nn.ReLU(),\n",
    "            nn.BatchNorm2d(64, eps=1e-05, momentum=0.1, affine=True, track_running_stats=True),\n",
    "        )\n",
    "        self.conv11 = nn.Sequential(\n",
    "            nn.Conv2d(64, 64, kernel_size=(3, 3), stride=(1, 1),padding=(1, 1), bias=False),\n",
    "            nn.ReLU(),\n",
    "            nn.BatchNorm2d(64, eps=1e-05, momentum=0.1, affine=True, track_running_stats=True),\n",
    "        )\n",
    "        self.stacked_conv4 = nn.Sequential(\n",
    "            nn.Conv2d(64*2, 64, kernel_size=(3, 3), stride=(1, 1),padding=(1, 1), bias=False),\n",
    "            nn.ReLU(),\n",
    "            nn.BatchNorm2d(64, eps=1e-05, momentum=0.1, affine=True, track_running_stats=True)\n",
    "        )\n",
    "        self.conv12 = nn.Sequential(\n",
    "            nn.Conv2d(64, 1, kernel_size=(3, 3), stride=(1, 1),padding=(1, 1), bias=False),\n",
    "        )\n",
    "\n",
    "    def forward(self, x):\n",
    "        x = Reshape((512, 4, 3))(x)\n",
    "        \n",
    "        x = self.conv0(x)\n",
    "        \n",
    "        x = nn.Upsample(size=(16, 24))(x)\n",
    "        x1 = self.conv1(x)\n",
    "        x2 = self.conv2(x1)\n",
    "        x = torch.cat([x1, x2], dim=1)\n",
    "        x = self.stacked_conv1(x)\n",
    "        \n",
    "        \n",
    "        x1 = self.conv3(x)\n",
    "        x2 = self.conv4(x1)\n",
    "        x = torch.cat([x1, x2], dim=1)\n",
    "        \n",
    "        x = self.stacked_conv2(x)\n",
    "        \n",
    "        x = nn.Upsample(size=(32, 49))(x)\n",
    "        x = self.conv5(x)\n",
    "        x = self.conv6(x)\n",
    "        \n",
    "        x = nn.Upsample(size=(64, 99))(x)\n",
    "        x1 = self.conv7(x)\n",
    "        x2 = self.conv8(x1)\n",
    "        x = torch.cat([x1, x2], dim=1)\n",
    "        \n",
    "        x = self.stacked_conv3(x)\n",
    "        \n",
    "        x = self.conv9(x)\n",
    "        \n",
    "        x = nn.Upsample(size=(128, 199))(x)\n",
    "        x1 = self.conv10(x)\n",
    "        x2 = self.conv11(x1)\n",
    "        x = torch.cat([x1, x2], dim=1)\n",
    "        \n",
    "        x = self.stacked_conv4(x)\n",
    "        \n",
    "        x = self.conv12(x)\n",
    "        return x"
   ]
  },
  {
   "cell_type": "code",
   "execution_count": 21,
   "metadata": {},
   "outputs": [
    {
     "name": "stdout",
     "output_type": "stream",
     "text": [
      "----------------------------------------------------------------\n",
      "        Layer (type)               Output Shape         Param #\n",
      "================================================================\n",
      "            Conv2d-1            [-1, 512, 4, 3]       2,359,296\n",
      "              ReLU-2            [-1, 512, 4, 3]               0\n",
      "       BatchNorm2d-3            [-1, 512, 4, 3]           1,024\n",
      "            Conv2d-4          [-1, 512, 16, 24]       2,359,296\n",
      "              ReLU-5          [-1, 512, 16, 24]               0\n",
      "       BatchNorm2d-6          [-1, 512, 16, 24]           1,024\n",
      "            Conv2d-7          [-1, 512, 16, 24]       2,359,296\n",
      "              ReLU-8          [-1, 512, 16, 24]               0\n",
      "       BatchNorm2d-9          [-1, 512, 16, 24]           1,024\n",
      "           Conv2d-10          [-1, 512, 16, 24]       4,718,592\n",
      "             ReLU-11          [-1, 512, 16, 24]               0\n",
      "      BatchNorm2d-12          [-1, 512, 16, 24]           1,024\n",
      "           Conv2d-13          [-1, 256, 16, 24]       1,179,648\n",
      "             ReLU-14          [-1, 256, 16, 24]               0\n",
      "      BatchNorm2d-15          [-1, 256, 16, 24]             512\n",
      "           Conv2d-16          [-1, 256, 16, 24]         589,824\n",
      "      BatchNorm2d-17          [-1, 256, 16, 24]             512\n",
      "             ReLU-18          [-1, 256, 16, 24]               0\n",
      "           Conv2d-19          [-1, 256, 16, 24]       1,179,648\n",
      "             ReLU-20          [-1, 256, 16, 24]               0\n",
      "      BatchNorm2d-21          [-1, 256, 16, 24]             512\n",
      "           Conv2d-22          [-1, 256, 32, 49]         589,824\n",
      "             ReLU-23          [-1, 256, 32, 49]               0\n",
      "      BatchNorm2d-24          [-1, 256, 32, 49]             512\n",
      "           Conv2d-25          [-1, 128, 32, 49]         294,912\n",
      "             ReLU-26          [-1, 128, 32, 49]               0\n",
      "      BatchNorm2d-27          [-1, 128, 32, 49]             256\n",
      "           Conv2d-28          [-1, 128, 64, 99]         147,456\n",
      "             ReLU-29          [-1, 128, 64, 99]               0\n",
      "      BatchNorm2d-30          [-1, 128, 64, 99]             256\n",
      "           Conv2d-31          [-1, 128, 64, 99]         147,456\n",
      "             ReLU-32          [-1, 128, 64, 99]               0\n",
      "      BatchNorm2d-33          [-1, 128, 64, 99]             256\n",
      "           Conv2d-34          [-1, 128, 64, 99]         294,912\n",
      "             ReLU-35          [-1, 128, 64, 99]               0\n",
      "      BatchNorm2d-36          [-1, 128, 64, 99]             256\n",
      "           Conv2d-37           [-1, 64, 64, 99]          73,728\n",
      "             ReLU-38           [-1, 64, 64, 99]               0\n",
      "      BatchNorm2d-39           [-1, 64, 64, 99]             128\n",
      "           Conv2d-40         [-1, 64, 128, 199]          36,864\n",
      "             ReLU-41         [-1, 64, 128, 199]               0\n",
      "      BatchNorm2d-42         [-1, 64, 128, 199]             128\n",
      "           Conv2d-43         [-1, 64, 128, 199]          36,864\n",
      "             ReLU-44         [-1, 64, 128, 199]               0\n",
      "      BatchNorm2d-45         [-1, 64, 128, 199]             128\n",
      "           Conv2d-46         [-1, 64, 128, 199]          73,728\n",
      "             ReLU-47         [-1, 64, 128, 199]               0\n",
      "      BatchNorm2d-48         [-1, 64, 128, 199]             128\n",
      "           Conv2d-49          [-1, 1, 128, 199]             576\n",
      "================================================================\n",
      "Total params: 16,449,600\n",
      "Trainable params: 16,449,600\n",
      "Non-trainable params: 0\n",
      "----------------------------------------------------------------\n",
      "Input size (MB): 0.02\n",
      "Forward/backward pass size (MB): 211.27\n",
      "Params size (MB): 62.75\n",
      "Estimated Total Size (MB): 274.05\n",
      "----------------------------------------------------------------\n"
     ]
    }
   ],
   "source": [
    "from torchsummary import summary\n",
    "model = InversionV2()\n",
    "summary(model, input_size=(1, 6144))"
   ]
  },
  {
   "cell_type": "code",
   "execution_count": null,
   "metadata": {},
   "outputs": [],
   "source": [
    "from torch import nn\n",
    "import torch\n",
    "\n",
    "class Reshape(nn.Module):\n",
    "    def __init__(self, shape):\n",
    "        super(Reshape, self).__init__()\n",
    "        self.shape = shape\n",
    "\n",
    "    def forward(self, x):\n",
    "#         print(x.shape)\n",
    "        return x.view(-1, *self.shape)\n",
    "    \n",
    "class InversionV3(nn.Module):\n",
    "    def __init__(self):\n",
    "        super().__init__()\n",
    "        \n",
    "        self.conv1 = nn.Sequential(\n",
    "            nn.Conv2d(512, 512, kernel_size=(3, 3), stride=(1, 1),padding=(1, 1), bias=False),\n",
    "            nn.ReLU(),\n",
    "            nn.BatchNorm2d(512, eps=1e-05, momentum=0.1, affine=True, track_running_stats=True),\n",
    "        )\n",
    "        self.conv2 = nn.Sequential(\n",
    "            nn.Conv2d(512, 512, kernel_size=(3, 3), stride=(1, 1),padding=(1, 1), bias=False),\n",
    "            nn.ReLU(),\n",
    "            nn.BatchNorm2d(512, eps=1e-05, momentum=0.1, affine=True, track_running_stats=True)\n",
    "        )\n",
    "        self.conv3 = nn.Sequential(\n",
    "            nn.Conv2d(512, 256, kernel_size=(3, 3), stride=(1, 1),padding=(1, 1), bias=False),\n",
    "            nn.ReLU(),\n",
    "            nn.BatchNorm2d(256, eps=1e-05, momentum=0.1, affine=True, track_running_stats=True),\n",
    "        )\n",
    "        self.conv4 = nn.Sequential(\n",
    "            nn.Conv2d(256, 256, kernel_size=(3, 3), stride=(1, 1),padding=(1, 1), bias=False),\n",
    "            nn.BatchNorm2d(256, eps=1e-05, momentum=0.1, affine=True, track_running_stats=True),\n",
    "            nn.ReLU(),\n",
    "        )\n",
    "        self.conv5 = nn.Sequential(\n",
    "            nn.Conv2d(256, 256, kernel_size=(3, 3), stride=(1, 1),padding=(1, 1), bias=False),\n",
    "            nn.ReLU(),\n",
    "            nn.BatchNorm2d(256, eps=1e-05, momentum=0.1, affine=True, track_running_stats=True),\n",
    "        )\n",
    "        self.conv6 = nn.Sequential(\n",
    "            nn.Conv2d(256, 128, kernel_size=(3, 3), stride=(1, 1),padding=(1, 1), bias=False),\n",
    "            nn.ReLU(),\n",
    "            nn.BatchNorm2d(128, eps=1e-05, momentum=0.1, affine=True, track_running_stats=True),\n",
    "        )\n",
    "        self.conv7 = nn.Sequential(\n",
    "            nn.Conv2d(128, 128, kernel_size=(3, 3), stride=(1, 1),padding=(1, 1), bias=False),\n",
    "            nn.ReLU(),\n",
    "            nn.BatchNorm2d(128, eps=1e-05, momentum=0.1, affine=True, track_running_stats=True),\n",
    "        )\n",
    "        self.conv8 = nn.Sequential(\n",
    "            nn.Conv2d(128, 128, kernel_size=(3, 3), stride=(1, 1),padding=(1, 1), bias=False),\n",
    "            nn.ReLU(),\n",
    "            nn.BatchNorm2d(128, eps=1e-05, momentum=0.1, affine=True, track_running_stats=True),\n",
    "        )\n",
    "        self.conv9 = nn.Sequential(\n",
    "            nn.Conv2d(128, 64, kernel_size=(3, 3), stride=(1, 1),padding=(1, 1), bias=False),\n",
    "            nn.ReLU(),\n",
    "            nn.BatchNorm2d(64, eps=1e-05, momentum=0.1, affine=True, track_running_stats=True),\n",
    "        )\n",
    "        self.conv10 = nn.Sequential(\n",
    "            nn.Conv2d(64, 64, kernel_size=(3, 3), stride=(1, 1),padding=(1, 1), bias=False),\n",
    "            nn.ReLU(),\n",
    "            nn.BatchNorm2d(64, eps=1e-05, momentum=0.1, affine=True, track_running_stats=True),\n",
    "        )\n",
    "        self.conv11 = nn.Sequential(\n",
    "            nn.Conv2d(64, 64, kernel_size=(3, 3), stride=(1, 1),padding=(1, 1), bias=False),\n",
    "            nn.ReLU(),\n",
    "            nn.BatchNorm2d(64, eps=1e-05, momentum=0.1, affine=True, track_running_stats=True),\n",
    "        )\n",
    "        self.conv12 = nn.Sequential(\n",
    "            nn.Conv2d(64, 1, kernel_size=(3, 3), stride=(1, 1),padding=(1, 1), bias=False),\n",
    "        )\n",
    "\n",
    "    def forward(self, x):\n",
    "        x = Reshape((512, 4, 3))(x)\n",
    "        x = nn.Upsample(size=(16, 24))(x)\n",
    "        x1 = self.conv1(x)\n",
    "        x2 = self.conv2(x1)\n",
    "        x = x1+x2\n",
    "        \n",
    "        x1 = self.conv3(x)\n",
    "        x2 = self.conv4(x1)\n",
    "        x = x1+x2\n",
    "        \n",
    "        x = nn.Upsample(size=(32, 49))(x)\n",
    "        x = self.conv5(x)\n",
    "        x = self.conv6(x)\n",
    "        \n",
    "        x = nn.Upsample(size=(64, 99))(x)\n",
    "        x1 = self.conv7(x)\n",
    "        x2 = self.conv8(x1)\n",
    "        x = x1+x2\n",
    "        x = self.conv9(x)\n",
    "        \n",
    "        x = nn.Upsample(size=(128, 199))(x)\n",
    "        x1 = self.conv10(x)\n",
    "        x2 = self.conv11(x1)\n",
    "        x = x1+x2\n",
    "        x = self.conv12(x)\n",
    "        \n",
    "#         print(x.shape)\n",
    "        \n",
    "#         x = self.model(x)\n",
    "        return x"
   ]
  },
  {
   "cell_type": "code",
   "execution_count": null,
   "metadata": {},
   "outputs": [],
   "source": []
  },
  {
   "cell_type": "code",
   "execution_count": 17,
   "metadata": {},
   "outputs": [],
   "source": [
    "import dataloaders.audio_dataset as dataset\n",
    "import numpy as np"
   ]
  },
  {
   "cell_type": "code",
   "execution_count": 18,
   "metadata": {},
   "outputs": [],
   "source": [
    "AudioDataset = dataset.AudioDataset\n",
    "audio_dataset = AudioDataset('/scratch/prs392/incubator/data/LibriSpeech/train-clean-360')"
   ]
  },
  {
   "cell_type": "code",
   "execution_count": 50,
   "metadata": {},
   "outputs": [],
   "source": [
    "import os\n",
    "import random\n",
    "\n",
    "import torch\n",
    "from torch.utils.data import Dataset\n",
    "# import torchaudio.functional as F\n",
    "\n",
    "import numpy as np\n",
    "import pandas as pd\n",
    "\n",
    "# import tqdm\n",
    "\n",
    "\n",
    "def binarySearch(data, val):\n",
    "    highIndex = len(data)-1\n",
    "    lowIndex = 0\n",
    "    while highIndex > lowIndex:\n",
    "            index = (highIndex + lowIndex) // 2\n",
    "            sub = data[index]\n",
    "            if data[lowIndex] == val:\n",
    "                    return [lowIndex, lowIndex]\n",
    "            elif sub == val:\n",
    "                    return [index, index]\n",
    "            elif data[highIndex] == val:\n",
    "                    return [highIndex, highIndex]\n",
    "            elif sub > val:\n",
    "                    if highIndex == index:\n",
    "                            return sorted([highIndex, lowIndex])\n",
    "                    highIndex = index\n",
    "            else:\n",
    "                    if lowIndex == index:\n",
    "                            return sorted([highIndex, lowIndex])\n",
    "                    lowIndex = index\n",
    "    return sorted([highIndex, lowIndex])\n",
    "\n",
    "\n",
    "class AudioDataset(Dataset):\n",
    "\n",
    "    def __init__(self, root_dir, transform=None, num_audios = -1, return_amp = True):\n",
    "        \n",
    "        self.root_dir = root_dir\n",
    "        self.embeddings_dir = os.path.join(self.root_dir, 'embeddings_6144')\n",
    "        # self.spectrograms_dir = os.path.join(self.root_dir, 'spectrograms')\n",
    "        self.transform = transform\n",
    "        self.num_audios = num_audios\n",
    "        self.return_amp = return_amp\n",
    "        \n",
    "        self.df = pd.read_csv(os.path.join(root_dir, 'number_of_frames_per_audio.csv'))\n",
    "        if num_audios > 0 and isinstance(num_audios, int):\n",
    "            self.df = self.df.head(num_audios)\n",
    "        self.cumulative_sum = self.df['number_of_frames'].cumsum()\n",
    "                \n",
    "    def __len__(self):\n",
    "        return self.df['number_of_frames'].sum()\n",
    "\n",
    "    def __getitem__(self, idx):\n",
    "        \n",
    "        low_index, high_index = binarySearch(self.cumulative_sum, idx+1)\n",
    "        file_name = self.df.iloc[high_index]['file_name']\n",
    "        emb_path = os.path.join(self.embeddings_dir, file_name)        \n",
    "        # spec_path = os.path.join(self.spectrograms_dir, file_name)\n",
    "        \n",
    "        if low_index == 0 and high_index == 0:\n",
    "            frame_idx = idx\n",
    "        else:\n",
    "            frame_idx = idx - self.cumulative_sum[low_index]\n",
    "        \n",
    "        with open(emb_path, 'rb') as f:\n",
    "            emb = np.load(f)\n",
    "        \n",
    "        return emb[idx], file_name\n",
    "\n",
    "        # with open(spec_path, 'rb') as f:\n",
    "        #     spec = np.load(f)\n",
    "        \n",
    "\n",
    "\n",
    "        # emb_tensor = torch.from_numpy(emb[frame_idx])\n",
    "        # spec_tensor = torch.from_numpy(spec[frame_idx]).permute(2, 0, 1)\n",
    "                \n",
    "        # if self.return_amp is True:\n",
    "        #     spec_tensor_amp = F.DB_to_amplitude(x = spec_tensor, ref = 1, power = 0.5)\n",
    "        #     return emb_tensor, spec_tensor_amp, torch.tensor(frame_idx)\n",
    "        \n",
    "        # else:\n",
    "        #     return emb_tensor, spec_tensor, torch.tensor(frame_idx)\n"
   ]
  },
  {
   "cell_type": "code",
   "execution_count": 51,
   "metadata": {},
   "outputs": [],
   "source": [
    "audio_dataset = AudioDataset('/scratch/prs392/incubator/data/LibriSpeech/train-clean-360')"
   ]
  },
  {
   "cell_type": "code",
   "execution_count": 52,
   "metadata": {},
   "outputs": [
    {
     "name": "stdout",
     "output_type": "stream",
     "text": [
      "6567-53342-0017.npy\n",
      "6567-53342-0017.npy\n",
      "6567-53342-0017.npy\n",
      "6567-53342-0017.npy\n",
      "6567-53342-0017.npy\n",
      "6567-53342-0017.npy\n",
      "6567-53342-0017.npy\n",
      "6567-53342-0017.npy\n",
      "6567-53342-0017.npy\n",
      "6567-53342-0017.npy\n",
      "6567-53342-0017.npy\n"
     ]
    }
   ],
   "source": [
    "list_of_embs = []\n",
    "for i in range(len(audio_dataset)):\n",
    "    emb, file = audio_dataset[i]\n",
    "    print(file)\n",
    "    list_of_embs.append(emb)\n",
    "    if i == 10:\n",
    "        break"
   ]
  },
  {
   "cell_type": "code",
   "execution_count": 53,
   "metadata": {},
   "outputs": [
    {
     "data": {
      "text/plain": [
       "(6144,)"
      ]
     },
     "execution_count": 53,
     "metadata": {},
     "output_type": "execute_result"
    }
   ],
   "source": [
    "list_of_embs[0].shape"
   ]
  },
  {
   "cell_type": "code",
   "execution_count": 54,
   "metadata": {},
   "outputs": [
    {
     "data": {
      "text/plain": [
       "False"
      ]
     },
     "execution_count": 54,
     "metadata": {},
     "output_type": "execute_result"
    }
   ],
   "source": [
    "(list_of_embs[0] == list_of_embs[1]).all()"
   ]
  },
  {
   "cell_type": "code",
   "execution_count": 55,
   "metadata": {},
   "outputs": [],
   "source": [
    "def l1_norm(a,b):\n",
    "    return sum(map(lambda a:abs(a[0]-a[1]), zip(a,b)))"
   ]
  },
  {
   "cell_type": "code",
   "execution_count": 56,
   "metadata": {},
   "outputs": [
    {
     "data": {
      "text/plain": [
       "1047.5116952792741"
      ]
     },
     "execution_count": 56,
     "metadata": {},
     "output_type": "execute_result"
    }
   ],
   "source": [
    "dist = l1_norm(list_of_embs[0], list_of_embs[1])\n",
    "dist"
   ]
  },
  {
   "cell_type": "code",
   "execution_count": 31,
   "metadata": {},
   "outputs": [
    {
     "data": {
      "text/plain": [
       "904.6283872451168"
      ]
     },
     "execution_count": 31,
     "metadata": {},
     "output_type": "execute_result"
    }
   ],
   "source": [
    "dist = l1_norm(list_of_embs[1], list_of_embs[2])\n",
    "dist"
   ]
  },
  {
   "cell_type": "code",
   "execution_count": 32,
   "metadata": {},
   "outputs": [
    {
     "data": {
      "text/plain": [
       "1238.1193534955382"
      ]
     },
     "execution_count": 32,
     "metadata": {},
     "output_type": "execute_result"
    }
   ],
   "source": [
    "dist = l1_norm(list_of_embs[3], list_of_embs[4])\n",
    "dist"
   ]
  },
  {
   "cell_type": "code",
   "execution_count": 14,
   "metadata": {},
   "outputs": [
    {
     "data": {
      "text/plain": [
       "False"
      ]
     },
     "execution_count": 14,
     "metadata": {},
     "output_type": "execute_result"
    }
   ],
   "source": [
    "list_of_embs[0] == list_of_embs[1]"
   ]
  },
  {
   "cell_type": "code",
   "execution_count": 6,
   "metadata": {},
   "outputs": [
    {
     "data": {
      "text/plain": [
       "torch.Size([1, 128, 199])"
      ]
     },
     "execution_count": 6,
     "metadata": {},
     "output_type": "execute_result"
    }
   ],
   "source": [
    "spec.shape"
   ]
  },
  {
   "cell_type": "code",
   "execution_count": null,
   "metadata": {},
   "outputs": [],
   "source": []
  }
 ],
 "metadata": {
  "kernelspec": {
   "display_name": "Python 3",
   "language": "python",
   "name": "python3"
  },
  "language_info": {
   "codemirror_mode": {
    "name": "ipython",
    "version": 3
   },
   "file_extension": ".py",
   "mimetype": "text/x-python",
   "name": "python",
   "nbconvert_exporter": "python",
   "pygments_lexer": "ipython3",
   "version": "3.7.7"
  }
 },
 "nbformat": 4,
 "nbformat_minor": 4
}
